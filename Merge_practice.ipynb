{
  "nbformat": 4,
  "nbformat_minor": 0,
  "metadata": {
    "colab": {
      "name": "Untitled0.ipynb",
      "provenance": [],
      "authorship_tag": "ABX9TyMc4meHakX0kFkQKsKFPJw9",
      "include_colab_link": true
    },
    "kernelspec": {
      "name": "python3",
      "display_name": "Python 3"
    }
  },
  "cells": [
    {
      "cell_type": "markdown",
      "metadata": {
        "id": "view-in-github",
        "colab_type": "text"
      },
      "source": [
        "<a href=\"https://colab.research.google.com/github/a-dhingra/JupyterNotebooks/blob/master/Merge_practice.ipynb\" target=\"_parent\"><img src=\"https://colab.research.google.com/assets/colab-badge.svg\" alt=\"Open In Colab\"/></a>"
      ]
    },
    {
      "cell_type": "code",
      "metadata": {
        "id": "a1iC4-J-gAju"
      },
      "source": [
        "import pandas as pd\r\n",
        "import numpy as np"
      ],
      "execution_count": 127,
      "outputs": []
    },
    {
      "cell_type": "code",
      "metadata": {
        "colab": {
          "base_uri": "https://localhost:8080/",
          "height": 202
        },
        "id": "G3yux20RgDzH",
        "outputId": "dcb4f0da-d077-42c5-e1bd-aa2958b63380"
      },
      "source": [
        "# CREATE 2 DATAFRAMES\r\n",
        "df1 = pd.DataFrame(np.random.randn(5,4), columns=list('ABCD'))\r\n",
        "df1 = df1*100000\r\n",
        "pd.options.display.max_colwidth = 200\r\n",
        "pd.options.display.float_format = '{:.2f}'.format\r\n",
        "df1['A'] = df1['A']*10\r\n",
        "df1.head()"
      ],
      "execution_count": 128,
      "outputs": [
        {
          "output_type": "execute_result",
          "data": {
            "text/html": [
              "<div>\n",
              "<style scoped>\n",
              "    .dataframe tbody tr th:only-of-type {\n",
              "        vertical-align: middle;\n",
              "    }\n",
              "\n",
              "    .dataframe tbody tr th {\n",
              "        vertical-align: top;\n",
              "    }\n",
              "\n",
              "    .dataframe thead th {\n",
              "        text-align: right;\n",
              "    }\n",
              "</style>\n",
              "<table border=\"1\" class=\"dataframe\">\n",
              "  <thead>\n",
              "    <tr style=\"text-align: right;\">\n",
              "      <th></th>\n",
              "      <th>A</th>\n",
              "      <th>B</th>\n",
              "      <th>C</th>\n",
              "      <th>D</th>\n",
              "    </tr>\n",
              "  </thead>\n",
              "  <tbody>\n",
              "    <tr>\n",
              "      <th>0</th>\n",
              "      <td>-703418.42</td>\n",
              "      <td>-14412.42</td>\n",
              "      <td>30592.12</td>\n",
              "      <td>-85917.93</td>\n",
              "    </tr>\n",
              "    <tr>\n",
              "      <th>1</th>\n",
              "      <td>-2159000.79</td>\n",
              "      <td>36690.50</td>\n",
              "      <td>59096.57</td>\n",
              "      <td>-182989.92</td>\n",
              "    </tr>\n",
              "    <tr>\n",
              "      <th>2</th>\n",
              "      <td>-984424.38</td>\n",
              "      <td>-141659.99</td>\n",
              "      <td>-123049.31</td>\n",
              "      <td>176645.95</td>\n",
              "    </tr>\n",
              "    <tr>\n",
              "      <th>3</th>\n",
              "      <td>2071207.37</td>\n",
              "      <td>83684.25</td>\n",
              "      <td>15048.45</td>\n",
              "      <td>-26441.87</td>\n",
              "    </tr>\n",
              "    <tr>\n",
              "      <th>4</th>\n",
              "      <td>1317197.71</td>\n",
              "      <td>-93815.95</td>\n",
              "      <td>155418.71</td>\n",
              "      <td>84202.92</td>\n",
              "    </tr>\n",
              "  </tbody>\n",
              "</table>\n",
              "</div>"
            ],
            "text/plain": [
              "            A          B          C          D\n",
              "0  -703418.42  -14412.42   30592.12  -85917.93\n",
              "1 -2159000.79   36690.50   59096.57 -182989.92\n",
              "2  -984424.38 -141659.99 -123049.31  176645.95\n",
              "3  2071207.37   83684.25   15048.45  -26441.87\n",
              "4  1317197.71  -93815.95  155418.71   84202.92"
            ]
          },
          "metadata": {
            "tags": []
          },
          "execution_count": 128
        }
      ]
    },
    {
      "cell_type": "code",
      "metadata": {
        "colab": {
          "base_uri": "https://localhost:8080/"
        },
        "id": "qsFmyvO2i4gj",
        "outputId": "b7bfa023-8290-4bdd-d81c-5f537f8a00f8"
      },
      "source": [
        "df1.dtypes"
      ],
      "execution_count": 129,
      "outputs": [
        {
          "output_type": "execute_result",
          "data": {
            "text/plain": [
              "A    float64\n",
              "B    float64\n",
              "C    float64\n",
              "D    float64\n",
              "dtype: object"
            ]
          },
          "metadata": {
            "tags": []
          },
          "execution_count": 129
        }
      ]
    },
    {
      "cell_type": "code",
      "metadata": {
        "colab": {
          "base_uri": "https://localhost:8080/",
          "height": 202
        },
        "id": "TZFE5ze9gXMJ",
        "outputId": "09183e33-7ebf-41e7-e0ff-d789dab65dc0"
      },
      "source": [
        "df1['A'] = df1['A'].apply(lambda x:x*(-1) if x < 0.0 else x)\r\n",
        "df1.head()"
      ],
      "execution_count": 130,
      "outputs": [
        {
          "output_type": "execute_result",
          "data": {
            "text/html": [
              "<div>\n",
              "<style scoped>\n",
              "    .dataframe tbody tr th:only-of-type {\n",
              "        vertical-align: middle;\n",
              "    }\n",
              "\n",
              "    .dataframe tbody tr th {\n",
              "        vertical-align: top;\n",
              "    }\n",
              "\n",
              "    .dataframe thead th {\n",
              "        text-align: right;\n",
              "    }\n",
              "</style>\n",
              "<table border=\"1\" class=\"dataframe\">\n",
              "  <thead>\n",
              "    <tr style=\"text-align: right;\">\n",
              "      <th></th>\n",
              "      <th>A</th>\n",
              "      <th>B</th>\n",
              "      <th>C</th>\n",
              "      <th>D</th>\n",
              "    </tr>\n",
              "  </thead>\n",
              "  <tbody>\n",
              "    <tr>\n",
              "      <th>0</th>\n",
              "      <td>703418.42</td>\n",
              "      <td>-14412.42</td>\n",
              "      <td>30592.12</td>\n",
              "      <td>-85917.93</td>\n",
              "    </tr>\n",
              "    <tr>\n",
              "      <th>1</th>\n",
              "      <td>2159000.79</td>\n",
              "      <td>36690.50</td>\n",
              "      <td>59096.57</td>\n",
              "      <td>-182989.92</td>\n",
              "    </tr>\n",
              "    <tr>\n",
              "      <th>2</th>\n",
              "      <td>984424.38</td>\n",
              "      <td>-141659.99</td>\n",
              "      <td>-123049.31</td>\n",
              "      <td>176645.95</td>\n",
              "    </tr>\n",
              "    <tr>\n",
              "      <th>3</th>\n",
              "      <td>2071207.37</td>\n",
              "      <td>83684.25</td>\n",
              "      <td>15048.45</td>\n",
              "      <td>-26441.87</td>\n",
              "    </tr>\n",
              "    <tr>\n",
              "      <th>4</th>\n",
              "      <td>1317197.71</td>\n",
              "      <td>-93815.95</td>\n",
              "      <td>155418.71</td>\n",
              "      <td>84202.92</td>\n",
              "    </tr>\n",
              "  </tbody>\n",
              "</table>\n",
              "</div>"
            ],
            "text/plain": [
              "           A          B          C          D\n",
              "0  703418.42  -14412.42   30592.12  -85917.93\n",
              "1 2159000.79   36690.50   59096.57 -182989.92\n",
              "2  984424.38 -141659.99 -123049.31  176645.95\n",
              "3 2071207.37   83684.25   15048.45  -26441.87\n",
              "4 1317197.71  -93815.95  155418.71   84202.92"
            ]
          },
          "metadata": {
            "tags": []
          },
          "execution_count": 130
        }
      ]
    },
    {
      "cell_type": "code",
      "metadata": {
        "colab": {
          "base_uri": "https://localhost:8080/",
          "height": 202
        },
        "id": "bkurK-Vbimt_",
        "outputId": "defece78-1fdc-41da-8b18-d49f3b2e6ee3"
      },
      "source": [
        "df1['A'] = ['CAT','BAT','RAT','DOG','COW']\r\n",
        "df1"
      ],
      "execution_count": 131,
      "outputs": [
        {
          "output_type": "execute_result",
          "data": {
            "text/html": [
              "<div>\n",
              "<style scoped>\n",
              "    .dataframe tbody tr th:only-of-type {\n",
              "        vertical-align: middle;\n",
              "    }\n",
              "\n",
              "    .dataframe tbody tr th {\n",
              "        vertical-align: top;\n",
              "    }\n",
              "\n",
              "    .dataframe thead th {\n",
              "        text-align: right;\n",
              "    }\n",
              "</style>\n",
              "<table border=\"1\" class=\"dataframe\">\n",
              "  <thead>\n",
              "    <tr style=\"text-align: right;\">\n",
              "      <th></th>\n",
              "      <th>A</th>\n",
              "      <th>B</th>\n",
              "      <th>C</th>\n",
              "      <th>D</th>\n",
              "    </tr>\n",
              "  </thead>\n",
              "  <tbody>\n",
              "    <tr>\n",
              "      <th>0</th>\n",
              "      <td>CAT</td>\n",
              "      <td>-14412.42</td>\n",
              "      <td>30592.12</td>\n",
              "      <td>-85917.93</td>\n",
              "    </tr>\n",
              "    <tr>\n",
              "      <th>1</th>\n",
              "      <td>BAT</td>\n",
              "      <td>36690.50</td>\n",
              "      <td>59096.57</td>\n",
              "      <td>-182989.92</td>\n",
              "    </tr>\n",
              "    <tr>\n",
              "      <th>2</th>\n",
              "      <td>RAT</td>\n",
              "      <td>-141659.99</td>\n",
              "      <td>-123049.31</td>\n",
              "      <td>176645.95</td>\n",
              "    </tr>\n",
              "    <tr>\n",
              "      <th>3</th>\n",
              "      <td>DOG</td>\n",
              "      <td>83684.25</td>\n",
              "      <td>15048.45</td>\n",
              "      <td>-26441.87</td>\n",
              "    </tr>\n",
              "    <tr>\n",
              "      <th>4</th>\n",
              "      <td>COW</td>\n",
              "      <td>-93815.95</td>\n",
              "      <td>155418.71</td>\n",
              "      <td>84202.92</td>\n",
              "    </tr>\n",
              "  </tbody>\n",
              "</table>\n",
              "</div>"
            ],
            "text/plain": [
              "     A          B          C          D\n",
              "0  CAT  -14412.42   30592.12  -85917.93\n",
              "1  BAT   36690.50   59096.57 -182989.92\n",
              "2  RAT -141659.99 -123049.31  176645.95\n",
              "3  DOG   83684.25   15048.45  -26441.87\n",
              "4  COW  -93815.95  155418.71   84202.92"
            ]
          },
          "metadata": {
            "tags": []
          },
          "execution_count": 131
        }
      ]
    },
    {
      "cell_type": "code",
      "metadata": {
        "colab": {
          "base_uri": "https://localhost:8080/",
          "height": 233
        },
        "id": "HQt9yjOgkZ_3",
        "outputId": "e5c99580-6eb4-4750-8f4d-4ad4400bca9a"
      },
      "source": [
        "df1.set_index('A')"
      ],
      "execution_count": 132,
      "outputs": [
        {
          "output_type": "execute_result",
          "data": {
            "text/html": [
              "<div>\n",
              "<style scoped>\n",
              "    .dataframe tbody tr th:only-of-type {\n",
              "        vertical-align: middle;\n",
              "    }\n",
              "\n",
              "    .dataframe tbody tr th {\n",
              "        vertical-align: top;\n",
              "    }\n",
              "\n",
              "    .dataframe thead th {\n",
              "        text-align: right;\n",
              "    }\n",
              "</style>\n",
              "<table border=\"1\" class=\"dataframe\">\n",
              "  <thead>\n",
              "    <tr style=\"text-align: right;\">\n",
              "      <th></th>\n",
              "      <th>B</th>\n",
              "      <th>C</th>\n",
              "      <th>D</th>\n",
              "    </tr>\n",
              "    <tr>\n",
              "      <th>A</th>\n",
              "      <th></th>\n",
              "      <th></th>\n",
              "      <th></th>\n",
              "    </tr>\n",
              "  </thead>\n",
              "  <tbody>\n",
              "    <tr>\n",
              "      <th>CAT</th>\n",
              "      <td>-14412.42</td>\n",
              "      <td>30592.12</td>\n",
              "      <td>-85917.93</td>\n",
              "    </tr>\n",
              "    <tr>\n",
              "      <th>BAT</th>\n",
              "      <td>36690.50</td>\n",
              "      <td>59096.57</td>\n",
              "      <td>-182989.92</td>\n",
              "    </tr>\n",
              "    <tr>\n",
              "      <th>RAT</th>\n",
              "      <td>-141659.99</td>\n",
              "      <td>-123049.31</td>\n",
              "      <td>176645.95</td>\n",
              "    </tr>\n",
              "    <tr>\n",
              "      <th>DOG</th>\n",
              "      <td>83684.25</td>\n",
              "      <td>15048.45</td>\n",
              "      <td>-26441.87</td>\n",
              "    </tr>\n",
              "    <tr>\n",
              "      <th>COW</th>\n",
              "      <td>-93815.95</td>\n",
              "      <td>155418.71</td>\n",
              "      <td>84202.92</td>\n",
              "    </tr>\n",
              "  </tbody>\n",
              "</table>\n",
              "</div>"
            ],
            "text/plain": [
              "             B          C          D\n",
              "A                                   \n",
              "CAT  -14412.42   30592.12  -85917.93\n",
              "BAT   36690.50   59096.57 -182989.92\n",
              "RAT -141659.99 -123049.31  176645.95\n",
              "DOG   83684.25   15048.45  -26441.87\n",
              "COW  -93815.95  155418.71   84202.92"
            ]
          },
          "metadata": {
            "tags": []
          },
          "execution_count": 132
        }
      ]
    },
    {
      "cell_type": "code",
      "metadata": {
        "colab": {
          "base_uri": "https://localhost:8080/",
          "height": 202
        },
        "id": "-AvoTjfNkdER",
        "outputId": "34afc577-9559-4e55-cc99-6b74fd03ef62"
      },
      "source": [
        "df1['B'] = np.random.randint(10,99,5)\r\n",
        "df1"
      ],
      "execution_count": 133,
      "outputs": [
        {
          "output_type": "execute_result",
          "data": {
            "text/html": [
              "<div>\n",
              "<style scoped>\n",
              "    .dataframe tbody tr th:only-of-type {\n",
              "        vertical-align: middle;\n",
              "    }\n",
              "\n",
              "    .dataframe tbody tr th {\n",
              "        vertical-align: top;\n",
              "    }\n",
              "\n",
              "    .dataframe thead th {\n",
              "        text-align: right;\n",
              "    }\n",
              "</style>\n",
              "<table border=\"1\" class=\"dataframe\">\n",
              "  <thead>\n",
              "    <tr style=\"text-align: right;\">\n",
              "      <th></th>\n",
              "      <th>A</th>\n",
              "      <th>B</th>\n",
              "      <th>C</th>\n",
              "      <th>D</th>\n",
              "    </tr>\n",
              "  </thead>\n",
              "  <tbody>\n",
              "    <tr>\n",
              "      <th>0</th>\n",
              "      <td>CAT</td>\n",
              "      <td>45</td>\n",
              "      <td>30592.12</td>\n",
              "      <td>-85917.93</td>\n",
              "    </tr>\n",
              "    <tr>\n",
              "      <th>1</th>\n",
              "      <td>BAT</td>\n",
              "      <td>97</td>\n",
              "      <td>59096.57</td>\n",
              "      <td>-182989.92</td>\n",
              "    </tr>\n",
              "    <tr>\n",
              "      <th>2</th>\n",
              "      <td>RAT</td>\n",
              "      <td>24</td>\n",
              "      <td>-123049.31</td>\n",
              "      <td>176645.95</td>\n",
              "    </tr>\n",
              "    <tr>\n",
              "      <th>3</th>\n",
              "      <td>DOG</td>\n",
              "      <td>43</td>\n",
              "      <td>15048.45</td>\n",
              "      <td>-26441.87</td>\n",
              "    </tr>\n",
              "    <tr>\n",
              "      <th>4</th>\n",
              "      <td>COW</td>\n",
              "      <td>83</td>\n",
              "      <td>155418.71</td>\n",
              "      <td>84202.92</td>\n",
              "    </tr>\n",
              "  </tbody>\n",
              "</table>\n",
              "</div>"
            ],
            "text/plain": [
              "     A   B          C          D\n",
              "0  CAT  45   30592.12  -85917.93\n",
              "1  BAT  97   59096.57 -182989.92\n",
              "2  RAT  24 -123049.31  176645.95\n",
              "3  DOG  43   15048.45  -26441.87\n",
              "4  COW  83  155418.71   84202.92"
            ]
          },
          "metadata": {
            "tags": []
          },
          "execution_count": 133
        }
      ]
    },
    {
      "cell_type": "code",
      "metadata": {
        "colab": {
          "base_uri": "https://localhost:8080/",
          "height": 202
        },
        "id": "ugJnlHOikwKl",
        "outputId": "2df24c23-1464-4bcc-b515-47edb4041407"
      },
      "source": [
        "df1['C'] = np.random.randint(100,999,5)\r\n",
        "df1['D'] = np.random.randint(1,9,5)\r\n",
        "df1"
      ],
      "execution_count": 134,
      "outputs": [
        {
          "output_type": "execute_result",
          "data": {
            "text/html": [
              "<div>\n",
              "<style scoped>\n",
              "    .dataframe tbody tr th:only-of-type {\n",
              "        vertical-align: middle;\n",
              "    }\n",
              "\n",
              "    .dataframe tbody tr th {\n",
              "        vertical-align: top;\n",
              "    }\n",
              "\n",
              "    .dataframe thead th {\n",
              "        text-align: right;\n",
              "    }\n",
              "</style>\n",
              "<table border=\"1\" class=\"dataframe\">\n",
              "  <thead>\n",
              "    <tr style=\"text-align: right;\">\n",
              "      <th></th>\n",
              "      <th>A</th>\n",
              "      <th>B</th>\n",
              "      <th>C</th>\n",
              "      <th>D</th>\n",
              "    </tr>\n",
              "  </thead>\n",
              "  <tbody>\n",
              "    <tr>\n",
              "      <th>0</th>\n",
              "      <td>CAT</td>\n",
              "      <td>45</td>\n",
              "      <td>923</td>\n",
              "      <td>4</td>\n",
              "    </tr>\n",
              "    <tr>\n",
              "      <th>1</th>\n",
              "      <td>BAT</td>\n",
              "      <td>97</td>\n",
              "      <td>666</td>\n",
              "      <td>1</td>\n",
              "    </tr>\n",
              "    <tr>\n",
              "      <th>2</th>\n",
              "      <td>RAT</td>\n",
              "      <td>24</td>\n",
              "      <td>325</td>\n",
              "      <td>5</td>\n",
              "    </tr>\n",
              "    <tr>\n",
              "      <th>3</th>\n",
              "      <td>DOG</td>\n",
              "      <td>43</td>\n",
              "      <td>408</td>\n",
              "      <td>1</td>\n",
              "    </tr>\n",
              "    <tr>\n",
              "      <th>4</th>\n",
              "      <td>COW</td>\n",
              "      <td>83</td>\n",
              "      <td>332</td>\n",
              "      <td>5</td>\n",
              "    </tr>\n",
              "  </tbody>\n",
              "</table>\n",
              "</div>"
            ],
            "text/plain": [
              "     A   B    C  D\n",
              "0  CAT  45  923  4\n",
              "1  BAT  97  666  1\n",
              "2  RAT  24  325  5\n",
              "3  DOG  43  408  1\n",
              "4  COW  83  332  5"
            ]
          },
          "metadata": {
            "tags": []
          },
          "execution_count": 134
        }
      ]
    },
    {
      "cell_type": "code",
      "metadata": {
        "colab": {
          "base_uri": "https://localhost:8080/",
          "height": 233
        },
        "id": "ZelsRd6Gk5xf",
        "outputId": "4606d863-b0ee-4fad-de44-635261b2e73c"
      },
      "source": [
        "df1 = df1.set_index('A')\r\n",
        "df1"
      ],
      "execution_count": 135,
      "outputs": [
        {
          "output_type": "execute_result",
          "data": {
            "text/html": [
              "<div>\n",
              "<style scoped>\n",
              "    .dataframe tbody tr th:only-of-type {\n",
              "        vertical-align: middle;\n",
              "    }\n",
              "\n",
              "    .dataframe tbody tr th {\n",
              "        vertical-align: top;\n",
              "    }\n",
              "\n",
              "    .dataframe thead th {\n",
              "        text-align: right;\n",
              "    }\n",
              "</style>\n",
              "<table border=\"1\" class=\"dataframe\">\n",
              "  <thead>\n",
              "    <tr style=\"text-align: right;\">\n",
              "      <th></th>\n",
              "      <th>B</th>\n",
              "      <th>C</th>\n",
              "      <th>D</th>\n",
              "    </tr>\n",
              "    <tr>\n",
              "      <th>A</th>\n",
              "      <th></th>\n",
              "      <th></th>\n",
              "      <th></th>\n",
              "    </tr>\n",
              "  </thead>\n",
              "  <tbody>\n",
              "    <tr>\n",
              "      <th>CAT</th>\n",
              "      <td>45</td>\n",
              "      <td>923</td>\n",
              "      <td>4</td>\n",
              "    </tr>\n",
              "    <tr>\n",
              "      <th>BAT</th>\n",
              "      <td>97</td>\n",
              "      <td>666</td>\n",
              "      <td>1</td>\n",
              "    </tr>\n",
              "    <tr>\n",
              "      <th>RAT</th>\n",
              "      <td>24</td>\n",
              "      <td>325</td>\n",
              "      <td>5</td>\n",
              "    </tr>\n",
              "    <tr>\n",
              "      <th>DOG</th>\n",
              "      <td>43</td>\n",
              "      <td>408</td>\n",
              "      <td>1</td>\n",
              "    </tr>\n",
              "    <tr>\n",
              "      <th>COW</th>\n",
              "      <td>83</td>\n",
              "      <td>332</td>\n",
              "      <td>5</td>\n",
              "    </tr>\n",
              "  </tbody>\n",
              "</table>\n",
              "</div>"
            ],
            "text/plain": [
              "      B    C  D\n",
              "A              \n",
              "CAT  45  923  4\n",
              "BAT  97  666  1\n",
              "RAT  24  325  5\n",
              "DOG  43  408  1\n",
              "COW  83  332  5"
            ]
          },
          "metadata": {
            "tags": []
          },
          "execution_count": 135
        }
      ]
    },
    {
      "cell_type": "code",
      "metadata": {
        "id": "BnWlMHe-k_tn"
      },
      "source": [
        "df1.reset_index(inplace=True)"
      ],
      "execution_count": 136,
      "outputs": []
    },
    {
      "cell_type": "code",
      "metadata": {
        "colab": {
          "base_uri": "https://localhost:8080/",
          "height": 202
        },
        "id": "ID0SF_cZlGHJ",
        "outputId": "73e3f0dc-c2e2-4026-c0af-82d9e43a4bee"
      },
      "source": [
        "df1"
      ],
      "execution_count": 137,
      "outputs": [
        {
          "output_type": "execute_result",
          "data": {
            "text/html": [
              "<div>\n",
              "<style scoped>\n",
              "    .dataframe tbody tr th:only-of-type {\n",
              "        vertical-align: middle;\n",
              "    }\n",
              "\n",
              "    .dataframe tbody tr th {\n",
              "        vertical-align: top;\n",
              "    }\n",
              "\n",
              "    .dataframe thead th {\n",
              "        text-align: right;\n",
              "    }\n",
              "</style>\n",
              "<table border=\"1\" class=\"dataframe\">\n",
              "  <thead>\n",
              "    <tr style=\"text-align: right;\">\n",
              "      <th></th>\n",
              "      <th>A</th>\n",
              "      <th>B</th>\n",
              "      <th>C</th>\n",
              "      <th>D</th>\n",
              "    </tr>\n",
              "  </thead>\n",
              "  <tbody>\n",
              "    <tr>\n",
              "      <th>0</th>\n",
              "      <td>CAT</td>\n",
              "      <td>45</td>\n",
              "      <td>923</td>\n",
              "      <td>4</td>\n",
              "    </tr>\n",
              "    <tr>\n",
              "      <th>1</th>\n",
              "      <td>BAT</td>\n",
              "      <td>97</td>\n",
              "      <td>666</td>\n",
              "      <td>1</td>\n",
              "    </tr>\n",
              "    <tr>\n",
              "      <th>2</th>\n",
              "      <td>RAT</td>\n",
              "      <td>24</td>\n",
              "      <td>325</td>\n",
              "      <td>5</td>\n",
              "    </tr>\n",
              "    <tr>\n",
              "      <th>3</th>\n",
              "      <td>DOG</td>\n",
              "      <td>43</td>\n",
              "      <td>408</td>\n",
              "      <td>1</td>\n",
              "    </tr>\n",
              "    <tr>\n",
              "      <th>4</th>\n",
              "      <td>COW</td>\n",
              "      <td>83</td>\n",
              "      <td>332</td>\n",
              "      <td>5</td>\n",
              "    </tr>\n",
              "  </tbody>\n",
              "</table>\n",
              "</div>"
            ],
            "text/plain": [
              "     A   B    C  D\n",
              "0  CAT  45  923  4\n",
              "1  BAT  97  666  1\n",
              "2  RAT  24  325  5\n",
              "3  DOG  43  408  1\n",
              "4  COW  83  332  5"
            ]
          },
          "metadata": {
            "tags": []
          },
          "execution_count": 137
        }
      ]
    },
    {
      "cell_type": "code",
      "metadata": {
        "colab": {
          "base_uri": "https://localhost:8080/",
          "height": 202
        },
        "id": "OgjDfMQGlGs0",
        "outputId": "aba2ec6d-1d26-4fed-f828-a408f93047b4"
      },
      "source": [
        "# df1 = df1.rename(columns = {'A':'ANIMAL','B':'SPEED','C':'WEIGHT','D':'COUNT'})\r\n",
        "df1.columns = ['ANIMAL','SPEED','WEIGHT','COUNT']\r\n",
        "df1"
      ],
      "execution_count": 138,
      "outputs": [
        {
          "output_type": "execute_result",
          "data": {
            "text/html": [
              "<div>\n",
              "<style scoped>\n",
              "    .dataframe tbody tr th:only-of-type {\n",
              "        vertical-align: middle;\n",
              "    }\n",
              "\n",
              "    .dataframe tbody tr th {\n",
              "        vertical-align: top;\n",
              "    }\n",
              "\n",
              "    .dataframe thead th {\n",
              "        text-align: right;\n",
              "    }\n",
              "</style>\n",
              "<table border=\"1\" class=\"dataframe\">\n",
              "  <thead>\n",
              "    <tr style=\"text-align: right;\">\n",
              "      <th></th>\n",
              "      <th>ANIMAL</th>\n",
              "      <th>SPEED</th>\n",
              "      <th>WEIGHT</th>\n",
              "      <th>COUNT</th>\n",
              "    </tr>\n",
              "  </thead>\n",
              "  <tbody>\n",
              "    <tr>\n",
              "      <th>0</th>\n",
              "      <td>CAT</td>\n",
              "      <td>45</td>\n",
              "      <td>923</td>\n",
              "      <td>4</td>\n",
              "    </tr>\n",
              "    <tr>\n",
              "      <th>1</th>\n",
              "      <td>BAT</td>\n",
              "      <td>97</td>\n",
              "      <td>666</td>\n",
              "      <td>1</td>\n",
              "    </tr>\n",
              "    <tr>\n",
              "      <th>2</th>\n",
              "      <td>RAT</td>\n",
              "      <td>24</td>\n",
              "      <td>325</td>\n",
              "      <td>5</td>\n",
              "    </tr>\n",
              "    <tr>\n",
              "      <th>3</th>\n",
              "      <td>DOG</td>\n",
              "      <td>43</td>\n",
              "      <td>408</td>\n",
              "      <td>1</td>\n",
              "    </tr>\n",
              "    <tr>\n",
              "      <th>4</th>\n",
              "      <td>COW</td>\n",
              "      <td>83</td>\n",
              "      <td>332</td>\n",
              "      <td>5</td>\n",
              "    </tr>\n",
              "  </tbody>\n",
              "</table>\n",
              "</div>"
            ],
            "text/plain": [
              "  ANIMAL  SPEED  WEIGHT  COUNT\n",
              "0    CAT     45     923      4\n",
              "1    BAT     97     666      1\n",
              "2    RAT     24     325      5\n",
              "3    DOG     43     408      1\n",
              "4    COW     83     332      5"
            ]
          },
          "metadata": {
            "tags": []
          },
          "execution_count": 138
        }
      ]
    },
    {
      "cell_type": "code",
      "metadata": {
        "colab": {
          "base_uri": "https://localhost:8080/",
          "height": 233
        },
        "id": "Pih_3C6dlcuz",
        "outputId": "d137dd38-060b-4e3a-f4a9-4377df0d8b5a"
      },
      "source": [
        "df1 = df1.set_index('ANIMAL')\r\n",
        "df1"
      ],
      "execution_count": 139,
      "outputs": [
        {
          "output_type": "execute_result",
          "data": {
            "text/html": [
              "<div>\n",
              "<style scoped>\n",
              "    .dataframe tbody tr th:only-of-type {\n",
              "        vertical-align: middle;\n",
              "    }\n",
              "\n",
              "    .dataframe tbody tr th {\n",
              "        vertical-align: top;\n",
              "    }\n",
              "\n",
              "    .dataframe thead th {\n",
              "        text-align: right;\n",
              "    }\n",
              "</style>\n",
              "<table border=\"1\" class=\"dataframe\">\n",
              "  <thead>\n",
              "    <tr style=\"text-align: right;\">\n",
              "      <th></th>\n",
              "      <th>SPEED</th>\n",
              "      <th>WEIGHT</th>\n",
              "      <th>COUNT</th>\n",
              "    </tr>\n",
              "    <tr>\n",
              "      <th>ANIMAL</th>\n",
              "      <th></th>\n",
              "      <th></th>\n",
              "      <th></th>\n",
              "    </tr>\n",
              "  </thead>\n",
              "  <tbody>\n",
              "    <tr>\n",
              "      <th>CAT</th>\n",
              "      <td>45</td>\n",
              "      <td>923</td>\n",
              "      <td>4</td>\n",
              "    </tr>\n",
              "    <tr>\n",
              "      <th>BAT</th>\n",
              "      <td>97</td>\n",
              "      <td>666</td>\n",
              "      <td>1</td>\n",
              "    </tr>\n",
              "    <tr>\n",
              "      <th>RAT</th>\n",
              "      <td>24</td>\n",
              "      <td>325</td>\n",
              "      <td>5</td>\n",
              "    </tr>\n",
              "    <tr>\n",
              "      <th>DOG</th>\n",
              "      <td>43</td>\n",
              "      <td>408</td>\n",
              "      <td>1</td>\n",
              "    </tr>\n",
              "    <tr>\n",
              "      <th>COW</th>\n",
              "      <td>83</td>\n",
              "      <td>332</td>\n",
              "      <td>5</td>\n",
              "    </tr>\n",
              "  </tbody>\n",
              "</table>\n",
              "</div>"
            ],
            "text/plain": [
              "        SPEED  WEIGHT  COUNT\n",
              "ANIMAL                      \n",
              "CAT        45     923      4\n",
              "BAT        97     666      1\n",
              "RAT        24     325      5\n",
              "DOG        43     408      1\n",
              "COW        83     332      5"
            ]
          },
          "metadata": {
            "tags": []
          },
          "execution_count": 139
        }
      ]
    },
    {
      "cell_type": "code",
      "metadata": {
        "colab": {
          "base_uri": "https://localhost:8080/",
          "height": 141
        },
        "id": "N8ylgFzClnLN",
        "outputId": "6d00a73e-2439-48b2-db25-324eefa7e063"
      },
      "source": [
        "df2 = df1.iloc[:2,:2].copy()\r\n",
        "df2"
      ],
      "execution_count": 140,
      "outputs": [
        {
          "output_type": "execute_result",
          "data": {
            "text/html": [
              "<div>\n",
              "<style scoped>\n",
              "    .dataframe tbody tr th:only-of-type {\n",
              "        vertical-align: middle;\n",
              "    }\n",
              "\n",
              "    .dataframe tbody tr th {\n",
              "        vertical-align: top;\n",
              "    }\n",
              "\n",
              "    .dataframe thead th {\n",
              "        text-align: right;\n",
              "    }\n",
              "</style>\n",
              "<table border=\"1\" class=\"dataframe\">\n",
              "  <thead>\n",
              "    <tr style=\"text-align: right;\">\n",
              "      <th></th>\n",
              "      <th>SPEED</th>\n",
              "      <th>WEIGHT</th>\n",
              "    </tr>\n",
              "    <tr>\n",
              "      <th>ANIMAL</th>\n",
              "      <th></th>\n",
              "      <th></th>\n",
              "    </tr>\n",
              "  </thead>\n",
              "  <tbody>\n",
              "    <tr>\n",
              "      <th>CAT</th>\n",
              "      <td>45</td>\n",
              "      <td>923</td>\n",
              "    </tr>\n",
              "    <tr>\n",
              "      <th>BAT</th>\n",
              "      <td>97</td>\n",
              "      <td>666</td>\n",
              "    </tr>\n",
              "  </tbody>\n",
              "</table>\n",
              "</div>"
            ],
            "text/plain": [
              "        SPEED  WEIGHT\n",
              "ANIMAL               \n",
              "CAT        45     923\n",
              "BAT        97     666"
            ]
          },
          "metadata": {
            "tags": []
          },
          "execution_count": 140
        }
      ]
    },
    {
      "cell_type": "code",
      "metadata": {
        "colab": {
          "base_uri": "https://localhost:8080/",
          "height": 141
        },
        "id": "f87U_O-VlxNI",
        "outputId": "97749b49-96e3-4de1-8262-880342e7fbc1"
      },
      "source": [
        "df2['FRIENDS'] = ['HIPPO','GIRAFFE']\r\n",
        "df2"
      ],
      "execution_count": 141,
      "outputs": [
        {
          "output_type": "execute_result",
          "data": {
            "text/html": [
              "<div>\n",
              "<style scoped>\n",
              "    .dataframe tbody tr th:only-of-type {\n",
              "        vertical-align: middle;\n",
              "    }\n",
              "\n",
              "    .dataframe tbody tr th {\n",
              "        vertical-align: top;\n",
              "    }\n",
              "\n",
              "    .dataframe thead th {\n",
              "        text-align: right;\n",
              "    }\n",
              "</style>\n",
              "<table border=\"1\" class=\"dataframe\">\n",
              "  <thead>\n",
              "    <tr style=\"text-align: right;\">\n",
              "      <th></th>\n",
              "      <th>SPEED</th>\n",
              "      <th>WEIGHT</th>\n",
              "      <th>FRIENDS</th>\n",
              "    </tr>\n",
              "    <tr>\n",
              "      <th>ANIMAL</th>\n",
              "      <th></th>\n",
              "      <th></th>\n",
              "      <th></th>\n",
              "    </tr>\n",
              "  </thead>\n",
              "  <tbody>\n",
              "    <tr>\n",
              "      <th>CAT</th>\n",
              "      <td>45</td>\n",
              "      <td>923</td>\n",
              "      <td>HIPPO</td>\n",
              "    </tr>\n",
              "    <tr>\n",
              "      <th>BAT</th>\n",
              "      <td>97</td>\n",
              "      <td>666</td>\n",
              "      <td>GIRAFFE</td>\n",
              "    </tr>\n",
              "  </tbody>\n",
              "</table>\n",
              "</div>"
            ],
            "text/plain": [
              "        SPEED  WEIGHT  FRIENDS\n",
              "ANIMAL                        \n",
              "CAT        45     923    HIPPO\n",
              "BAT        97     666  GIRAFFE"
            ]
          },
          "metadata": {
            "tags": []
          },
          "execution_count": 141
        }
      ]
    },
    {
      "cell_type": "code",
      "metadata": {
        "colab": {
          "base_uri": "https://localhost:8080/"
        },
        "id": "0kl87OzMmCHi",
        "outputId": "b5f06bbf-2309-4eff-aa65-00f286562a32"
      },
      "source": [
        "# df1['ALSO FRIENDS'] = df1.apply(lambda x: df2.loc[x['ANIMAL']==df1['ANIMAL'], x['FRIENDS']].reset_index(drop=True), axis=1)\r\n",
        "# df1['ALSO FRIENDS'] = df2['FRIENDS'].apply(lambda x: x.index == df2.index)\r\n",
        "type(df1)"
      ],
      "execution_count": 142,
      "outputs": [
        {
          "output_type": "execute_result",
          "data": {
            "text/plain": [
              "pandas.core.frame.DataFrame"
            ]
          },
          "metadata": {
            "tags": []
          },
          "execution_count": 142
        }
      ]
    },
    {
      "cell_type": "code",
      "metadata": {
        "colab": {
          "base_uri": "https://localhost:8080/",
          "height": 141
        },
        "id": "z1-xLS7Ln9U5",
        "outputId": "d322f7c0-5dec-49e5-b104-e187072437ad"
      },
      "source": [
        "df3 = pd.merge(df1, df2, on='ANIMAL', how='right')\r\n",
        "df3"
      ],
      "execution_count": 143,
      "outputs": [
        {
          "output_type": "execute_result",
          "data": {
            "text/html": [
              "<div>\n",
              "<style scoped>\n",
              "    .dataframe tbody tr th:only-of-type {\n",
              "        vertical-align: middle;\n",
              "    }\n",
              "\n",
              "    .dataframe tbody tr th {\n",
              "        vertical-align: top;\n",
              "    }\n",
              "\n",
              "    .dataframe thead th {\n",
              "        text-align: right;\n",
              "    }\n",
              "</style>\n",
              "<table border=\"1\" class=\"dataframe\">\n",
              "  <thead>\n",
              "    <tr style=\"text-align: right;\">\n",
              "      <th></th>\n",
              "      <th>SPEED_x</th>\n",
              "      <th>WEIGHT_x</th>\n",
              "      <th>COUNT</th>\n",
              "      <th>SPEED_y</th>\n",
              "      <th>WEIGHT_y</th>\n",
              "      <th>FRIENDS</th>\n",
              "    </tr>\n",
              "    <tr>\n",
              "      <th>ANIMAL</th>\n",
              "      <th></th>\n",
              "      <th></th>\n",
              "      <th></th>\n",
              "      <th></th>\n",
              "      <th></th>\n",
              "      <th></th>\n",
              "    </tr>\n",
              "  </thead>\n",
              "  <tbody>\n",
              "    <tr>\n",
              "      <th>CAT</th>\n",
              "      <td>45</td>\n",
              "      <td>923</td>\n",
              "      <td>4</td>\n",
              "      <td>45</td>\n",
              "      <td>923</td>\n",
              "      <td>HIPPO</td>\n",
              "    </tr>\n",
              "    <tr>\n",
              "      <th>BAT</th>\n",
              "      <td>97</td>\n",
              "      <td>666</td>\n",
              "      <td>1</td>\n",
              "      <td>97</td>\n",
              "      <td>666</td>\n",
              "      <td>GIRAFFE</td>\n",
              "    </tr>\n",
              "  </tbody>\n",
              "</table>\n",
              "</div>"
            ],
            "text/plain": [
              "        SPEED_x  WEIGHT_x  COUNT  SPEED_y  WEIGHT_y  FRIENDS\n",
              "ANIMAL                                                      \n",
              "CAT          45       923      4       45       923    HIPPO\n",
              "BAT          97       666      1       97       666  GIRAFFE"
            ]
          },
          "metadata": {
            "tags": []
          },
          "execution_count": 143
        }
      ]
    }
  ]
}