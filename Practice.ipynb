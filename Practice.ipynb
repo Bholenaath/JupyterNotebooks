{
  "nbformat": 4,
  "nbformat_minor": 0,
  "metadata": {
    "colab": {
      "name": "Practice.ipynb",
      "provenance": [],
      "authorship_tag": "ABX9TyNm+5vXBUfzhosT3r4q+Ziy",
      "include_colab_link": true
    },
    "kernelspec": {
      "name": "python3",
      "display_name": "Python 3"
    }
  },
  "cells": [
    {
      "cell_type": "markdown",
      "metadata": {
        "id": "view-in-github",
        "colab_type": "text"
      },
      "source": [
        "<a href=\"https://colab.research.google.com/github/a-dhingra/JupyterNotebooks/blob/master/Practice.ipynb\" target=\"_parent\"><img src=\"https://colab.research.google.com/assets/colab-badge.svg\" alt=\"Open In Colab\"/></a>"
      ]
    },
    {
      "cell_type": "code",
      "metadata": {
        "id": "WUip4yFGBm70"
      },
      "source": [
        "s = 'string'"
      ],
      "execution_count": null,
      "outputs": []
    },
    {
      "cell_type": "code",
      "metadata": {
        "id": "rA_YNDFgBp0-"
      },
      "source": [
        "L = [x for x in s]"
      ],
      "execution_count": null,
      "outputs": []
    },
    {
      "cell_type": "code",
      "metadata": {
        "colab": {
          "base_uri": "https://localhost:8080/"
        },
        "id": "0Qd_znRYBv0q",
        "outputId": "e6a723af-6bac-453e-8773-aa67ca6acbc3"
      },
      "source": [
        "L"
      ],
      "execution_count": null,
      "outputs": [
        {
          "output_type": "execute_result",
          "data": {
            "text/plain": [
              "['s', 't', 'r', 'i', 'n', 'g']"
            ]
          },
          "metadata": {
            "tags": []
          },
          "execution_count": 4
        }
      ]
    },
    {
      "cell_type": "code",
      "metadata": {
        "id": "5Admg0hWB11y"
      },
      "source": [
        "K = ('').join(L)"
      ],
      "execution_count": null,
      "outputs": []
    },
    {
      "cell_type": "code",
      "metadata": {
        "colab": {
          "base_uri": "https://localhost:8080/",
          "height": 35
        },
        "id": "tSOJ24BbEXwR",
        "outputId": "a5b02a76-2ecf-4e97-f99b-d556b0396625"
      },
      "source": [
        "K"
      ],
      "execution_count": null,
      "outputs": [
        {
          "output_type": "execute_result",
          "data": {
            "application/vnd.google.colaboratory.intrinsic+json": {
              "type": "string"
            },
            "text/plain": [
              "'string'"
            ]
          },
          "metadata": {
            "tags": []
          },
          "execution_count": 7
        }
      ]
    },
    {
      "cell_type": "code",
      "metadata": {
        "colab": {
          "base_uri": "https://localhost:8080/"
        },
        "id": "VL_8hohnEajl",
        "outputId": "965ce33c-74ad-438d-e7c4-1ed30cb25b1a"
      },
      "source": [
        "for i in K:\r\n",
        "  print(i)"
      ],
      "execution_count": null,
      "outputs": [
        {
          "output_type": "stream",
          "text": [
            "s\n",
            "t\n",
            "r\n",
            "i\n",
            "n\n",
            "g\n"
          ],
          "name": "stdout"
        }
      ]
    },
    {
      "cell_type": "code",
      "metadata": {
        "id": "Y9NuD4bCEhTB"
      },
      "source": [
        "import re\r\n",
        "\r\n",
        "def fun(s):\r\n",
        "    email = re.compile(r\"[\\w*\\d*\\-*\\_*]*\\@[\\w\\d]*\\.[\\w\\d\\W]{,3}\")\r\n",
        "    mo = email.findall(s)\r\n",
        "    if len(mo) > 0:\r\n",
        "        return True\r\n",
        "    else:\r\n",
        "        return False\r\n",
        "\r\n",
        "# 5\r\n",
        "# dheeraj-234@gmail.com\r\n",
        "# itsallcrap\r\n",
        "# harsh_1234@rediff.in\r\n",
        "# kunal_shin@iop.az\r\n",
        "# matt23@@india.in\r\n",
        "        \r\n",
        "def filter_mail(emails):\r\n",
        "    return list(filter(fun, emails))\r\n",
        "\r\n",
        "if __name__ == '__main__':\r\n",
        "    n = int(input())\r\n",
        "    emails = []\r\n",
        "    for _ in range(n):\r\n",
        "        emails.append(input())\r\n",
        "\r\n",
        "filtered_emails = filter_mail(emails)\r\n",
        "filtered_emails.sort()\r\n",
        "print(filtered_emails)"
      ],
      "execution_count": null,
      "outputs": []
    },
    {
      "cell_type": "code",
      "metadata": {
        "id": "ODFjIU_BrDSO"
      },
      "source": [
        "import pandas as pd \r\n",
        "import numpy as np"
      ],
      "execution_count": 1,
      "outputs": []
    },
    {
      "cell_type": "code",
      "metadata": {
        "colab": {
          "base_uri": "https://localhost:8080/",
          "height": 202
        },
        "id": "-cy6jf6QrHIU",
        "outputId": "8474b160-d92c-43cf-9e76-4954a879e5ee"
      },
      "source": [
        "df = pd.DataFrame(np.ndarray([5,4], dtype= int, offset= 1))\r\n",
        "df.head()"
      ],
      "execution_count": 4,
      "outputs": [
        {
          "output_type": "execute_result",
          "data": {
            "text/html": [
              "<div>\n",
              "<style scoped>\n",
              "    .dataframe tbody tr th:only-of-type {\n",
              "        vertical-align: middle;\n",
              "    }\n",
              "\n",
              "    .dataframe tbody tr th {\n",
              "        vertical-align: top;\n",
              "    }\n",
              "\n",
              "    .dataframe thead th {\n",
              "        text-align: right;\n",
              "    }\n",
              "</style>\n",
              "<table border=\"1\" class=\"dataframe\">\n",
              "  <thead>\n",
              "    <tr style=\"text-align: right;\">\n",
              "      <th></th>\n",
              "      <th>0</th>\n",
              "      <th>1</th>\n",
              "      <th>2</th>\n",
              "      <th>3</th>\n",
              "    </tr>\n",
              "  </thead>\n",
              "  <tbody>\n",
              "    <tr>\n",
              "      <th>0</th>\n",
              "      <td>70779968</td>\n",
              "      <td>0</td>\n",
              "      <td>0</td>\n",
              "      <td>0</td>\n",
              "    </tr>\n",
              "    <tr>\n",
              "      <th>1</th>\n",
              "      <td>0</td>\n",
              "      <td>0</td>\n",
              "      <td>0</td>\n",
              "      <td>0</td>\n",
              "    </tr>\n",
              "    <tr>\n",
              "      <th>2</th>\n",
              "      <td>0</td>\n",
              "      <td>0</td>\n",
              "      <td>0</td>\n",
              "      <td>0</td>\n",
              "    </tr>\n",
              "    <tr>\n",
              "      <th>3</th>\n",
              "      <td>0</td>\n",
              "      <td>0</td>\n",
              "      <td>0</td>\n",
              "      <td>0</td>\n",
              "    </tr>\n",
              "    <tr>\n",
              "      <th>4</th>\n",
              "      <td>0</td>\n",
              "      <td>0</td>\n",
              "      <td>0</td>\n",
              "      <td>0</td>\n",
              "    </tr>\n",
              "  </tbody>\n",
              "</table>\n",
              "</div>"
            ],
            "text/plain": [
              "          0  1  2  3\n",
              "0  70779968  0  0  0\n",
              "1         0  0  0  0\n",
              "2         0  0  0  0\n",
              "3         0  0  0  0\n",
              "4         0  0  0  0"
            ]
          },
          "metadata": {
            "tags": []
          },
          "execution_count": 4
        }
      ]
    },
    {
      "cell_type": "code",
      "metadata": {
        "colab": {
          "base_uri": "https://localhost:8080/",
          "height": 202
        },
        "id": "w1xcp1HHrSXk",
        "outputId": "5e3087fb-523e-43ac-cafd-e8a2afe2d5e7"
      },
      "source": [
        "df = df.applymap(lambda x: (x+1)*np.random.randint(100))\r\n",
        "df"
      ],
      "execution_count": 7,
      "outputs": [
        {
          "output_type": "execute_result",
          "data": {
            "text/html": [
              "<div>\n",
              "<style scoped>\n",
              "    .dataframe tbody tr th:only-of-type {\n",
              "        vertical-align: middle;\n",
              "    }\n",
              "\n",
              "    .dataframe tbody tr th {\n",
              "        vertical-align: top;\n",
              "    }\n",
              "\n",
              "    .dataframe thead th {\n",
              "        text-align: right;\n",
              "    }\n",
              "</style>\n",
              "<table border=\"1\" class=\"dataframe\">\n",
              "  <thead>\n",
              "    <tr style=\"text-align: right;\">\n",
              "      <th></th>\n",
              "      <th>0</th>\n",
              "      <th>1</th>\n",
              "      <th>2</th>\n",
              "      <th>3</th>\n",
              "    </tr>\n",
              "  </thead>\n",
              "  <tbody>\n",
              "    <tr>\n",
              "      <th>0</th>\n",
              "      <td>73</td>\n",
              "      <td>4</td>\n",
              "      <td>430</td>\n",
              "      <td>4</td>\n",
              "    </tr>\n",
              "    <tr>\n",
              "      <th>1</th>\n",
              "      <td>365</td>\n",
              "      <td>145</td>\n",
              "      <td>294</td>\n",
              "      <td>345</td>\n",
              "    </tr>\n",
              "    <tr>\n",
              "      <th>2</th>\n",
              "      <td>168</td>\n",
              "      <td>195</td>\n",
              "      <td>42</td>\n",
              "      <td>17</td>\n",
              "    </tr>\n",
              "    <tr>\n",
              "      <th>3</th>\n",
              "      <td>268</td>\n",
              "      <td>120</td>\n",
              "      <td>168</td>\n",
              "      <td>84</td>\n",
              "    </tr>\n",
              "    <tr>\n",
              "      <th>4</th>\n",
              "      <td>56</td>\n",
              "      <td>480</td>\n",
              "      <td>96</td>\n",
              "      <td>258</td>\n",
              "    </tr>\n",
              "  </tbody>\n",
              "</table>\n",
              "</div>"
            ],
            "text/plain": [
              "     0    1    2    3\n",
              "0   73    4  430    4\n",
              "1  365  145  294  345\n",
              "2  168  195   42   17\n",
              "3  268  120  168   84\n",
              "4   56  480   96  258"
            ]
          },
          "metadata": {
            "tags": []
          },
          "execution_count": 7
        }
      ]
    },
    {
      "cell_type": "code",
      "metadata": {
        "colab": {
          "base_uri": "https://localhost:8080/",
          "height": 202
        },
        "id": "IleSCcLur1Ih",
        "outputId": "4eb71e5a-8a25-4830-b8a0-98dd4f067f94"
      },
      "source": [
        "df.columns = ['A','B','C','D']\r\n",
        "df"
      ],
      "execution_count": 8,
      "outputs": [
        {
          "output_type": "execute_result",
          "data": {
            "text/html": [
              "<div>\n",
              "<style scoped>\n",
              "    .dataframe tbody tr th:only-of-type {\n",
              "        vertical-align: middle;\n",
              "    }\n",
              "\n",
              "    .dataframe tbody tr th {\n",
              "        vertical-align: top;\n",
              "    }\n",
              "\n",
              "    .dataframe thead th {\n",
              "        text-align: right;\n",
              "    }\n",
              "</style>\n",
              "<table border=\"1\" class=\"dataframe\">\n",
              "  <thead>\n",
              "    <tr style=\"text-align: right;\">\n",
              "      <th></th>\n",
              "      <th>A</th>\n",
              "      <th>B</th>\n",
              "      <th>C</th>\n",
              "      <th>D</th>\n",
              "    </tr>\n",
              "  </thead>\n",
              "  <tbody>\n",
              "    <tr>\n",
              "      <th>0</th>\n",
              "      <td>73</td>\n",
              "      <td>4</td>\n",
              "      <td>430</td>\n",
              "      <td>4</td>\n",
              "    </tr>\n",
              "    <tr>\n",
              "      <th>1</th>\n",
              "      <td>365</td>\n",
              "      <td>145</td>\n",
              "      <td>294</td>\n",
              "      <td>345</td>\n",
              "    </tr>\n",
              "    <tr>\n",
              "      <th>2</th>\n",
              "      <td>168</td>\n",
              "      <td>195</td>\n",
              "      <td>42</td>\n",
              "      <td>17</td>\n",
              "    </tr>\n",
              "    <tr>\n",
              "      <th>3</th>\n",
              "      <td>268</td>\n",
              "      <td>120</td>\n",
              "      <td>168</td>\n",
              "      <td>84</td>\n",
              "    </tr>\n",
              "    <tr>\n",
              "      <th>4</th>\n",
              "      <td>56</td>\n",
              "      <td>480</td>\n",
              "      <td>96</td>\n",
              "      <td>258</td>\n",
              "    </tr>\n",
              "  </tbody>\n",
              "</table>\n",
              "</div>"
            ],
            "text/plain": [
              "     A    B    C    D\n",
              "0   73    4  430    4\n",
              "1  365  145  294  345\n",
              "2  168  195   42   17\n",
              "3  268  120  168   84\n",
              "4   56  480   96  258"
            ]
          },
          "metadata": {
            "tags": []
          },
          "execution_count": 8
        }
      ]
    },
    {
      "cell_type": "code",
      "metadata": {
        "colab": {
          "base_uri": "https://localhost:8080/",
          "height": 202
        },
        "id": "MPYHjM7XsA1B",
        "outputId": "298431e8-be10-4db2-974c-caa403b80058"
      },
      "source": [
        "kids = ['Ram','Sham','Mohan','Bagan','Awara']\r\n",
        "df = df.set_index(pd.Series(kids))\r\n",
        "df"
      ],
      "execution_count": 11,
      "outputs": [
        {
          "output_type": "execute_result",
          "data": {
            "text/html": [
              "<div>\n",
              "<style scoped>\n",
              "    .dataframe tbody tr th:only-of-type {\n",
              "        vertical-align: middle;\n",
              "    }\n",
              "\n",
              "    .dataframe tbody tr th {\n",
              "        vertical-align: top;\n",
              "    }\n",
              "\n",
              "    .dataframe thead th {\n",
              "        text-align: right;\n",
              "    }\n",
              "</style>\n",
              "<table border=\"1\" class=\"dataframe\">\n",
              "  <thead>\n",
              "    <tr style=\"text-align: right;\">\n",
              "      <th></th>\n",
              "      <th>A</th>\n",
              "      <th>B</th>\n",
              "      <th>C</th>\n",
              "      <th>D</th>\n",
              "    </tr>\n",
              "  </thead>\n",
              "  <tbody>\n",
              "    <tr>\n",
              "      <th>Ram</th>\n",
              "      <td>73</td>\n",
              "      <td>4</td>\n",
              "      <td>430</td>\n",
              "      <td>4</td>\n",
              "    </tr>\n",
              "    <tr>\n",
              "      <th>Sham</th>\n",
              "      <td>365</td>\n",
              "      <td>145</td>\n",
              "      <td>294</td>\n",
              "      <td>345</td>\n",
              "    </tr>\n",
              "    <tr>\n",
              "      <th>Mohan</th>\n",
              "      <td>168</td>\n",
              "      <td>195</td>\n",
              "      <td>42</td>\n",
              "      <td>17</td>\n",
              "    </tr>\n",
              "    <tr>\n",
              "      <th>Bagan</th>\n",
              "      <td>268</td>\n",
              "      <td>120</td>\n",
              "      <td>168</td>\n",
              "      <td>84</td>\n",
              "    </tr>\n",
              "    <tr>\n",
              "      <th>Awara</th>\n",
              "      <td>56</td>\n",
              "      <td>480</td>\n",
              "      <td>96</td>\n",
              "      <td>258</td>\n",
              "    </tr>\n",
              "  </tbody>\n",
              "</table>\n",
              "</div>"
            ],
            "text/plain": [
              "         A    B    C    D\n",
              "Ram     73    4  430    4\n",
              "Sham   365  145  294  345\n",
              "Mohan  168  195   42   17\n",
              "Bagan  268  120  168   84\n",
              "Awara   56  480   96  258"
            ]
          },
          "metadata": {
            "tags": []
          },
          "execution_count": 11
        }
      ]
    },
    {
      "cell_type": "code",
      "metadata": {
        "colab": {
          "base_uri": "https://localhost:8080/",
          "height": 141
        },
        "id": "VbQZFW4csNEc",
        "outputId": "ee4829fe-36f7-455f-c532-24f90af084dd"
      },
      "source": [
        "df1 = df.iloc[:3,-2:]\r\n",
        "df1"
      ],
      "execution_count": 12,
      "outputs": [
        {
          "output_type": "execute_result",
          "data": {
            "text/html": [
              "<div>\n",
              "<style scoped>\n",
              "    .dataframe tbody tr th:only-of-type {\n",
              "        vertical-align: middle;\n",
              "    }\n",
              "\n",
              "    .dataframe tbody tr th {\n",
              "        vertical-align: top;\n",
              "    }\n",
              "\n",
              "    .dataframe thead th {\n",
              "        text-align: right;\n",
              "    }\n",
              "</style>\n",
              "<table border=\"1\" class=\"dataframe\">\n",
              "  <thead>\n",
              "    <tr style=\"text-align: right;\">\n",
              "      <th></th>\n",
              "      <th>C</th>\n",
              "      <th>D</th>\n",
              "    </tr>\n",
              "  </thead>\n",
              "  <tbody>\n",
              "    <tr>\n",
              "      <th>Ram</th>\n",
              "      <td>430</td>\n",
              "      <td>4</td>\n",
              "    </tr>\n",
              "    <tr>\n",
              "      <th>Sham</th>\n",
              "      <td>294</td>\n",
              "      <td>345</td>\n",
              "    </tr>\n",
              "    <tr>\n",
              "      <th>Mohan</th>\n",
              "      <td>42</td>\n",
              "      <td>17</td>\n",
              "    </tr>\n",
              "  </tbody>\n",
              "</table>\n",
              "</div>"
            ],
            "text/plain": [
              "         C    D\n",
              "Ram    430    4\n",
              "Sham   294  345\n",
              "Mohan   42   17"
            ]
          },
          "metadata": {
            "tags": []
          },
          "execution_count": 12
        }
      ]
    },
    {
      "cell_type": "code",
      "metadata": {
        "colab": {
          "base_uri": "https://localhost:8080/",
          "height": 141
        },
        "id": "1-b1XwDjsf6c",
        "outputId": "0af3400a-cb7a-4d55-b929-243896f18d3b"
      },
      "source": [
        "df1['E'] = df1['D']*50\r\n",
        "df1"
      ],
      "execution_count": 13,
      "outputs": [
        {
          "output_type": "execute_result",
          "data": {
            "text/html": [
              "<div>\n",
              "<style scoped>\n",
              "    .dataframe tbody tr th:only-of-type {\n",
              "        vertical-align: middle;\n",
              "    }\n",
              "\n",
              "    .dataframe tbody tr th {\n",
              "        vertical-align: top;\n",
              "    }\n",
              "\n",
              "    .dataframe thead th {\n",
              "        text-align: right;\n",
              "    }\n",
              "</style>\n",
              "<table border=\"1\" class=\"dataframe\">\n",
              "  <thead>\n",
              "    <tr style=\"text-align: right;\">\n",
              "      <th></th>\n",
              "      <th>C</th>\n",
              "      <th>D</th>\n",
              "      <th>E</th>\n",
              "    </tr>\n",
              "  </thead>\n",
              "  <tbody>\n",
              "    <tr>\n",
              "      <th>Ram</th>\n",
              "      <td>430</td>\n",
              "      <td>4</td>\n",
              "      <td>200</td>\n",
              "    </tr>\n",
              "    <tr>\n",
              "      <th>Sham</th>\n",
              "      <td>294</td>\n",
              "      <td>345</td>\n",
              "      <td>17250</td>\n",
              "    </tr>\n",
              "    <tr>\n",
              "      <th>Mohan</th>\n",
              "      <td>42</td>\n",
              "      <td>17</td>\n",
              "      <td>850</td>\n",
              "    </tr>\n",
              "  </tbody>\n",
              "</table>\n",
              "</div>"
            ],
            "text/plain": [
              "         C    D      E\n",
              "Ram    430    4    200\n",
              "Sham   294  345  17250\n",
              "Mohan   42   17    850"
            ]
          },
          "metadata": {
            "tags": []
          },
          "execution_count": 13
        }
      ]
    },
    {
      "cell_type": "code",
      "metadata": {
        "colab": {
          "base_uri": "https://localhost:8080/",
          "height": 202
        },
        "id": "1ysaRiNwtGh-",
        "outputId": "b9dc7141-7c9c-489b-fb63-ee88abd53332"
      },
      "source": [
        "df_merge = df.merge(df1,how='outer'\r\n",
        "                    , left_index=True, right_index=True\r\n",
        "                    # , on=df.index()\r\n",
        "                    )\r\n",
        "df_merge"
      ],
      "execution_count": 27,
      "outputs": [
        {
          "output_type": "execute_result",
          "data": {
            "text/html": [
              "<div>\n",
              "<style scoped>\n",
              "    .dataframe tbody tr th:only-of-type {\n",
              "        vertical-align: middle;\n",
              "    }\n",
              "\n",
              "    .dataframe tbody tr th {\n",
              "        vertical-align: top;\n",
              "    }\n",
              "\n",
              "    .dataframe thead th {\n",
              "        text-align: right;\n",
              "    }\n",
              "</style>\n",
              "<table border=\"1\" class=\"dataframe\">\n",
              "  <thead>\n",
              "    <tr style=\"text-align: right;\">\n",
              "      <th></th>\n",
              "      <th>A</th>\n",
              "      <th>B</th>\n",
              "      <th>C_x</th>\n",
              "      <th>D_x</th>\n",
              "      <th>C_y</th>\n",
              "      <th>D_y</th>\n",
              "      <th>E</th>\n",
              "    </tr>\n",
              "  </thead>\n",
              "  <tbody>\n",
              "    <tr>\n",
              "      <th>Awara</th>\n",
              "      <td>56</td>\n",
              "      <td>480</td>\n",
              "      <td>96</td>\n",
              "      <td>258</td>\n",
              "      <td>NaN</td>\n",
              "      <td>NaN</td>\n",
              "      <td>NaN</td>\n",
              "    </tr>\n",
              "    <tr>\n",
              "      <th>Bagan</th>\n",
              "      <td>268</td>\n",
              "      <td>120</td>\n",
              "      <td>168</td>\n",
              "      <td>84</td>\n",
              "      <td>NaN</td>\n",
              "      <td>NaN</td>\n",
              "      <td>NaN</td>\n",
              "    </tr>\n",
              "    <tr>\n",
              "      <th>Mohan</th>\n",
              "      <td>168</td>\n",
              "      <td>195</td>\n",
              "      <td>42</td>\n",
              "      <td>17</td>\n",
              "      <td>42.0</td>\n",
              "      <td>17.0</td>\n",
              "      <td>850.0</td>\n",
              "    </tr>\n",
              "    <tr>\n",
              "      <th>Ram</th>\n",
              "      <td>73</td>\n",
              "      <td>4</td>\n",
              "      <td>430</td>\n",
              "      <td>4</td>\n",
              "      <td>430.0</td>\n",
              "      <td>4.0</td>\n",
              "      <td>200.0</td>\n",
              "    </tr>\n",
              "    <tr>\n",
              "      <th>Sham</th>\n",
              "      <td>365</td>\n",
              "      <td>145</td>\n",
              "      <td>294</td>\n",
              "      <td>345</td>\n",
              "      <td>294.0</td>\n",
              "      <td>345.0</td>\n",
              "      <td>17250.0</td>\n",
              "    </tr>\n",
              "  </tbody>\n",
              "</table>\n",
              "</div>"
            ],
            "text/plain": [
              "         A    B  C_x  D_x    C_y    D_y        E\n",
              "Awara   56  480   96  258    NaN    NaN      NaN\n",
              "Bagan  268  120  168   84    NaN    NaN      NaN\n",
              "Mohan  168  195   42   17   42.0   17.0    850.0\n",
              "Ram     73    4  430    4  430.0    4.0    200.0\n",
              "Sham   365  145  294  345  294.0  345.0  17250.0"
            ]
          },
          "metadata": {
            "tags": []
          },
          "execution_count": 27
        }
      ]
    },
    {
      "cell_type": "code",
      "metadata": {
        "colab": {
          "base_uri": "https://localhost:8080/",
          "height": 202
        },
        "id": "o_Q8Wc8PtUse",
        "outputId": "9ee75270-c7c6-4bbb-e2a0-2d8977962fea"
      },
      "source": [
        "df_concat = pd.concat([df,df1], axis=1)\r\n",
        "df_concat"
      ],
      "execution_count": 29,
      "outputs": [
        {
          "output_type": "execute_result",
          "data": {
            "text/html": [
              "<div>\n",
              "<style scoped>\n",
              "    .dataframe tbody tr th:only-of-type {\n",
              "        vertical-align: middle;\n",
              "    }\n",
              "\n",
              "    .dataframe tbody tr th {\n",
              "        vertical-align: top;\n",
              "    }\n",
              "\n",
              "    .dataframe thead th {\n",
              "        text-align: right;\n",
              "    }\n",
              "</style>\n",
              "<table border=\"1\" class=\"dataframe\">\n",
              "  <thead>\n",
              "    <tr style=\"text-align: right;\">\n",
              "      <th></th>\n",
              "      <th>A</th>\n",
              "      <th>B</th>\n",
              "      <th>C</th>\n",
              "      <th>D</th>\n",
              "      <th>C</th>\n",
              "      <th>D</th>\n",
              "      <th>E</th>\n",
              "    </tr>\n",
              "  </thead>\n",
              "  <tbody>\n",
              "    <tr>\n",
              "      <th>Ram</th>\n",
              "      <td>73</td>\n",
              "      <td>4</td>\n",
              "      <td>430</td>\n",
              "      <td>4</td>\n",
              "      <td>430.0</td>\n",
              "      <td>4.0</td>\n",
              "      <td>200.0</td>\n",
              "    </tr>\n",
              "    <tr>\n",
              "      <th>Sham</th>\n",
              "      <td>365</td>\n",
              "      <td>145</td>\n",
              "      <td>294</td>\n",
              "      <td>345</td>\n",
              "      <td>294.0</td>\n",
              "      <td>345.0</td>\n",
              "      <td>17250.0</td>\n",
              "    </tr>\n",
              "    <tr>\n",
              "      <th>Mohan</th>\n",
              "      <td>168</td>\n",
              "      <td>195</td>\n",
              "      <td>42</td>\n",
              "      <td>17</td>\n",
              "      <td>42.0</td>\n",
              "      <td>17.0</td>\n",
              "      <td>850.0</td>\n",
              "    </tr>\n",
              "    <tr>\n",
              "      <th>Bagan</th>\n",
              "      <td>268</td>\n",
              "      <td>120</td>\n",
              "      <td>168</td>\n",
              "      <td>84</td>\n",
              "      <td>NaN</td>\n",
              "      <td>NaN</td>\n",
              "      <td>NaN</td>\n",
              "    </tr>\n",
              "    <tr>\n",
              "      <th>Awara</th>\n",
              "      <td>56</td>\n",
              "      <td>480</td>\n",
              "      <td>96</td>\n",
              "      <td>258</td>\n",
              "      <td>NaN</td>\n",
              "      <td>NaN</td>\n",
              "      <td>NaN</td>\n",
              "    </tr>\n",
              "  </tbody>\n",
              "</table>\n",
              "</div>"
            ],
            "text/plain": [
              "         A    B    C    D      C      D        E\n",
              "Ram     73    4  430    4  430.0    4.0    200.0\n",
              "Sham   365  145  294  345  294.0  345.0  17250.0\n",
              "Mohan  168  195   42   17   42.0   17.0    850.0\n",
              "Bagan  268  120  168   84    NaN    NaN      NaN\n",
              "Awara   56  480   96  258    NaN    NaN      NaN"
            ]
          },
          "metadata": {
            "tags": []
          },
          "execution_count": 29
        }
      ]
    },
    {
      "cell_type": "code",
      "metadata": {
        "colab": {
          "base_uri": "https://localhost:8080/",
          "height": 294
        },
        "id": "aHCt1Gp1v0j7",
        "outputId": "5b6395b3-da00-41ec-ff6c-fcf86be24d30"
      },
      "source": [
        "df_concat1 = pd.concat([df,df1], axis='rows')\r\n",
        "df_concat1"
      ],
      "execution_count": 31,
      "outputs": [
        {
          "output_type": "execute_result",
          "data": {
            "text/html": [
              "<div>\n",
              "<style scoped>\n",
              "    .dataframe tbody tr th:only-of-type {\n",
              "        vertical-align: middle;\n",
              "    }\n",
              "\n",
              "    .dataframe tbody tr th {\n",
              "        vertical-align: top;\n",
              "    }\n",
              "\n",
              "    .dataframe thead th {\n",
              "        text-align: right;\n",
              "    }\n",
              "</style>\n",
              "<table border=\"1\" class=\"dataframe\">\n",
              "  <thead>\n",
              "    <tr style=\"text-align: right;\">\n",
              "      <th></th>\n",
              "      <th>A</th>\n",
              "      <th>B</th>\n",
              "      <th>C</th>\n",
              "      <th>D</th>\n",
              "      <th>E</th>\n",
              "    </tr>\n",
              "  </thead>\n",
              "  <tbody>\n",
              "    <tr>\n",
              "      <th>Ram</th>\n",
              "      <td>73.0</td>\n",
              "      <td>4.0</td>\n",
              "      <td>430</td>\n",
              "      <td>4</td>\n",
              "      <td>NaN</td>\n",
              "    </tr>\n",
              "    <tr>\n",
              "      <th>Sham</th>\n",
              "      <td>365.0</td>\n",
              "      <td>145.0</td>\n",
              "      <td>294</td>\n",
              "      <td>345</td>\n",
              "      <td>NaN</td>\n",
              "    </tr>\n",
              "    <tr>\n",
              "      <th>Mohan</th>\n",
              "      <td>168.0</td>\n",
              "      <td>195.0</td>\n",
              "      <td>42</td>\n",
              "      <td>17</td>\n",
              "      <td>NaN</td>\n",
              "    </tr>\n",
              "    <tr>\n",
              "      <th>Bagan</th>\n",
              "      <td>268.0</td>\n",
              "      <td>120.0</td>\n",
              "      <td>168</td>\n",
              "      <td>84</td>\n",
              "      <td>NaN</td>\n",
              "    </tr>\n",
              "    <tr>\n",
              "      <th>Awara</th>\n",
              "      <td>56.0</td>\n",
              "      <td>480.0</td>\n",
              "      <td>96</td>\n",
              "      <td>258</td>\n",
              "      <td>NaN</td>\n",
              "    </tr>\n",
              "    <tr>\n",
              "      <th>Ram</th>\n",
              "      <td>NaN</td>\n",
              "      <td>NaN</td>\n",
              "      <td>430</td>\n",
              "      <td>4</td>\n",
              "      <td>200.0</td>\n",
              "    </tr>\n",
              "    <tr>\n",
              "      <th>Sham</th>\n",
              "      <td>NaN</td>\n",
              "      <td>NaN</td>\n",
              "      <td>294</td>\n",
              "      <td>345</td>\n",
              "      <td>17250.0</td>\n",
              "    </tr>\n",
              "    <tr>\n",
              "      <th>Mohan</th>\n",
              "      <td>NaN</td>\n",
              "      <td>NaN</td>\n",
              "      <td>42</td>\n",
              "      <td>17</td>\n",
              "      <td>850.0</td>\n",
              "    </tr>\n",
              "  </tbody>\n",
              "</table>\n",
              "</div>"
            ],
            "text/plain": [
              "           A      B    C    D        E\n",
              "Ram     73.0    4.0  430    4      NaN\n",
              "Sham   365.0  145.0  294  345      NaN\n",
              "Mohan  168.0  195.0   42   17      NaN\n",
              "Bagan  268.0  120.0  168   84      NaN\n",
              "Awara   56.0  480.0   96  258      NaN\n",
              "Ram      NaN    NaN  430    4    200.0\n",
              "Sham     NaN    NaN  294  345  17250.0\n",
              "Mohan    NaN    NaN   42   17    850.0"
            ]
          },
          "metadata": {
            "tags": []
          },
          "execution_count": 31
        }
      ]
    },
    {
      "cell_type": "code",
      "metadata": {
        "colab": {
          "base_uri": "https://localhost:8080/",
          "height": 294
        },
        "id": "lFCYrudMwDQl",
        "outputId": "0154d799-5f77-413c-ac61-2ffaf846b936"
      },
      "source": [
        "df_concat1.sort_index(inplace=True)\r\n",
        "df_concat1"
      ],
      "execution_count": 32,
      "outputs": [
        {
          "output_type": "execute_result",
          "data": {
            "text/html": [
              "<div>\n",
              "<style scoped>\n",
              "    .dataframe tbody tr th:only-of-type {\n",
              "        vertical-align: middle;\n",
              "    }\n",
              "\n",
              "    .dataframe tbody tr th {\n",
              "        vertical-align: top;\n",
              "    }\n",
              "\n",
              "    .dataframe thead th {\n",
              "        text-align: right;\n",
              "    }\n",
              "</style>\n",
              "<table border=\"1\" class=\"dataframe\">\n",
              "  <thead>\n",
              "    <tr style=\"text-align: right;\">\n",
              "      <th></th>\n",
              "      <th>A</th>\n",
              "      <th>B</th>\n",
              "      <th>C</th>\n",
              "      <th>D</th>\n",
              "      <th>E</th>\n",
              "    </tr>\n",
              "  </thead>\n",
              "  <tbody>\n",
              "    <tr>\n",
              "      <th>Awara</th>\n",
              "      <td>56.0</td>\n",
              "      <td>480.0</td>\n",
              "      <td>96</td>\n",
              "      <td>258</td>\n",
              "      <td>NaN</td>\n",
              "    </tr>\n",
              "    <tr>\n",
              "      <th>Bagan</th>\n",
              "      <td>268.0</td>\n",
              "      <td>120.0</td>\n",
              "      <td>168</td>\n",
              "      <td>84</td>\n",
              "      <td>NaN</td>\n",
              "    </tr>\n",
              "    <tr>\n",
              "      <th>Mohan</th>\n",
              "      <td>168.0</td>\n",
              "      <td>195.0</td>\n",
              "      <td>42</td>\n",
              "      <td>17</td>\n",
              "      <td>NaN</td>\n",
              "    </tr>\n",
              "    <tr>\n",
              "      <th>Mohan</th>\n",
              "      <td>NaN</td>\n",
              "      <td>NaN</td>\n",
              "      <td>42</td>\n",
              "      <td>17</td>\n",
              "      <td>850.0</td>\n",
              "    </tr>\n",
              "    <tr>\n",
              "      <th>Ram</th>\n",
              "      <td>73.0</td>\n",
              "      <td>4.0</td>\n",
              "      <td>430</td>\n",
              "      <td>4</td>\n",
              "      <td>NaN</td>\n",
              "    </tr>\n",
              "    <tr>\n",
              "      <th>Ram</th>\n",
              "      <td>NaN</td>\n",
              "      <td>NaN</td>\n",
              "      <td>430</td>\n",
              "      <td>4</td>\n",
              "      <td>200.0</td>\n",
              "    </tr>\n",
              "    <tr>\n",
              "      <th>Sham</th>\n",
              "      <td>365.0</td>\n",
              "      <td>145.0</td>\n",
              "      <td>294</td>\n",
              "      <td>345</td>\n",
              "      <td>NaN</td>\n",
              "    </tr>\n",
              "    <tr>\n",
              "      <th>Sham</th>\n",
              "      <td>NaN</td>\n",
              "      <td>NaN</td>\n",
              "      <td>294</td>\n",
              "      <td>345</td>\n",
              "      <td>17250.0</td>\n",
              "    </tr>\n",
              "  </tbody>\n",
              "</table>\n",
              "</div>"
            ],
            "text/plain": [
              "           A      B    C    D        E\n",
              "Awara   56.0  480.0   96  258      NaN\n",
              "Bagan  268.0  120.0  168   84      NaN\n",
              "Mohan  168.0  195.0   42   17      NaN\n",
              "Mohan    NaN    NaN   42   17    850.0\n",
              "Ram     73.0    4.0  430    4      NaN\n",
              "Ram      NaN    NaN  430    4    200.0\n",
              "Sham   365.0  145.0  294  345      NaN\n",
              "Sham     NaN    NaN  294  345  17250.0"
            ]
          },
          "metadata": {
            "tags": []
          },
          "execution_count": 32
        }
      ]
    },
    {
      "cell_type": "code",
      "metadata": {
        "id": "xnPvweJAwXO7"
      },
      "source": [
        "df_concat1.to_csv('pandas_test.csv', index=False)"
      ],
      "execution_count": 33,
      "outputs": []
    },
    {
      "cell_type": "code",
      "metadata": {
        "id": "K0iWnE8wwkpu"
      },
      "source": [
        ""
      ],
      "execution_count": null,
      "outputs": []
    }
  ]
}