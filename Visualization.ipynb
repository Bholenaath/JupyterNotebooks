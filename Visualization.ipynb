{
  "nbformat": 4,
  "nbformat_minor": 0,
  "metadata": {
    "kernelspec": {
      "display_name": "Python 3",
      "language": "python",
      "name": "python3"
    },
    "language_info": {
      "codemirror_mode": {
        "name": "ipython",
        "version": 3
      },
      "file_extension": ".py",
      "mimetype": "text/x-python",
      "name": "python",
      "nbconvert_exporter": "python",
      "pygments_lexer": "ipython3",
      "version": "3.7.6"
    },
    "colab": {
      "name": "Visualization.ipynb",
      "provenance": [],
      "include_colab_link": true
    }
  },
  "cells": [
    {
      "cell_type": "markdown",
      "metadata": {
        "id": "view-in-github",
        "colab_type": "text"
      },
      "source": [
        "<a href=\"https://colab.research.google.com/github/a-dhingra/JupyterNotebooks/blob/master/Visualization.ipynb\" target=\"_parent\"><img src=\"https://colab.research.google.com/assets/colab-badge.svg\" alt=\"Open In Colab\"/></a>"
      ]
    },
    {
      "cell_type": "markdown",
      "metadata": {
        "id": "vmSp5PesXQma"
      },
      "source": [
        "When we draw a dice 6000 times, we expect to get each value around 1000 times. But when we draw two dices and sum the result, the distribution should be normal. \r\n",
        "A histogram will be used to show this example."
      ]
    },
    {
      "cell_type": "code",
      "metadata": {
        "id": "bZIFNQVeXQmg"
      },
      "source": [
        "import pandas as pd\n",
        "import numpy as np"
      ],
      "execution_count": 10,
      "outputs": []
    },
    {
      "cell_type": "code",
      "metadata": {
        "colab": {
          "base_uri": "https://localhost:8080/",
          "height": 233
        },
        "id": "kZRrqdeKXQmg",
        "outputId": "90ece629-f261-4b44-e647-a286d29a3ace"
      },
      "source": [
        "df = pd.DataFrame(\n",
        "                  np.random.randint(1, 7, 6000)\n",
        "                  , columns=['Dice1_value']\n",
        "                  # , index=False\n",
        "                  )\n",
        "df['Roll_count'] = df.index\n",
        "df['Roll_count'] += 1\n",
        "df.index.drop\n",
        "df = df.set_index('Roll_count')\n",
        "df.head()"
      ],
      "execution_count": 11,
      "outputs": [
        {
          "output_type": "execute_result",
          "data": {
            "text/html": [
              "<div>\n",
              "<style scoped>\n",
              "    .dataframe tbody tr th:only-of-type {\n",
              "        vertical-align: middle;\n",
              "    }\n",
              "\n",
              "    .dataframe tbody tr th {\n",
              "        vertical-align: top;\n",
              "    }\n",
              "\n",
              "    .dataframe thead th {\n",
              "        text-align: right;\n",
              "    }\n",
              "</style>\n",
              "<table border=\"1\" class=\"dataframe\">\n",
              "  <thead>\n",
              "    <tr style=\"text-align: right;\">\n",
              "      <th></th>\n",
              "      <th>Dice1_value</th>\n",
              "    </tr>\n",
              "    <tr>\n",
              "      <th>Roll_count</th>\n",
              "      <th></th>\n",
              "    </tr>\n",
              "  </thead>\n",
              "  <tbody>\n",
              "    <tr>\n",
              "      <th>1</th>\n",
              "      <td>6</td>\n",
              "    </tr>\n",
              "    <tr>\n",
              "      <th>2</th>\n",
              "      <td>1</td>\n",
              "    </tr>\n",
              "    <tr>\n",
              "      <th>3</th>\n",
              "      <td>2</td>\n",
              "    </tr>\n",
              "    <tr>\n",
              "      <th>4</th>\n",
              "      <td>5</td>\n",
              "    </tr>\n",
              "    <tr>\n",
              "      <th>5</th>\n",
              "      <td>2</td>\n",
              "    </tr>\n",
              "  </tbody>\n",
              "</table>\n",
              "</div>"
            ],
            "text/plain": [
              "            Dice1_value\n",
              "Roll_count             \n",
              "1                     6\n",
              "2                     1\n",
              "3                     2\n",
              "4                     5\n",
              "5                     2"
            ]
          },
          "metadata": {
            "tags": []
          },
          "execution_count": 11
        }
      ]
    },
    {
      "cell_type": "markdown",
      "metadata": {
        "id": "VfQp4WjsY0Bx"
      },
      "source": [
        "Starting with rolling of **One dice**, we will create a dataframe of values rolled in for one dice 6000 times"
      ]
    },
    {
      "cell_type": "code",
      "metadata": {
        "colab": {
          "base_uri": "https://localhost:8080/"
        },
        "id": "IN2kbLGVYcUy",
        "outputId": "4fedd201-44e2-451a-ecc2-d9674b39948c"
      },
      "source": [
        "df.shape"
      ],
      "execution_count": 12,
      "outputs": [
        {
          "output_type": "execute_result",
          "data": {
            "text/plain": [
              "(6000, 1)"
            ]
          },
          "metadata": {
            "tags": []
          },
          "execution_count": 12
        }
      ]
    },
    {
      "cell_type": "code",
      "metadata": {
        "colab": {
          "base_uri": "https://localhost:8080/"
        },
        "id": "0d83bC8OYlMz",
        "outputId": "269b9eae-82e2-473f-833c-bc45e7c01044"
      },
      "source": [
        "len(df)"
      ],
      "execution_count": 13,
      "outputs": [
        {
          "output_type": "execute_result",
          "data": {
            "text/plain": [
              "6000"
            ]
          },
          "metadata": {
            "tags": []
          },
          "execution_count": 13
        }
      ]
    },
    {
      "cell_type": "code",
      "metadata": {
        "colab": {
          "base_uri": "https://localhost:8080/"
        },
        "id": "V7QC83ELYnGL",
        "outputId": "0e0fce4f-3145-4b04-931c-d3f574a25881"
      },
      "source": [
        "df.describe"
      ],
      "execution_count": 14,
      "outputs": [
        {
          "output_type": "execute_result",
          "data": {
            "text/plain": [
              "<bound method NDFrame.describe of             Dice1_value\n",
              "Roll_count             \n",
              "1                     6\n",
              "2                     1\n",
              "3                     2\n",
              "4                     5\n",
              "5                     2\n",
              "...                 ...\n",
              "5996                  6\n",
              "5997                  2\n",
              "5998                  1\n",
              "5999                  4\n",
              "6000                  4\n",
              "\n",
              "[6000 rows x 1 columns]>"
            ]
          },
          "metadata": {
            "tags": []
          },
          "execution_count": 14
        }
      ]
    },
    {
      "cell_type": "code",
      "metadata": {
        "id": "M-AUB6LRZNOb"
      },
      "source": [
        "# importing visualization bindings\r\n",
        "import seaborn as sn\r\n",
        "import matplotlib.pyplot as plt"
      ],
      "execution_count": 15,
      "outputs": []
    },
    {
      "cell_type": "code",
      "metadata": {
        "colab": {
          "base_uri": "https://localhost:8080/",
          "height": 313
        },
        "id": "P4PnraeBZz6U",
        "outputId": "8dc7cfae-1596-4b93-8169-e1ce8c8a523e"
      },
      "source": [
        "plt.hist(df.Dice1_value, alpha=0.7, color='blue')\r\n",
        "plt.title('Frequency of rolled values')\r\n",
        "plt.grid(True)\r\n",
        "plt.xlabel('Value of Dice')\r\n",
        "plt.ylabel('Frequency of each value')\r\n",
        "plt.copper()\r\n",
        "plt.autoscale()\r\n",
        "plt.xticks(np.arange(1,7,step=1))\r\n",
        "plt.figure(figsize=(16,10))\r\n",
        "plt.show()"
      ],
      "execution_count": 16,
      "outputs": [
        {
          "output_type": "display_data",
          "data": {
            "image/png": "[encoded data removed]",
            "text/plain": [
              "<Figure size 432x288 with 1 Axes>"
            ]
          },
          "metadata": {
            "tags": [],
            "needs_background": "light"
          }
        },
        {
          "output_type": "display_data",
          "data": {
            "text/plain": [
              "<Figure size 1152x720 with 0 Axes>"
            ]
          },
          "metadata": {
            "tags": []
          }
        }
      ]
    },
    {
      "cell_type": "code",
      "metadata": {
        "colab": {
          "base_uri": "https://localhost:8080/",
          "height": 297
        },
        "id": "0aYW1Yg_XQmh",
        "outputId": "51918ee5-7436-4570-fe25-5e7d3671b5c7"
      },
      "source": [
        "df['Dice2_value'] = np.random.randint(1, 7, 6000)\r\n",
        "df['Sum_of_Rolls'] = df['Dice1_value'] + df['Dice2_value']\r\n",
        "df.head()\r\n",
        "plt.hist(df.Sum_of_Rolls, alpha=0.65, color='black')\r\n",
        "plt.grid(True)\r\n",
        "plt.xticks()\r\n",
        "# plt.yscale('Log')\r\n",
        "plt.hlines(500, 2, 12,colors='lightgreen', linestyles='solid')\r\n",
        "plt.xlabel('Dice values')\r\n",
        "plt.figure(figsize=[18,10],facecolor='lightblue',edgecolor='b', frameon=False)\r\n",
        "plt.show()\r\n",
        "# ax = df.plot.hist(bins=12, alpha=0.4)"
      ],
      "execution_count": 48,
      "outputs": [
        {
          "output_type": "display_data",
          "data": {
            "image/png": "[encoded data removed]",
            "text/plain": [
              "<Figure size 432x288 with 1 Axes>"
            ]
          },
          "metadata": {
            "tags": [],
            "needs_background": "light"
          }
        },
        {
          "output_type": "display_data",
          "data": {
            "text/plain": [
              "<Figure size 1296x720 with 0 Axes>"
            ]
          },
          "metadata": {
            "tags": []
          }
        }
      ]
    },
    {
      "cell_type": "markdown",
      "metadata": {
        "id": "gTdFX32EnrnR"
      },
      "source": [
        "Using plotly.express binding to create a histogram"
      ]
    },
    {
      "cell_type": "code",
      "metadata": {
        "colab": {
          "base_uri": "https://localhost:8080/",
          "height": 542
        },
        "id": "xwyTe_gogvRA",
        "outputId": "e239eaba-5fd6-490d-f564-f2a4a3a97068"
      },
      "source": [
        "import plotly.express as px\r\n",
        "# import plotly_express.colors.qualitative\r\n",
        "fig = px.histogram(df, \r\n",
        "                   x=df['Sum_of_Rolls'], \r\n",
        "                   opacity=0.5\r\n",
        "                   ,barmode='relative'\r\n",
        "                  #  ,color='Sum_of_Rolls'\r\n",
        "                  #  ,face_col_wrap=0.2\r\n",
        "                  )\r\n",
        "# fig = px.histogram(df,\r\n",
        "#                    x=df['Dice1_value']\r\n",
        "#                    ,opacity=0.33)\r\n",
        "fig.show()\r\n"
      ],
      "execution_count": 60,
      "outputs": [
        {
          "output_type": "display_data",
          "data": {
            "text/html": [
              "<html>\n",
              "<head><meta charset=\"utf-8\" /></head>\n",
              "<body>\n",
              "    <div>\n",
              "            <script src=\"https://cdnjs.cloudflare.com/ajax/libs/mathjax/2.7.5/MathJax.js?config=TeX-AMS-MML_SVG\"></script><script type=\"text/javascript\">if (window.MathJax) {MathJax.Hub.Config({SVG: {font: \"STIX-Web\"}});}</script>\n",
              "                <script type=\"text/javascript\">window.PlotlyConfig = {MathJaxConfig: 'local'};</script>\n",
              "        <script src=\"https://cdn.plot.ly/plotly-latest.min.js\"></script>    \n",
              "            <div id=\"9159b370-871b-4b03-85a0-0081530e0fd1\" class=\"plotly-graph-div\" style=\"height:525px; width:100%;\"></div>\n",
              "            <script type=\"text/javascript\">\n",
              "                \n",
              "                    window.PLOTLYENV=window.PLOTLYENV || {};\n",
              "                    \n",
              "                if (document.getElementById(\"9159b370-871b-4b03-85a0-0081530e0fd1\")) {\n",
              "                    Plotly.newPlot(\n",
              "                        '9159b370-871b-4b03-85a0-0081530e0fd1',\n",
              "                        [{\"alignmentgroup\": \"True\", \"bingroup\": \"x\", \"hoverlabel\": {\"namelength\": 0}, \"hovertemplate\": \"Sum_of_Rolls=%{x}<br>count=%{y}\", \"legendgroup\": \"\", \"marker\": {\"color\": \"#636efa\", \"opacity\": 0.5}, \"name\": \"\", \"offsetgroup\": \"\", \"orientation\": \"v\", \"showlegend\": false, \"type\": \"histogram\", \"x\": [8, 7, 6, 7, 4, 9, 9, 9, 7, 9, 9, 9, 10, 7, 7, 8, 7, 9, 12, 7, 6, 5, 10, 6, 3, 10, 6, 3, 4, 7, 3, 4, 4, 10, 6, 4, 6, 4, 6, 10, 3, 3, 7, 9, 7, 5, 6, 12, 4, 8, 6, 11, 10, 8, 9, 6, 8, 4, 9, 3, 8, 6, 4, 8, 6, 8, 8, 8, 3, 5, 4, 8, 6, 7, 7, 5, 3, 4, 8, 2, 3, 2, 7, 5, 2, 4, 10, 6, 9, 5, 4, 5, 4, 7, 5, 7, 7, 7, 11, 12, 10, 6, 9, 2, 9, 11, 12, 7, 5, 11, 7, 4, 6, 5, 3, 8, 5, 3, 4, 9, 10, 9, 7, 7, 6, 7, 9, 2, 5, 7, 8, 5, 4, 4, 5, 7, 3, 6, 7, 7, 7, 4, 6, 8, 7, 6, 9, 7, 5, 5, 8, 4, 5, 7, 5, 10, 7, 8, 8, 5, 9, 3, 9, 12, 7, 4, 9, 5, 9, 5, 9, 7, 7, 3, 9, 8, 5, 5, 5, 5, 6, 11, 2, 9, 9, 5, 8, 9, 9, 4, 4, 7, 8, 7, 10, 7, 4, 4, 9, 7, 4, 10, 3, 12, 8, 8, 6, 12, 7, 7, 9, 5, 10, 12, 2, 10, 8, 7, 11, 9, 7, 5, 8, 10, 6, 6, 6, 7, 8, 9, 4, 9, 2, 3, 8, 6, 7, 8, 7, 6, 9, 12, 3, 9, 4, 7, 8, 6, 5, 6, 5, 6, 9, 12, 3, 9, 12, 6, 6, 6, 9, 7, 9, 10, 8, 6, 7, 7, 9, 4, 5, 10, 4, 8, 9, 8, 8, 5, 7, 10, 8, 10, 10, 3, 7, 9, 10, 10, 4, 4, 11, 11, 2, 7, 11, 11, 6, 7, 9, 5, 8, 4, 4, 6, 9, 8, 6, 5, 6, 7, 8, 7, 8, 10, 7, 9, 5, 9, 10, 9, 3, 3, 5, 11, 9, 6, 7, 5, 9, 6, 6, 5, 9, 6, 4, 6, 9, 11, 9, 10, 10, 9, 8, 8, 8, 9, 7, 5, 7, 9, 6, 3, 9, 11, 6, 3, 6, 5, 11, 10, 10, 5, 9, 11, 5, 9, 5, 10, 8, 3, 6, 6, 7, 12, 10, 7, 7, 5, 7, 10, 7, 4, 6, 4, 11, 8, 4, 9, 5, 7, 8, 5, 4, 11, 8, 7, 6, 2, 10, 3, 6, 2, 6, 5, 6, 9, 4, 6, 8, 4, 5, 9, 8, 4, 5, 5, 8, 6, 9, 3, 9, 5, 5, 6, 8, 8, 9, 4, 10, 10, 7, 8, 8, 6, 11, 10, 11, 10, 9, 9, 3, 7, 7, 6, 8, 5, 8, 9, 4, 8, 7, 6, 5, 8, 6, 8, 7, 7, 6, 10, 7, 6, 7, 7, 6, 9, 6, 12, 5, 10, 7, 6, 4, 5, 7, 11, 6, 4, 7, 7, 8, 8, 6, 5, 6, 3, 8, 10, 8, 6, 3, 11, 7, 11, 9, 9, 6, 9, 5, 8, 6, 7, 4, 9, 9, 6, 7, 5, 4, 9, 6, 12, 7, 7, 7, 6, 9, 2, 11, 5, 3, 4, 10, 8, 5, 7, 9, 4, 5, 2, 5, 3, 9, 9, 5, 8, 8, 10, 12, 7, 4, 9, 11, 5, 2, 6, 4, 3, 8, 11, 7, 9, 5, 11, 7, 10, 5, 7, 6, 8, 2, 8, 5, 5, 10, 6, 3, 6, 12, 4, 9, 8, 10, 6, 5, 9, 3, 7, 5, 9, 6, 7, 12, 7, 4, 4, 2, 8, 4, 3, 10, 10, 6, 7, 6, 10, 12, 7, 3, 7, 4, 9, 9, 7, 6, 11, 7, 4, 9, 6, 5, 10, 6, 7, 6, 9, 2, 7, 9, 9, 7, 7, 5, 7, 6, 9, 4, 10, 6, 7, 11, 8, 3, 3, 7, 9, 7, 5, 5, 6, 6, 3, 5, 6, 3, 6, 10, 12, 10, 8, 3, 10, 8, 2, 4, 2, 4, 5, 6, 11, 10, 6, 6, 7, 5, 3, 5, 7, 8, 7, 5, 7, 7, 5, 4, 8, 9, 4, 4, 6, 10, 4, 5, 4, 7, 2, 7, 10, 10, 11, 9, 7, 10, 9, 12, 10, 7, 6, 7, 9, 5, 7, 7, 8, 8, 10, 6, 7, 10, 6, 10, 5, 6, 6, 8, 3, 5, 7, 7, 7, 12, 2, 9, 6, 6, 10, 9, 5, 8, 7, 4, 6, 4, 6, 7, 8, 5, 4, 7, 10, 7, 7, 5, 8, 6, 7, 7, 11, 11, 9, 8, 8, 4, 6, 4, 4, 8, 6, 5, 7, 9, 9, 10, 8, 4, 8, 3, 7, 9, 2, 4, 7, 7, 8, 9, 12, 6, 5, 9, 3, 8, 9, 4, 8, 10, 6, 5, 6, 12, 9, 9, 7, 6, 8, 12, 8, 7, 10, 7, 8, 6, 11, 11, 8, 9, 7, 12, 9, 8, 7, 11, 7, 8, 4, 9, 6, 5, 11, 10, 6, 6, 10, 5, 7, 6, 9, 7, 3, 7, 7, 8, 2, 10, 5, 4, 6, 6, 4, 7, 4, 5, 7, 11, 7, 3, 11, 5, 7, 4, 5, 4, 4, 7, 10, 6, 7, 6, 4, 5, 10, 7, 6, 3, 9, 2, 8, 4, 6, 11, 12, 3, 6, 9, 4, 7, 5, 6, 5, 10, 12, 6, 7, 7, 2, 7, 8, 7, 7, 3, 10, 11, 7, 5, 6, 10, 6, 5, 4, 5, 5, 12, 8, 4, 7, 10, 8, 5, 3, 4, 6, 6, 2, 5, 9, 12, 7, 8, 4, 8, 6, 6, 7, 5, 9, 4, 8, 5, 5, 7, 3, 7, 4, 12, 6, 2, 10, 10, 9, 7, 7, 3, 8, 6, 6, 8, 2, 4, 5, 7, 12, 6, 5, 9, 6, 5, 4, 7, 7, 3, 8, 9, 4, 7, 5, 10, 7, 9, 7, 10, 5, 5, 6, 5, 9, 11, 9, 10, 9, 6, 7, 9, 7, 7, 7, 11, 7, 11, 11, 4, 7, 6, 4, 8, 4, 11, 10, 9, 11, 9, 5, 8, 5, 3, 5, 7, 6, 9, 5, 6, 12, 9, 11, 10, 3, 8, 5, 10, 4, 4, 7, 8, 3, 7, 9, 4, 9, 5, 9, 9, 8, 7, 7, 11, 4, 5, 6, 8, 9, 7, 10, 4, 2, 10, 4, 4, 11, 4, 9, 7, 5, 5, 4, 6, 6, 8, 10, 7, 9, 5, 10, 6, 4, 4, 8, 8, 12, 3, 7, 4, 11, 9, 9, 9, 7, 8, 7, 6, 11, 9, 8, 7, 11, 8, 12, 7, 9, 4, 6, 10, 8, 6, 6, 6, 9, 5, 8, 4, 5, 7, 10, 6, 6, 9, 7, 7, 6, 9, 8, 7, 7, 2, 10, 7, 3, 5, 11, 6, 8, 9, 8, 8, 9, 8, 3, 7, 9, 9, 9, 7, 6, 4, 5, 5, 3, 9, 7, 9, 9, 2, 3, 11, 5, 4, 5, 7, 4, 5, 6, 6, 8, 5, 6, 10, 7, 6, 6, 7, 8, 3, 2, 5, 7, 6, 7, 3, 8, 4, 11, 6, 4, 5, 8, 6, 5, 12, 3, 12, 8, 7, 7, 8, 6, 9, 7, 6, 10, 5, 6, 3, 6, 10, 2, 8, 5, 6, 11, 9, 9, 6, 10, 2, 7, 9, 11, 7, 12, 4, 7, 8, 6, 10, 7, 4, 7, 9, 10, 3, 9, 7, 8, 4, 4, 10, 3, 5, 8, 6, 10, 5, 8, 8, 9, 4, 4, 8, 11, 4, 8, 3, 4, 4, 6, 8, 9, 5, 6, 5, 12, 7, 8, 10, 8, 7, 7, 9, 7, 6, 10, 7, 5, 7, 9, 4, 9, 7, 7, 11, 9, 6, 4, 5, 10, 4, 9, 11, 12, 4, 3, 11, 4, 4, 5, 9, 3, 7, 8, 4, 12, 6, 6, 9, 7, 6, 3, 6, 7, 8, 8, 9, 6, 11, 5, 7, 8, 9, 10, 9, 4, 3, 10, 11, 12, 8, 5, 7, 3, 12, 4, 10, 10, 3, 7, 7, 10, 8, 2, 5, 4, 4, 8, 11, 8, 8, 10, 7, 4, 9, 2, 8, 6, 7, 2, 8, 4, 6, 12, 9, 9, 10, 5, 8, 8, 2, 4, 7, 12, 8, 9, 10, 4, 8, 8, 9, 9, 6, 7, 10, 7, 7, 5, 4, 8, 12, 8, 7, 12, 6, 6, 7, 6, 8, 6, 10, 11, 4, 5, 7, 11, 7, 2, 9, 5, 6, 7, 10, 7, 7, 9, 6, 6, 10, 11, 8, 6, 8, 7, 3, 7, 4, 9, 6, 4, 6, 5, 7, 5, 8, 9, 9, 6, 7, 6, 5, 10, 3, 7, 8, 4, 9, 3, 8, 11, 8, 7, 11, 7, 7, 6, 6, 4, 6, 4, 8, 6, 5, 3, 6, 9, 7, 10, 11, 9, 11, 5, 3, 4, 5, 3, 4, 9, 4, 4, 7, 11, 5, 9, 11, 3, 11, 5, 11, 7, 8, 8, 5, 6, 5, 11, 7, 11, 7, 8, 4, 11, 7, 12, 9, 8, 10, 4, 11, 12, 10, 8, 6, 9, 5, 7, 11, 5, 8, 6, 11, 7, 8, 7, 5, 7, 8, 8, 9, 6, 6, 7, 9, 8, 7, 11, 10, 6, 5, 8, 6, 9, 12, 7, 5, 6, 8, 4, 7, 6, 7, 10, 10, 7, 3, 4, 5, 6, 6, 4, 9, 7, 4, 7, 9, 4, 5, 2, 5, 5, 6, 10, 7, 9, 10, 8, 5, 9, 9, 2, 7, 2, 3, 9, 3, 9, 7, 10, 11, 8, 5, 4, 6, 5, 5, 7, 11, 9, 9, 8, 10, 3, 6, 7, 8, 7, 7, 5, 10, 11, 9, 12, 8, 9, 5, 5, 4, 7, 3, 9, 4, 6, 8, 8, 4, 6, 9, 11, 11, 8, 4, 6, 4, 3, 9, 7, 5, 3, 7, 6, 6, 6, 2, 11, 7, 5, 6, 6, 11, 7, 3, 8, 7, 8, 8, 6, 8, 7, 10, 10, 10, 11, 9, 2, 8, 3, 6, 9, 6, 10, 11, 9, 4, 3, 9, 10, 11, 6, 10, 5, 8, 9, 5, 4, 7, 10, 5, 5, 8, 8, 10, 7, 7, 2, 6, 10, 10, 10, 7, 9, 5, 5, 9, 7, 7, 12, 6, 5, 7, 9, 7, 7, 7, 6, 2, 7, 6, 8, 12, 7, 9, 9, 11, 6, 5, 8, 8, 4, 7, 4, 5, 6, 4, 9, 6, 5, 8, 2, 7, 6, 6, 6, 10, 7, 7, 8, 9, 12, 5, 6, 9, 8, 8, 11, 9, 7, 4, 10, 12, 7, 4, 9, 3, 5, 10, 6, 2, 7, 10, 8, 3, 6, 4, 11, 7, 8, 2, 4, 6, 11, 8, 4, 3, 5, 8, 10, 7, 7, 5, 8, 5, 7, 5, 12, 4, 4, 3, 8, 6, 7, 9, 8, 2, 2, 8, 3, 3, 4, 6, 9, 4, 7, 7, 9, 5, 7, 8, 3, 5, 6, 3, 7, 6, 9, 9, 9, 8, 6, 7, 8, 7, 10, 4, 7, 9, 9, 10, 10, 7, 8, 6, 10, 4, 8, 5, 6, 6, 6, 8, 5, 3, 9, 10, 8, 10, 6, 8, 4, 9, 5, 7, 8, 8, 3, 10, 7, 3, 3, 7, 4, 3, 10, 7, 8, 7, 8, 7, 8, 7, 4, 7, 4, 11, 7, 4, 9, 7, 4, 3, 9, 9, 6, 4, 4, 9, 6, 4, 11, 7, 7, 6, 9, 9, 4, 10, 9, 8, 10, 10, 6, 8, 11, 7, 4, 9, 7, 5, 7, 9, 8, 6, 9, 6, 7, 5, 8, 8, 5, 11, 12, 8, 5, 6, 5, 3, 4, 5, 5, 8, 4, 4, 6, 7, 10, 3, 4, 7, 5, 7, 6, 4, 6, 5, 9, 6, 6, 7, 7, 7, 9, 5, 9, 4, 10, 3, 10, 11, 6, 2, 4, 6, 9, 6, 10, 5, 10, 7, 8, 8, 7, 9, 9, 4, 6, 4, 11, 9, 7, 9, 10, 5, 9, 4, 5, 3, 4, 9, 10, 6, 6, 5, 12, 9, 4, 7, 8, 4, 12, 8, 7, 7, 12, 6, 5, 7, 7, 7, 9, 9, 12, 2, 7, 5, 7, 8, 10, 7, 5, 4, 10, 4, 7, 6, 5, 6, 7, 8, 11, 12, 5, 8, 8, 6, 4, 7, 8, 5, 9, 5, 8, 6, 9, 6, 8, 8, 7, 8, 8, 12, 6, 6, 8, 6, 9, 6, 6, 7, 10, 3, 8, 4, 5, 5, 11, 9, 5, 8, 10, 5, 11, 10, 10, 4, 4, 7, 5, 8, 2, 5, 7, 6, 10, 10, 7, 9, 6, 4, 3, 10, 6, 6, 12, 4, 6, 6, 9, 9, 8, 10, 8, 7, 7, 4, 6, 10, 10, 8, 2, 6, 9, 12, 4, 7, 8, 7, 11, 7, 7, 5, 8, 9, 9, 6, 7, 6, 4, 7, 12, 5, 9, 6, 8, 6, 12, 9, 5, 6, 8, 5, 4, 6, 9, 7, 8, 8, 8, 10, 6, 7, 12, 5, 7, 5, 7, 5, 9, 12, 6, 4, 5, 10, 8, 7, 9, 5, 9, 5, 8, 8, 3, 4, 7, 11, 2, 4, 6, 6, 10, 7, 6, 12, 5, 5, 11, 5, 11, 10, 4, 9, 5, 6, 5, 6, 12, 8, 2, 7, 5, 10, 5, 7, 3, 7, 11, 4, 9, 7, 4, 4, 3, 11, 7, 7, 9, 12, 4, 10, 7, 8, 9, 6, 6, 4, 6, 7, 4, 6, 6, 7, 5, 5, 8, 5, 7, 4, 2, 5, 7, 4, 9, 4, 9, 6, 8, 9, 6, 9, 3, 10, 6, 5, 7, 4, 8, 6, 6, 9, 8, 8, 8, 5, 6, 7, 12, 5, 6, 6, 9, 5, 11, 7, 10, 6, 5, 2, 8, 9, 5, 6, 9, 9, 8, 3, 3, 6, 6, 5, 9, 10, 9, 7, 8, 10, 7, 8, 11, 5, 7, 10, 10, 9, 6, 8, 8, 5, 11, 9, 4, 10, 7, 9, 9, 3, 5, 12, 4, 5, 5, 2, 4, 5, 7, 10, 6, 3, 9, 8, 5, 8, 7, 12, 12, 4, 9, 4, 8, 5, 7, 9, 3, 5, 8, 7, 4, 9, 6, 11, 9, 7, 10, 12, 8, 4, 6, 7, 11, 10, 9, 5, 4, 9, 9, 8, 9, 7, 11, 9, 2, 5, 8, 4, 11, 3, 10, 12, 7, 7, 8, 4, 3, 9, 8, 7, 9, 8, 8, 12, 6, 3, 10, 9, 7, 7, 7, 4, 7, 10, 2, 7, 9, 4, 9, 9, 4, 7, 3, 5, 10, 12, 6, 7, 8, 4, 10, 7, 5, 6, 8, 10, 11, 5, 10, 5, 9, 3, 9, 10, 11, 7, 11, 10, 9, 7, 2, 6, 7, 7, 7, 5, 5, 11, 7, 11, 5, 8, 5, 9, 7, 4, 2, 4, 10, 2, 11, 9, 5, 6, 8, 11, 8, 11, 9, 11, 9, 6, 8, 9, 6, 7, 10, 6, 2, 8, 3, 7, 2, 11, 4, 4, 11, 7, 3, 7, 5, 6, 3, 7, 12, 8, 6, 8, 8, 7, 9, 7, 7, 4, 12, 12, 3, 8, 6, 7, 4, 7, 10, 4, 8, 11, 10, 6, 7, 6, 7, 9, 7, 12, 4, 5, 9, 5, 7, 9, 9, 5, 6, 12, 11, 8, 2, 9, 3, 7, 7, 2, 5, 9, 9, 7, 11, 7, 7, 6, 8, 10, 5, 5, 5, 11, 7, 7, 9, 7, 7, 6, 6, 8, 11, 6, 10, 8, 7, 9, 7, 7, 7, 4, 9, 5, 6, 12, 3, 12, 3, 3, 3, 10, 6, 11, 7, 7, 10, 4, 7, 5, 3, 8, 5, 5, 9, 7, 4, 5, 7, 6, 7, 9, 8, 9, 8, 4, 10, 12, 7, 7, 10, 6, 7, 11, 10, 4, 8, 4, 6, 7, 4, 9, 9, 9, 10, 8, 11, 8, 8, 4, 8, 12, 12, 3, 9, 6, 5, 7, 7, 8, 4, 11, 10, 5, 10, 10, 10, 5, 6, 9, 4, 6, 5, 7, 5, 6, 7, 6, 6, 5, 10, 7, 6, 10, 8, 8, 8, 2, 9, 6, 4, 3, 7, 3, 6, 4, 7, 5, 10, 6, 2, 11, 4, 10, 4, 5, 6, 7, 10, 8, 5, 7, 8, 3, 7, 3, 8, 6, 3, 9, 5, 8, 9, 7, 11, 8, 11, 2, 4, 8, 9, 6, 4, 7, 3, 7, 7, 6, 6, 4, 8, 10, 4, 4, 3, 7, 7, 8, 4, 9, 4, 7, 11, 9, 10, 7, 5, 4, 5, 8, 4, 6, 8, 9, 8, 4, 7, 10, 12, 6, 9, 8, 8, 10, 5, 3, 7, 6, 3, 10, 4, 11, 3, 11, 6, 6, 10, 7, 6, 6, 10, 9, 5, 11, 8, 7, 11, 8, 4, 8, 7, 5, 10, 6, 7, 11, 8, 4, 7, 3, 9, 11, 5, 8, 6, 10, 3, 9, 8, 8, 5, 6, 10, 10, 3, 7, 6, 3, 9, 10, 2, 3, 9, 9, 10, 6, 8, 7, 6, 2, 9, 4, 7, 4, 8, 5, 8, 11, 3, 9, 12, 9, 6, 9, 6, 7, 8, 10, 9, 9, 11, 6, 5, 9, 3, 6, 11, 2, 3, 6, 8, 7, 5, 9, 10, 6, 4, 6, 4, 6, 7, 7, 10, 9, 6, 8, 6, 9, 11, 6, 11, 2, 5, 3, 5, 11, 6, 10, 9, 9, 6, 4, 7, 7, 10, 7, 5, 11, 5, 6, 6, 10, 9, 4, 7, 8, 7, 5, 8, 11, 9, 9, 7, 9, 10, 8, 4, 8, 9, 8, 4, 7, 10, 8, 9, 6, 12, 7, 7, 9, 3, 9, 7, 7, 8, 9, 9, 9, 5, 6, 7, 2, 11, 5, 9, 8, 7, 5, 8, 9, 7, 6, 11, 9, 8, 12, 8, 7, 12, 7, 4, 8, 7, 7, 3, 2, 7, 5, 8, 9, 6, 6, 6, 9, 9, 7, 4, 2, 7, 5, 7, 7, 6, 3, 6, 5, 9, 3, 4, 5, 2, 8, 5, 10, 9, 7, 6, 12, 8, 8, 6, 6, 10, 5, 6, 6, 7, 10, 7, 9, 11, 10, 4, 6, 6, 9, 10, 10, 7, 8, 4, 8, 9, 10, 11, 8, 11, 9, 7, 7, 4, 10, 12, 8, 4, 9, 9, 6, 8, 10, 8, 7, 5, 9, 6, 8, 8, 10, 6, 4, 7, 9, 7, 7, 7, 5, 6, 9, 5, 9, 5, 7, 10, 5, 7, 12, 5, 11, 8, 7, 10, 9, 7, 5, 3, 9, 9, 5, 7, 7, 4, 8, 8, 6, 4, 5, 4, 8, 8, 3, 5, 3, 5, 2, 8, 7, 10, 9, 5, 9, 4, 9, 8, 6, 6, 8, 7, 9, 10, 7, 2, 10, 5, 7, 8, 7, 8, 8, 8, 9, 5, 5, 7, 12, 10, 9, 2, 6, 7, 7, 6, 9, 3, 6, 6, 5, 10, 6, 5, 5, 9, 8, 7, 10, 7, 5, 7, 9, 9, 9, 9, 8, 10, 6, 7, 8, 6, 8, 5, 7, 9, 12, 7, 8, 10, 9, 2, 7, 8, 6, 7, 9, 11, 11, 4, 2, 9, 10, 9, 9, 6, 11, 6, 7, 9, 8, 6, 9, 6, 7, 7, 10, 6, 6, 8, 9, 10, 8, 9, 7, 6, 8, 10, 12, 7, 8, 5, 9, 9, 7, 6, 5, 11, 7, 6, 11, 2, 6, 6, 5, 7, 8, 9, 9, 7, 8, 9, 9, 8, 5, 11, 8, 9, 6, 7, 2, 3, 10, 12, 11, 6, 6, 12, 4, 6, 5, 8, 5, 5, 2, 8, 9, 6, 8, 5, 9, 8, 3, 9, 7, 8, 9, 7, 3, 10, 11, 7, 4, 11, 6, 7, 7, 11, 4, 9, 7, 12, 10, 7, 4, 7, 6, 8, 5, 7, 6, 10, 10, 7, 6, 2, 10, 8, 4, 8, 6, 4, 6, 6, 3, 5, 9, 6, 5, 7, 7, 10, 6, 10, 8, 6, 8, 8, 5, 9, 10, 10, 9, 4, 10, 8, 8, 8, 4, 7, 7, 9, 3, 6, 10, 8, 5, 5, 6, 5, 3, 6, 10, 4, 4, 6, 6, 8, 5, 8, 4, 10, 7, 9, 10, 12, 12, 7, 5, 7, 9, 7, 8, 5, 11, 7, 7, 11, 5, 7, 6, 2, 6, 12, 10, 8, 8, 9, 5, 6, 8, 4, 5, 7, 4, 11, 8, 7, 6, 7, 7, 8, 6, 7, 2, 9, 6, 11, 9, 7, 8, 6, 4, 6, 8, 6, 4, 8, 6, 8, 5, 5, 6, 8, 2, 7, 3, 7, 4, 6, 5, 4, 5, 6, 8, 6, 6, 4, 4, 12, 4, 11, 4, 8, 6, 8, 3, 4, 5, 7, 3, 6, 5, 3, 4, 6, 6, 8, 6, 2, 7, 9, 8, 12, 8, 8, 3, 8, 8, 5, 9, 6, 11, 6, 12, 5, 8, 9, 10, 7, 8, 3, 5, 10, 4, 11, 4, 12, 11, 4, 2, 7, 2, 6, 3, 11, 10, 10, 6, 10, 9, 3, 8, 10, 5, 10, 11, 2, 12, 8, 10, 8, 5, 10, 12, 8, 6, 11, 6, 6, 11, 7, 10, 8, 8, 5, 8, 9, 7, 2, 2, 8, 7, 9, 4, 10, 2, 7, 4, 7, 6, 4, 6, 8, 9, 8, 10, 7, 3, 11, 9, 8, 4, 5, 3, 7, 5, 6, 8, 9, 7, 8, 3, 7, 4, 6, 5, 9, 8, 6, 5, 7, 7, 10, 7, 12, 4, 6, 12, 6, 10, 8, 5, 10, 10, 6, 12, 4, 6, 9, 6, 5, 8, 7, 2, 12, 2, 4, 10, 6, 3, 8, 6, 6, 6, 9, 6, 2, 7, 6, 11, 7, 2, 3, 6, 9, 8, 9, 5, 4, 9, 6, 5, 6, 5, 5, 9, 7, 6, 6, 6, 4, 5, 8, 12, 12, 7, 4, 5, 12, 8, 7, 9, 6, 7, 7, 7, 7, 5, 7, 11, 7, 3, 12, 7, 7, 10, 2, 4, 9, 3, 4, 9, 8, 6, 9, 5, 12, 7, 5, 10, 8, 5, 9, 7, 8, 11, 3, 9, 6, 8, 8, 4, 6, 8, 10, 7, 10, 6, 4, 8, 7, 9, 11, 10, 5, 10, 7, 7, 6, 7, 8, 6, 6, 5, 5, 7, 9, 7, 4, 5, 10, 7, 8, 12, 6, 6, 10, 5, 6, 9, 12, 7, 7, 4, 7, 6, 9, 6, 10, 5, 6, 3, 4, 11, 4, 2, 8, 7, 5, 9, 7, 8, 6, 10, 2, 7, 10, 11, 7, 5, 5, 8, 12, 6, 7, 9, 6, 4, 6, 8, 11, 8, 4, 4, 6, 9, 8, 9, 11, 11, 3, 8, 6, 10, 5, 5, 7, 7, 4, 7, 5, 9, 10, 6, 12, 8, 7, 8, 7, 8, 4, 4, 5, 4, 2, 8, 7, 10, 7, 7, 6, 6, 7, 6, 7, 10, 8, 7, 10, 9, 8, 4, 9, 7, 6, 6, 9, 8, 8, 7, 5, 6, 9, 7, 3, 7, 9, 5, 2, 7, 8, 7, 10, 8, 5, 9, 9, 8, 7, 8, 6, 7, 9, 11, 9, 5, 11, 8, 4, 10, 8, 7, 8, 6, 9, 5, 9, 4, 9, 6, 6, 7, 7, 7, 8, 7, 7, 5, 7, 7, 10, 2, 12, 8, 5, 7, 8, 5, 10, 6, 7, 2, 5, 9, 4, 7, 5, 5, 7, 11, 4, 8, 4, 4, 12, 4, 6, 11, 2, 5, 10, 8, 2, 5, 7, 7, 9, 9, 6, 6, 6, 4, 4, 6, 8, 2, 7, 4, 6, 8, 9, 6, 6, 3, 7, 3, 12, 7, 4, 10, 7, 8, 5, 8, 3, 2, 6, 8, 6, 7, 4, 7, 4, 3, 7, 10, 10, 7, 6, 7, 6, 9, 2, 7, 3, 8, 6, 9, 9, 2, 5, 6, 7, 2, 9, 4, 6, 5, 5, 7, 6, 6, 7, 3, 8, 7, 6, 10, 9, 6, 5, 8, 6, 10, 8, 6, 7, 6, 9, 3, 4, 6, 9, 9, 5, 7, 9, 11, 9, 5, 9, 7, 9, 5, 7, 9, 3, 6, 6, 4, 9, 5, 4, 6, 9, 7, 12, 3, 7, 6, 7, 8, 4, 8, 6, 9, 9, 7, 9, 9, 9, 6, 3, 9, 5, 6, 5, 4, 6, 9, 7, 5, 6, 7, 5, 10, 2, 5, 4, 6, 4, 4, 11, 11, 5, 9, 6, 7, 5, 7, 7, 6, 8, 7, 7, 6, 8, 6, 6, 4, 6, 3, 4, 10, 4, 4, 6, 5, 3, 7, 9, 7, 7, 8, 10, 6, 9, 9, 6, 7, 8, 6, 9, 7, 10, 9, 3, 9, 5, 11, 10, 9, 7, 7, 5, 6, 11, 7, 8, 10, 8, 11, 4, 5, 4, 10, 9, 7, 10, 9, 7, 3, 7, 7, 3, 6, 8, 11, 8, 6, 2, 9, 9, 8, 7, 6, 4, 7, 8, 5, 6, 9, 2, 7, 5, 7, 12, 9, 9, 10, 7, 7, 9, 9, 3, 6, 5, 12, 11, 11, 5, 7, 7, 9, 3, 11, 6, 11, 9, 7, 9, 6, 11, 8, 11, 9, 7, 6, 2, 5, 6, 10, 9, 12, 6, 10, 10, 6, 4, 2, 6, 8, 5, 9, 3, 7, 11, 8, 4, 7, 8, 6, 7, 8, 6, 8, 10, 7, 4, 7, 6, 7, 5, 4, 12, 7, 4, 6, 7, 4, 5, 5, 5, 11, 6, 4, 5, 6, 3, 4, 5, 6, 10, 8, 8, 7, 4, 11, 4, 6, 6, 9, 7, 10, 6, 7, 8, 10, 11, 9, 7, 11, 10, 2, 5, 7, 7, 6, 9, 5, 10, 8, 2, 7, 11, 7, 10, 11, 7, 9, 7, 9, 5, 5, 6, 6, 8, 7, 6, 6, 6, 5, 5, 5, 5, 6, 3, 7, 5, 4, 3, 10, 6, 7, 7, 6, 5, 7, 12, 2, 4, 7, 3, 7, 6, 9, 11, 10, 7, 8, 8, 5, 9, 7, 9, 9, 7, 8, 8, 8, 8, 6, 6, 4, 6, 8, 6, 4, 5, 4, 7, 7, 8, 6, 7, 12, 6, 5, 11, 11, 4, 6, 12, 12, 5, 10, 5, 4, 9, 9, 5, 4, 8, 6, 7, 7, 9, 5, 11, 8, 11, 8, 9, 5, 9, 7, 9, 6, 10, 7, 5, 8, 5, 8, 7, 4, 4, 8, 5, 7, 6, 7, 6, 10, 10, 11, 6, 10, 7, 7, 8, 10, 8, 11, 4, 9, 2, 9, 4, 7, 9, 4, 3, 6, 6, 4, 11, 7, 6, 7, 4, 7, 6, 10, 8, 6, 3, 8, 7, 4, 8, 7, 11, 11, 9, 7, 2, 5, 11, 7, 4, 8, 11, 6, 9, 7, 3, 6, 7, 5, 7, 10, 9, 8, 8, 2, 4, 8, 4, 7, 6, 9, 7, 3, 8, 5, 7, 7, 4, 7, 8, 5, 6, 10, 5, 3, 8, 8, 2, 7, 10, 12, 10, 9, 7, 6, 7, 9, 5, 9, 12, 7, 4, 7, 4, 5, 2, 5, 7, 8, 9, 8, 11, 8, 4, 3, 9, 5, 2, 5, 9, 7, 10, 10, 6, 2, 4, 5, 3, 12, 9, 11, 4, 8, 2, 9, 5, 7, 7, 9, 7, 10, 7, 8, 5, 7, 9, 10, 7, 11, 10, 12, 8, 2, 6, 8, 6, 9, 7, 9, 7, 4, 6, 4, 3, 5, 7, 6, 5, 9, 3, 8, 5, 7, 8, 7, 6, 6, 7, 7, 8, 5, 8, 8, 10, 7, 6, 5, 5, 4, 9, 7, 7, 10, 12, 7, 6, 9, 8, 3, 11, 7, 5, 6, 10, 10, 8, 4, 9, 8, 4, 7, 2, 7, 9, 7, 6, 9, 8, 4, 8, 6, 4, 10, 6, 7, 9, 6, 8, 6, 9, 9, 4, 7, 3, 8, 7, 6, 8, 7, 6, 2, 7, 10, 7, 9, 10, 7, 3, 8, 4, 6, 10, 4, 7, 7, 6, 7, 7, 3, 6, 9, 5, 9, 3, 7, 7, 11, 9, 3, 4, 11, 6, 9, 9, 7, 11, 11, 7, 4, 9, 7, 6, 2, 10, 9, 5, 4, 9, 6, 11, 9, 9, 9, 2, 7, 4, 8, 4, 8, 4, 3, 8, 5, 9, 11, 9, 11, 3, 10, 6, 7, 8, 11, 12, 8, 9, 9, 9, 7, 4, 9, 9, 10, 8, 7, 10, 9, 2, 6, 7, 7, 7, 9, 7, 8, 6, 10, 11, 6, 6, 10, 8, 7, 12, 10, 9, 4, 2, 8, 4, 7, 5, 8, 8, 8, 9, 9, 10, 6, 6, 4, 10, 8, 6, 7, 6, 8, 9, 11, 5, 5, 6, 9, 9, 6, 8, 3, 3, 6, 7, 9, 11, 6, 3, 12, 9, 7, 4, 6, 7, 11, 4, 5, 2, 4, 8, 7, 5, 5, 7, 8, 5, 8, 4, 3, 7, 4, 5, 6, 4, 4, 12, 3, 7, 9, 10, 5, 2, 7, 4, 7, 7, 2, 6, 10, 9, 7, 8, 10, 9, 10, 6, 6, 7, 10, 11, 10, 7, 4, 5, 8, 8, 10, 9, 8, 11, 6, 3, 8, 8, 7, 6, 5, 8, 7, 10, 8, 4, 10, 6, 7, 6, 6, 7, 8, 11, 4, 8, 10, 10, 9, 9, 2, 8, 5, 8, 8, 6, 5, 8, 12, 8, 10, 8, 7, 10, 5, 9, 11, 6, 7, 8, 5, 2, 9, 8, 9, 8, 7, 11, 7, 9, 9, 7, 8, 8, 5, 4, 5, 3, 5, 9, 7, 9, 6, 2, 4, 11, 8, 8, 7, 9, 11, 11, 9, 9, 6, 4, 2, 9, 2, 4, 8, 7, 5, 7, 7, 8, 6, 6, 7, 4, 9, 11, 12, 4, 9, 6, 7, 6, 4, 3, 5, 4, 8, 8, 7, 11, 9, 5, 8, 7, 6, 5, 6, 8, 11, 6, 8, 7, 10, 7, 7, 8, 11, 2, 3, 3, 6, 8, 2, 6, 5, 7, 11, 7, 8, 8, 7, 12, 9, 5, 3, 10, 9, 7, 4, 4, 10, 11, 7, 5, 3, 5, 7, 5, 10, 3, 5, 5, 8, 9, 10, 7, 12, 10, 12, 3, 7, 10, 10, 8, 8, 7, 5, 11, 7, 9, 12, 3, 10, 10, 3, 5, 9, 11, 8, 9, 10, 4, 6, 10, 9, 6, 5, 3, 7, 8, 4, 5, 3, 8, 3, 10, 4, 7, 8, 10, 3, 6, 9, 9, 6, 5, 6, 8, 7, 5, 5, 9, 6, 8, 6, 3, 7, 7, 10, 7, 7, 9, 6, 6, 4, 6, 6, 6, 9, 4, 4, 8, 10, 7, 5, 5, 10, 11, 8, 4, 9, 11, 5, 8, 8, 12, 10, 7, 8, 4, 11, 9, 9, 11, 7, 11, 7, 3, 8, 7, 4, 11, 8, 2, 7, 11, 8, 6, 5, 12, 10, 10, 7, 8, 5, 10, 6, 7, 8, 6, 8, 10, 6, 7, 6, 8, 8, 5, 7, 9, 5, 3, 10, 6, 5, 4, 3, 7, 6, 10, 7, 3, 8, 9, 9, 9, 2, 5, 7, 9, 8, 5, 8, 4, 7, 6, 5, 7, 7, 4, 9, 9, 6, 7, 5, 5, 4, 7, 7, 8, 11, 4, 4, 8, 8, 8, 8, 11, 5, 8, 6, 6, 9, 9, 9, 11, 12, 10, 5, 11, 4, 8, 8, 5, 8, 9, 5, 10, 4, 4, 5, 8, 4, 9, 6, 6, 11, 9, 9, 9, 11, 9, 11, 12, 2, 7, 2, 4, 4, 7, 8, 7, 8, 2, 6, 7, 3, 7, 8, 5, 12, 8, 5, 7, 6, 6, 8, 6, 3, 3, 11, 9, 8, 2, 12, 6, 3, 6, 3, 6, 9, 10, 7, 7, 2, 7, 11, 12, 3, 5, 6, 8, 8, 8, 8, 5, 7, 8, 3, 4, 7, 6, 8, 8, 9, 9, 10, 5, 5, 7, 9, 7, 5, 3, 8, 8, 9, 4, 4, 4, 12, 3, 6, 6, 7, 6, 3, 11, 8, 5, 4, 6, 6, 9, 6, 6, 7, 8, 3, 3, 2, 9, 7, 9, 5, 7, 6, 6, 8, 10, 5, 6, 12, 7, 3, 7, 6, 9, 10, 9, 9, 7, 8, 8, 3, 6, 8, 10, 5, 6, 7, 6, 6, 2, 7, 3, 2, 3, 5, 5, 9, 4, 9, 11, 6, 5, 7, 10, 7, 12, 7, 7, 5, 7, 6, 12, 8, 5, 7, 10, 11, 7, 8, 8, 6, 4, 7, 5, 8, 10, 6, 4, 9, 11, 5, 8, 10, 9, 2, 6, 4, 8, 9, 11, 8, 4, 8, 12, 7, 9, 9, 7, 8, 5, 3, 7, 5, 3, 7, 8, 2, 8, 7, 9, 8, 5, 7, 10, 6, 11, 7, 5, 7, 9, 9, 9, 11, 9, 9, 7, 9, 5, 10, 12, 6, 8, 8, 11, 6, 4, 6, 11, 10, 6, 10, 5, 8, 6, 12, 5, 8, 7, 8, 7, 5, 9, 6, 10, 10, 10, 8, 8, 8, 10, 9, 5, 11, 10, 5, 5, 9, 6, 6, 7, 7, 8, 6, 8, 3, 6, 8, 11, 9, 3, 7, 8, 8, 9, 8, 8, 3, 4, 6, 8, 12, 2, 5, 10, 5, 7, 6, 6, 6, 7, 7, 6, 8, 7, 9, 4, 10, 3, 10, 6, 6, 7, 2, 11, 3, 7, 3, 9, 7, 5, 7, 4, 7, 9, 9, 9, 4, 8, 7, 7, 8, 10, 11, 6, 10, 10, 7, 5, 2, 8, 11, 5, 6, 7, 9, 10, 9, 7, 7, 7, 8, 5, 4, 5, 7, 2, 7, 7, 5, 7, 12, 6, 9, 2, 7, 7, 9, 6, 6, 6, 9, 9, 7, 6, 6, 4, 2, 8, 5, 5, 10, 9, 4, 7, 4, 4, 8, 8, 3, 8, 4, 7, 8, 7, 5, 6, 11, 7, 8, 7, 7, 7, 10, 11, 7, 9, 7, 4, 5, 5, 9, 7, 9, 8, 7, 8, 9, 7, 10, 5, 7, 9, 6, 7, 7, 6, 10, 6, 2, 7, 7, 8, 12, 10, 3, 6, 11, 5, 8, 7, 9, 8, 7, 5, 9, 4, 7, 10, 11, 9, 5, 9, 5, 9, 5, 3, 6, 8, 6, 9, 7, 10, 10, 2, 11, 3, 6, 3, 11, 5, 8, 6, 8, 4, 5, 6, 5, 9, 5, 10, 7, 7, 5, 5, 9, 8, 4, 7, 3, 9, 2, 6, 11, 4, 8, 10, 5, 6, 7, 7, 10, 10, 11, 7, 2, 7, 7, 11, 3, 8, 10, 10, 4, 8, 5, 8, 6, 2, 8, 9, 8, 7, 8, 2, 9, 8, 8, 11, 9, 7, 10, 8, 11, 3, 5, 9, 6, 12, 7, 7, 2, 9, 7, 6, 7, 7, 11, 3, 4, 8, 3, 5, 7, 9, 6, 9, 7, 8, 3, 9, 6, 5, 4, 2, 6, 2, 5, 6, 8, 6, 9, 11, 9, 10, 10, 7, 7, 7, 9, 9, 11, 4, 5, 11, 7, 6, 3, 3, 7, 9, 4, 5, 10, 6, 4, 4, 5, 10, 7, 9, 4, 3, 11, 6, 10, 11, 6, 5, 11, 8, 11, 7, 5, 6, 4, 11, 11, 7, 6, 5, 6, 10, 6, 4, 8, 12, 4, 6, 9, 12, 5, 3, 6, 11, 7, 5, 7, 8, 10, 9, 6, 9, 6, 9, 8, 7, 9, 10, 2, 8, 4, 9, 7, 5, 5, 9, 12, 7, 6, 9, 4, 9, 4, 9, 8, 8, 8, 8, 8, 3, 5, 10, 8, 6, 9, 5, 7, 10, 8, 7, 4, 4, 9, 7, 6, 7, 9, 9, 9, 8, 9, 2, 6, 3, 5, 4, 11, 7, 7, 7, 4, 5, 12, 6, 7, 9, 10, 9, 4, 5, 6, 8, 11, 8, 5, 3, 7, 7, 11, 3, 8, 4, 4, 7, 8, 8, 6, 6, 4, 11, 5, 7, 4, 3, 12, 7, 9, 7, 10, 7, 5, 3, 7, 6, 9, 9, 11, 2, 8, 8, 5, 7, 11, 5, 6, 7, 7, 5, 6, 9, 6, 10, 8, 5, 6, 6, 5, 8, 7, 10, 6, 8, 5, 7, 4, 10, 7, 9, 11, 11, 8, 3, 9, 5, 7, 4, 8, 8, 7, 7, 8, 9, 7, 7, 8, 4, 12, 9, 10, 6, 7, 8, 4, 8, 9, 10, 2, 8, 3, 10, 6, 2, 3, 9, 11, 7, 5, 9, 7, 7, 9, 8, 8, 10, 3, 7, 7, 8, 5, 10, 5, 5, 5, 6], \"xaxis\": \"x\", \"yaxis\": \"y\"}],\n",
              "                        {\"barmode\": \"relative\", \"legend\": {\"tracegroupgap\": 0}, \"margin\": {\"t\": 60}, \"template\": {\"data\": {\"bar\": [{\"error_x\": {\"color\": \"#2a3f5f\"}, \"error_y\": {\"color\": \"#2a3f5f\"}, \"marker\": {\"line\": {\"color\": \"#E5ECF6\", \"width\": 0.5}}, \"type\": \"bar\"}], \"barpolar\": [{\"marker\": {\"line\": {\"color\": \"#E5ECF6\", \"width\": 0.5}}, \"type\": \"barpolar\"}], \"carpet\": [{\"aaxis\": {\"endlinecolor\": \"#2a3f5f\", \"gridcolor\": \"white\", \"linecolor\": \"white\", \"minorgridcolor\": \"white\", \"startlinecolor\": \"#2a3f5f\"}, \"baxis\": {\"endlinecolor\": \"#2a3f5f\", \"gridcolor\": \"white\", \"linecolor\": \"white\", \"minorgridcolor\": \"white\", \"startlinecolor\": \"#2a3f5f\"}, \"type\": \"carpet\"}], \"choropleth\": [{\"colorbar\": {\"outlinewidth\": 0, \"ticks\": \"\"}, \"type\": \"choropleth\"}], \"contour\": [{\"colorbar\": {\"outlinewidth\": 0, \"ticks\": \"\"}, \"colorscale\": [[0.0, \"#0d0887\"], [0.1111111111111111, \"#46039f\"], [0.2222222222222222, \"#7201a8\"], [0.3333333333333333, \"#9c179e\"], [0.4444444444444444, \"#bd3786\"], [0.5555555555555556, \"#d8576b\"], [0.6666666666666666, \"#ed7953\"], [0.7777777777777778, \"#fb9f3a\"], [0.8888888888888888, \"#fdca26\"], [1.0, \"#f0f921\"]], \"type\": \"contour\"}], \"contourcarpet\": [{\"colorbar\": {\"outlinewidth\": 0, \"ticks\": \"\"}, \"type\": \"contourcarpet\"}], \"heatmap\": [{\"colorbar\": {\"outlinewidth\": 0, \"ticks\": \"\"}, \"colorscale\": [[0.0, \"#0d0887\"], [0.1111111111111111, \"#46039f\"], [0.2222222222222222, \"#7201a8\"], [0.3333333333333333, \"#9c179e\"], [0.4444444444444444, \"#bd3786\"], [0.5555555555555556, \"#d8576b\"], [0.6666666666666666, \"#ed7953\"], [0.7777777777777778, \"#fb9f3a\"], [0.8888888888888888, \"#fdca26\"], [1.0, \"#f0f921\"]], \"type\": \"heatmap\"}], \"heatmapgl\": [{\"colorbar\": {\"outlinewidth\": 0, \"ticks\": \"\"}, \"colorscale\": [[0.0, \"#0d0887\"], [0.1111111111111111, \"#46039f\"], [0.2222222222222222, \"#7201a8\"], [0.3333333333333333, \"#9c179e\"], [0.4444444444444444, \"#bd3786\"], [0.5555555555555556, \"#d8576b\"], [0.6666666666666666, \"#ed7953\"], [0.7777777777777778, \"#fb9f3a\"], [0.8888888888888888, \"#fdca26\"], [1.0, \"#f0f921\"]], \"type\": \"heatmapgl\"}], \"histogram\": [{\"marker\": {\"colorbar\": {\"outlinewidth\": 0, \"ticks\": \"\"}}, \"type\": \"histogram\"}], \"histogram2d\": [{\"colorbar\": {\"outlinewidth\": 0, \"ticks\": \"\"}, \"colorscale\": [[0.0, \"#0d0887\"], [0.1111111111111111, \"#46039f\"], [0.2222222222222222, \"#7201a8\"], [0.3333333333333333, \"#9c179e\"], [0.4444444444444444, \"#bd3786\"], [0.5555555555555556, \"#d8576b\"], [0.6666666666666666, \"#ed7953\"], [0.7777777777777778, \"#fb9f3a\"], [0.8888888888888888, \"#fdca26\"], [1.0, \"#f0f921\"]], \"type\": \"histogram2d\"}], \"histogram2dcontour\": [{\"colorbar\": {\"outlinewidth\": 0, \"ticks\": \"\"}, \"colorscale\": [[0.0, \"#0d0887\"], [0.1111111111111111, \"#46039f\"], [0.2222222222222222, \"#7201a8\"], [0.3333333333333333, \"#9c179e\"], [0.4444444444444444, \"#bd3786\"], [0.5555555555555556, \"#d8576b\"], [0.6666666666666666, \"#ed7953\"], [0.7777777777777778, \"#fb9f3a\"], [0.8888888888888888, \"#fdca26\"], [1.0, \"#f0f921\"]], \"type\": \"histogram2dcontour\"}], \"mesh3d\": [{\"colorbar\": {\"outlinewidth\": 0, \"ticks\": \"\"}, \"type\": \"mesh3d\"}], \"parcoords\": [{\"line\": {\"colorbar\": {\"outlinewidth\": 0, \"ticks\": \"\"}}, \"type\": \"parcoords\"}], \"pie\": [{\"automargin\": true, \"type\": \"pie\"}], \"scatter\": [{\"marker\": {\"colorbar\": {\"outlinewidth\": 0, \"ticks\": \"\"}}, \"type\": \"scatter\"}], \"scatter3d\": [{\"line\": {\"colorbar\": {\"outlinewidth\": 0, \"ticks\": \"\"}}, \"marker\": {\"colorbar\": {\"outlinewidth\": 0, \"ticks\": \"\"}}, \"type\": \"scatter3d\"}], \"scattercarpet\": [{\"marker\": {\"colorbar\": {\"outlinewidth\": 0, \"ticks\": \"\"}}, \"type\": \"scattercarpet\"}], \"scattergeo\": [{\"marker\": {\"colorbar\": {\"outlinewidth\": 0, \"ticks\": \"\"}}, \"type\": \"scattergeo\"}], \"scattergl\": [{\"marker\": {\"colorbar\": {\"outlinewidth\": 0, \"ticks\": \"\"}}, \"type\": \"scattergl\"}], \"scattermapbox\": [{\"marker\": {\"colorbar\": {\"outlinewidth\": 0, \"ticks\": \"\"}}, \"type\": \"scattermapbox\"}], \"scatterpolar\": [{\"marker\": {\"colorbar\": {\"outlinewidth\": 0, \"ticks\": \"\"}}, \"type\": \"scatterpolar\"}], \"scatterpolargl\": [{\"marker\": {\"colorbar\": {\"outlinewidth\": 0, \"ticks\": \"\"}}, \"type\": \"scatterpolargl\"}], \"scatterternary\": [{\"marker\": {\"colorbar\": {\"outlinewidth\": 0, \"ticks\": \"\"}}, \"type\": \"scatterternary\"}], \"surface\": [{\"colorbar\": {\"outlinewidth\": 0, \"ticks\": \"\"}, \"colorscale\": [[0.0, \"#0d0887\"], [0.1111111111111111, \"#46039f\"], [0.2222222222222222, \"#7201a8\"], [0.3333333333333333, \"#9c179e\"], [0.4444444444444444, \"#bd3786\"], [0.5555555555555556, \"#d8576b\"], [0.6666666666666666, \"#ed7953\"], [0.7777777777777778, \"#fb9f3a\"], [0.8888888888888888, \"#fdca26\"], [1.0, \"#f0f921\"]], \"type\": \"surface\"}], \"table\": [{\"cells\": {\"fill\": {\"color\": \"#EBF0F8\"}, \"line\": {\"color\": \"white\"}}, \"header\": {\"fill\": {\"color\": \"#C8D4E3\"}, \"line\": {\"color\": \"white\"}}, \"type\": \"table\"}]}, \"layout\": {\"annotationdefaults\": {\"arrowcolor\": \"#2a3f5f\", \"arrowhead\": 0, \"arrowwidth\": 1}, \"coloraxis\": {\"colorbar\": {\"outlinewidth\": 0, \"ticks\": \"\"}}, \"colorscale\": {\"diverging\": [[0, \"#8e0152\"], [0.1, \"#c51b7d\"], [0.2, \"#de77ae\"], [0.3, \"#f1b6da\"], [0.4, \"#fde0ef\"], [0.5, \"#f7f7f7\"], [0.6, \"#e6f5d0\"], [0.7, \"#b8e186\"], [0.8, \"#7fbc41\"], [0.9, \"#4d9221\"], [1, \"#276419\"]], \"sequential\": [[0.0, \"#0d0887\"], [0.1111111111111111, \"#46039f\"], [0.2222222222222222, \"#7201a8\"], [0.3333333333333333, \"#9c179e\"], [0.4444444444444444, \"#bd3786\"], [0.5555555555555556, \"#d8576b\"], [0.6666666666666666, \"#ed7953\"], [0.7777777777777778, \"#fb9f3a\"], [0.8888888888888888, \"#fdca26\"], [1.0, \"#f0f921\"]], \"sequentialminus\": [[0.0, \"#0d0887\"], [0.1111111111111111, \"#46039f\"], [0.2222222222222222, \"#7201a8\"], [0.3333333333333333, \"#9c179e\"], [0.4444444444444444, \"#bd3786\"], [0.5555555555555556, \"#d8576b\"], [0.6666666666666666, \"#ed7953\"], [0.7777777777777778, \"#fb9f3a\"], [0.8888888888888888, \"#fdca26\"], [1.0, \"#f0f921\"]]}, \"colorway\": [\"#636efa\", \"#EF553B\", \"#00cc96\", \"#ab63fa\", \"#FFA15A\", \"#19d3f3\", \"#FF6692\", \"#B6E880\", \"#FF97FF\", \"#FECB52\"], \"font\": {\"color\": \"#2a3f5f\"}, \"geo\": {\"bgcolor\": \"white\", \"lakecolor\": \"white\", \"landcolor\": \"#E5ECF6\", \"showlakes\": true, \"showland\": true, \"subunitcolor\": \"white\"}, \"hoverlabel\": {\"align\": \"left\"}, \"hovermode\": \"closest\", \"mapbox\": {\"style\": \"light\"}, \"paper_bgcolor\": \"white\", \"plot_bgcolor\": \"#E5ECF6\", \"polar\": {\"angularaxis\": {\"gridcolor\": \"white\", \"linecolor\": \"white\", \"ticks\": \"\"}, \"bgcolor\": \"#E5ECF6\", \"radialaxis\": {\"gridcolor\": \"white\", \"linecolor\": \"white\", \"ticks\": \"\"}}, \"scene\": {\"xaxis\": {\"backgroundcolor\": \"#E5ECF6\", \"gridcolor\": \"white\", \"gridwidth\": 2, \"linecolor\": \"white\", \"showbackground\": true, \"ticks\": \"\", \"zerolinecolor\": \"white\"}, \"yaxis\": {\"backgroundcolor\": \"#E5ECF6\", \"gridcolor\": \"white\", \"gridwidth\": 2, \"linecolor\": \"white\", \"showbackground\": true, \"ticks\": \"\", \"zerolinecolor\": \"white\"}, \"zaxis\": {\"backgroundcolor\": \"#E5ECF6\", \"gridcolor\": \"white\", \"gridwidth\": 2, \"linecolor\": \"white\", \"showbackground\": true, \"ticks\": \"\", \"zerolinecolor\": \"white\"}}, \"shapedefaults\": {\"line\": {\"color\": \"#2a3f5f\"}}, \"ternary\": {\"aaxis\": {\"gridcolor\": \"white\", \"linecolor\": \"white\", \"ticks\": \"\"}, \"baxis\": {\"gridcolor\": \"white\", \"linecolor\": \"white\", \"ticks\": \"\"}, \"bgcolor\": \"#E5ECF6\", \"caxis\": {\"gridcolor\": \"white\", \"linecolor\": \"white\", \"ticks\": \"\"}}, \"title\": {\"x\": 0.05}, \"xaxis\": {\"automargin\": true, \"gridcolor\": \"white\", \"linecolor\": \"white\", \"ticks\": \"\", \"title\": {\"standoff\": 15}, \"zerolinecolor\": \"white\", \"zerolinewidth\": 2}, \"yaxis\": {\"automargin\": true, \"gridcolor\": \"white\", \"linecolor\": \"white\", \"ticks\": \"\", \"title\": {\"standoff\": 15}, \"zerolinecolor\": \"white\", \"zerolinewidth\": 2}}}, \"xaxis\": {\"anchor\": \"y\", \"domain\": [0.0, 1.0], \"title\": {\"text\": \"Sum_of_Rolls\"}}, \"yaxis\": {\"anchor\": \"x\", \"domain\": [0.0, 1.0], \"title\": {\"text\": \"count\"}}},\n",
              "                        {\"responsive\": true}\n",
              "                    ).then(function(){\n",
              "                            \n",
              "var gd = document.getElementById('9159b370-871b-4b03-85a0-0081530e0fd1');\n",
              "var x = new MutationObserver(function (mutations, observer) {{\n",
              "        var display = window.getComputedStyle(gd).display;\n",
              "        if (!display || display === 'none') {{\n",
              "            console.log([gd, 'removed!']);\n",
              "            Plotly.purge(gd);\n",
              "            observer.disconnect();\n",
              "        }}\n",
              "}});\n",
              "\n",
              "// Listen for the removal of the full notebook cells\n",
              "var notebookContainer = gd.closest('#notebook-container');\n",
              "if (notebookContainer) {{\n",
              "    x.observe(notebookContainer, {childList: true});\n",
              "}}\n",
              "\n",
              "// Listen for the clearing of the current output cell\n",
              "var outputEl = gd.closest('.output');\n",
              "if (outputEl) {{\n",
              "    x.observe(outputEl, {childList: true});\n",
              "}}\n",
              "\n",
              "                        })\n",
              "                };\n",
              "                \n",
              "            </script>\n",
              "        </div>\n",
              "</body>\n",
              "</html>"
            ]
          },
          "metadata": {
            "tags": []
          }
        }
      ]
    },
    {
      "cell_type": "code",
      "metadata": {
        "colab": {
          "base_uri": "https://localhost:8080/",
          "height": 542
        },
        "id": "ttFX8CmmzUgd",
        "outputId": "8124d1b2-ec9a-4342-8428-0eeb78bbfebd"
      },
      "source": [
        "fig = px.histogram(df, \r\n",
        "                   x=df['Sum_of_Rolls'], \r\n",
        "                   opacity=0.5\r\n",
        "                   ,barmode='relative'\r\n",
        "                   ,histnorm='probability'  \r\n",
        "                   ,color_discrete_sequence=['indianred'] # color of histogram bars \r\n",
        "                   ,labels={'x':'Sum of Dice roll'}              \r\n",
        "                  )\r\n",
        "fig.select_xaxes()\r\n",
        "fig.show()"
      ],
      "execution_count": 65,
      "outputs": [
        {
          "output_type": "display_data",
          "data": {
            "text/html": [
              "<html>\n",
              "<head><meta charset=\"utf-8\" /></head>\n",
              "<body>\n",
              "    <div>\n",
              "            <script src=\"https://cdnjs.cloudflare.com/ajax/libs/mathjax/2.7.5/MathJax.js?config=TeX-AMS-MML_SVG\"></script><script type=\"text/javascript\">if (window.MathJax) {MathJax.Hub.Config({SVG: {font: \"STIX-Web\"}});}</script>\n",
              "                <script type=\"text/javascript\">window.PlotlyConfig = {MathJaxConfig: 'local'};</script>\n",
              "        <script src=\"https://cdn.plot.ly/plotly-latest.min.js\"></script>    \n",
              "            <div id=\"46a2f37b-654e-4605-911c-87634d783f48\" class=\"plotly-graph-div\" style=\"height:525px; width:100%;\"></div>\n",
              "            <script type=\"text/javascript\">\n",
              "                \n",
              "                    window.PLOTLYENV=window.PLOTLYENV || {};\n",
              "                    \n",
              "                if (document.getElementById(\"46a2f37b-654e-4605-911c-87634d783f48\")) {\n",
              "                    Plotly.newPlot(\n",
              "                        '46a2f37b-654e-4605-911c-87634d783f48',\n",
              "                        [{\"alignmentgroup\": \"True\", \"bingroup\": \"x\", \"histnorm\": \"probability\", \"hoverlabel\": {\"namelength\": 0}, \"hovertemplate\": \"Sum_of_Rolls=%{x}<br>count=%{y}\", \"legendgroup\": \"\", \"marker\": {\"color\": \"indianred\", \"opacity\": 0.5}, \"name\": \"\", \"offsetgroup\": \"\", \"orientation\": \"v\", \"showlegend\": false, \"type\": \"histogram\", \"x\": [8, 7, 6, 7, 4, 9, 9, 9, 7, 9, 9, 9, 10, 7, 7, 8, 7, 9, 12, 7, 6, 5, 10, 6, 3, 10, 6, 3, 4, 7, 3, 4, 4, 10, 6, 4, 6, 4, 6, 10, 3, 3, 7, 9, 7, 5, 6, 12, 4, 8, 6, 11, 10, 8, 9, 6, 8, 4, 9, 3, 8, 6, 4, 8, 6, 8, 8, 8, 3, 5, 4, 8, 6, 7, 7, 5, 3, 4, 8, 2, 3, 2, 7, 5, 2, 4, 10, 6, 9, 5, 4, 5, 4, 7, 5, 7, 7, 7, 11, 12, 10, 6, 9, 2, 9, 11, 12, 7, 5, 11, 7, 4, 6, 5, 3, 8, 5, 3, 4, 9, 10, 9, 7, 7, 6, 7, 9, 2, 5, 7, 8, 5, 4, 4, 5, 7, 3, 6, 7, 7, 7, 4, 6, 8, 7, 6, 9, 7, 5, 5, 8, 4, 5, 7, 5, 10, 7, 8, 8, 5, 9, 3, 9, 12, 7, 4, 9, 5, 9, 5, 9, 7, 7, 3, 9, 8, 5, 5, 5, 5, 6, 11, 2, 9, 9, 5, 8, 9, 9, 4, 4, 7, 8, 7, 10, 7, 4, 4, 9, 7, 4, 10, 3, 12, 8, 8, 6, 12, 7, 7, 9, 5, 10, 12, 2, 10, 8, 7, 11, 9, 7, 5, 8, 10, 6, 6, 6, 7, 8, 9, 4, 9, 2, 3, 8, 6, 7, 8, 7, 6, 9, 12, 3, 9, 4, 7, 8, 6, 5, 6, 5, 6, 9, 12, 3, 9, 12, 6, 6, 6, 9, 7, 9, 10, 8, 6, 7, 7, 9, 4, 5, 10, 4, 8, 9, 8, 8, 5, 7, 10, 8, 10, 10, 3, 7, 9, 10, 10, 4, 4, 11, 11, 2, 7, 11, 11, 6, 7, 9, 5, 8, 4, 4, 6, 9, 8, 6, 5, 6, 7, 8, 7, 8, 10, 7, 9, 5, 9, 10, 9, 3, 3, 5, 11, 9, 6, 7, 5, 9, 6, 6, 5, 9, 6, 4, 6, 9, 11, 9, 10, 10, 9, 8, 8, 8, 9, 7, 5, 7, 9, 6, 3, 9, 11, 6, 3, 6, 5, 11, 10, 10, 5, 9, 11, 5, 9, 5, 10, 8, 3, 6, 6, 7, 12, 10, 7, 7, 5, 7, 10, 7, 4, 6, 4, 11, 8, 4, 9, 5, 7, 8, 5, 4, 11, 8, 7, 6, 2, 10, 3, 6, 2, 6, 5, 6, 9, 4, 6, 8, 4, 5, 9, 8, 4, 5, 5, 8, 6, 9, 3, 9, 5, 5, 6, 8, 8, 9, 4, 10, 10, 7, 8, 8, 6, 11, 10, 11, 10, 9, 9, 3, 7, 7, 6, 8, 5, 8, 9, 4, 8, 7, 6, 5, 8, 6, 8, 7, 7, 6, 10, 7, 6, 7, 7, 6, 9, 6, 12, 5, 10, 7, 6, 4, 5, 7, 11, 6, 4, 7, 7, 8, 8, 6, 5, 6, 3, 8, 10, 8, 6, 3, 11, 7, 11, 9, 9, 6, 9, 5, 8, 6, 7, 4, 9, 9, 6, 7, 5, 4, 9, 6, 12, 7, 7, 7, 6, 9, 2, 11, 5, 3, 4, 10, 8, 5, 7, 9, 4, 5, 2, 5, 3, 9, 9, 5, 8, 8, 10, 12, 7, 4, 9, 11, 5, 2, 6, 4, 3, 8, 11, 7, 9, 5, 11, 7, 10, 5, 7, 6, 8, 2, 8, 5, 5, 10, 6, 3, 6, 12, 4, 9, 8, 10, 6, 5, 9, 3, 7, 5, 9, 6, 7, 12, 7, 4, 4, 2, 8, 4, 3, 10, 10, 6, 7, 6, 10, 12, 7, 3, 7, 4, 9, 9, 7, 6, 11, 7, 4, 9, 6, 5, 10, 6, 7, 6, 9, 2, 7, 9, 9, 7, 7, 5, 7, 6, 9, 4, 10, 6, 7, 11, 8, 3, 3, 7, 9, 7, 5, 5, 6, 6, 3, 5, 6, 3, 6, 10, 12, 10, 8, 3, 10, 8, 2, 4, 2, 4, 5, 6, 11, 10, 6, 6, 7, 5, 3, 5, 7, 8, 7, 5, 7, 7, 5, 4, 8, 9, 4, 4, 6, 10, 4, 5, 4, 7, 2, 7, 10, 10, 11, 9, 7, 10, 9, 12, 10, 7, 6, 7, 9, 5, 7, 7, 8, 8, 10, 6, 7, 10, 6, 10, 5, 6, 6, 8, 3, 5, 7, 7, 7, 12, 2, 9, 6, 6, 10, 9, 5, 8, 7, 4, 6, 4, 6, 7, 8, 5, 4, 7, 10, 7, 7, 5, 8, 6, 7, 7, 11, 11, 9, 8, 8, 4, 6, 4, 4, 8, 6, 5, 7, 9, 9, 10, 8, 4, 8, 3, 7, 9, 2, 4, 7, 7, 8, 9, 12, 6, 5, 9, 3, 8, 9, 4, 8, 10, 6, 5, 6, 12, 9, 9, 7, 6, 8, 12, 8, 7, 10, 7, 8, 6, 11, 11, 8, 9, 7, 12, 9, 8, 7, 11, 7, 8, 4, 9, 6, 5, 11, 10, 6, 6, 10, 5, 7, 6, 9, 7, 3, 7, 7, 8, 2, 10, 5, 4, 6, 6, 4, 7, 4, 5, 7, 11, 7, 3, 11, 5, 7, 4, 5, 4, 4, 7, 10, 6, 7, 6, 4, 5, 10, 7, 6, 3, 9, 2, 8, 4, 6, 11, 12, 3, 6, 9, 4, 7, 5, 6, 5, 10, 12, 6, 7, 7, 2, 7, 8, 7, 7, 3, 10, 11, 7, 5, 6, 10, 6, 5, 4, 5, 5, 12, 8, 4, 7, 10, 8, 5, 3, 4, 6, 6, 2, 5, 9, 12, 7, 8, 4, 8, 6, 6, 7, 5, 9, 4, 8, 5, 5, 7, 3, 7, 4, 12, 6, 2, 10, 10, 9, 7, 7, 3, 8, 6, 6, 8, 2, 4, 5, 7, 12, 6, 5, 9, 6, 5, 4, 7, 7, 3, 8, 9, 4, 7, 5, 10, 7, 9, 7, 10, 5, 5, 6, 5, 9, 11, 9, 10, 9, 6, 7, 9, 7, 7, 7, 11, 7, 11, 11, 4, 7, 6, 4, 8, 4, 11, 10, 9, 11, 9, 5, 8, 5, 3, 5, 7, 6, 9, 5, 6, 12, 9, 11, 10, 3, 8, 5, 10, 4, 4, 7, 8, 3, 7, 9, 4, 9, 5, 9, 9, 8, 7, 7, 11, 4, 5, 6, 8, 9, 7, 10, 4, 2, 10, 4, 4, 11, 4, 9, 7, 5, 5, 4, 6, 6, 8, 10, 7, 9, 5, 10, 6, 4, 4, 8, 8, 12, 3, 7, 4, 11, 9, 9, 9, 7, 8, 7, 6, 11, 9, 8, 7, 11, 8, 12, 7, 9, 4, 6, 10, 8, 6, 6, 6, 9, 5, 8, 4, 5, 7, 10, 6, 6, 9, 7, 7, 6, 9, 8, 7, 7, 2, 10, 7, 3, 5, 11, 6, 8, 9, 8, 8, 9, 8, 3, 7, 9, 9, 9, 7, 6, 4, 5, 5, 3, 9, 7, 9, 9, 2, 3, 11, 5, 4, 5, 7, 4, 5, 6, 6, 8, 5, 6, 10, 7, 6, 6, 7, 8, 3, 2, 5, 7, 6, 7, 3, 8, 4, 11, 6, 4, 5, 8, 6, 5, 12, 3, 12, 8, 7, 7, 8, 6, 9, 7, 6, 10, 5, 6, 3, 6, 10, 2, 8, 5, 6, 11, 9, 9, 6, 10, 2, 7, 9, 11, 7, 12, 4, 7, 8, 6, 10, 7, 4, 7, 9, 10, 3, 9, 7, 8, 4, 4, 10, 3, 5, 8, 6, 10, 5, 8, 8, 9, 4, 4, 8, 11, 4, 8, 3, 4, 4, 6, 8, 9, 5, 6, 5, 12, 7, 8, 10, 8, 7, 7, 9, 7, 6, 10, 7, 5, 7, 9, 4, 9, 7, 7, 11, 9, 6, 4, 5, 10, 4, 9, 11, 12, 4, 3, 11, 4, 4, 5, 9, 3, 7, 8, 4, 12, 6, 6, 9, 7, 6, 3, 6, 7, 8, 8, 9, 6, 11, 5, 7, 8, 9, 10, 9, 4, 3, 10, 11, 12, 8, 5, 7, 3, 12, 4, 10, 10, 3, 7, 7, 10, 8, 2, 5, 4, 4, 8, 11, 8, 8, 10, 7, 4, 9, 2, 8, 6, 7, 2, 8, 4, 6, 12, 9, 9, 10, 5, 8, 8, 2, 4, 7, 12, 8, 9, 10, 4, 8, 8, 9, 9, 6, 7, 10, 7, 7, 5, 4, 8, 12, 8, 7, 12, 6, 6, 7, 6, 8, 6, 10, 11, 4, 5, 7, 11, 7, 2, 9, 5, 6, 7, 10, 7, 7, 9, 6, 6, 10, 11, 8, 6, 8, 7, 3, 7, 4, 9, 6, 4, 6, 5, 7, 5, 8, 9, 9, 6, 7, 6, 5, 10, 3, 7, 8, 4, 9, 3, 8, 11, 8, 7, 11, 7, 7, 6, 6, 4, 6, 4, 8, 6, 5, 3, 6, 9, 7, 10, 11, 9, 11, 5, 3, 4, 5, 3, 4, 9, 4, 4, 7, 11, 5, 9, 11, 3, 11, 5, 11, 7, 8, 8, 5, 6, 5, 11, 7, 11, 7, 8, 4, 11, 7, 12, 9, 8, 10, 4, 11, 12, 10, 8, 6, 9, 5, 7, 11, 5, 8, 6, 11, 7, 8, 7, 5, 7, 8, 8, 9, 6, 6, 7, 9, 8, 7, 11, 10, 6, 5, 8, 6, 9, 12, 7, 5, 6, 8, 4, 7, 6, 7, 10, 10, 7, 3, 4, 5, 6, 6, 4, 9, 7, 4, 7, 9, 4, 5, 2, 5, 5, 6, 10, 7, 9, 10, 8, 5, 9, 9, 2, 7, 2, 3, 9, 3, 9, 7, 10, 11, 8, 5, 4, 6, 5, 5, 7, 11, 9, 9, 8, 10, 3, 6, 7, 8, 7, 7, 5, 10, 11, 9, 12, 8, 9, 5, 5, 4, 7, 3, 9, 4, 6, 8, 8, 4, 6, 9, 11, 11, 8, 4, 6, 4, 3, 9, 7, 5, 3, 7, 6, 6, 6, 2, 11, 7, 5, 6, 6, 11, 7, 3, 8, 7, 8, 8, 6, 8, 7, 10, 10, 10, 11, 9, 2, 8, 3, 6, 9, 6, 10, 11, 9, 4, 3, 9, 10, 11, 6, 10, 5, 8, 9, 5, 4, 7, 10, 5, 5, 8, 8, 10, 7, 7, 2, 6, 10, 10, 10, 7, 9, 5, 5, 9, 7, 7, 12, 6, 5, 7, 9, 7, 7, 7, 6, 2, 7, 6, 8, 12, 7, 9, 9, 11, 6, 5, 8, 8, 4, 7, 4, 5, 6, 4, 9, 6, 5, 8, 2, 7, 6, 6, 6, 10, 7, 7, 8, 9, 12, 5, 6, 9, 8, 8, 11, 9, 7, 4, 10, 12, 7, 4, 9, 3, 5, 10, 6, 2, 7, 10, 8, 3, 6, 4, 11, 7, 8, 2, 4, 6, 11, 8, 4, 3, 5, 8, 10, 7, 7, 5, 8, 5, 7, 5, 12, 4, 4, 3, 8, 6, 7, 9, 8, 2, 2, 8, 3, 3, 4, 6, 9, 4, 7, 7, 9, 5, 7, 8, 3, 5, 6, 3, 7, 6, 9, 9, 9, 8, 6, 7, 8, 7, 10, 4, 7, 9, 9, 10, 10, 7, 8, 6, 10, 4, 8, 5, 6, 6, 6, 8, 5, 3, 9, 10, 8, 10, 6, 8, 4, 9, 5, 7, 8, 8, 3, 10, 7, 3, 3, 7, 4, 3, 10, 7, 8, 7, 8, 7, 8, 7, 4, 7, 4, 11, 7, 4, 9, 7, 4, 3, 9, 9, 6, 4, 4, 9, 6, 4, 11, 7, 7, 6, 9, 9, 4, 10, 9, 8, 10, 10, 6, 8, 11, 7, 4, 9, 7, 5, 7, 9, 8, 6, 9, 6, 7, 5, 8, 8, 5, 11, 12, 8, 5, 6, 5, 3, 4, 5, 5, 8, 4, 4, 6, 7, 10, 3, 4, 7, 5, 7, 6, 4, 6, 5, 9, 6, 6, 7, 7, 7, 9, 5, 9, 4, 10, 3, 10, 11, 6, 2, 4, 6, 9, 6, 10, 5, 10, 7, 8, 8, 7, 9, 9, 4, 6, 4, 11, 9, 7, 9, 10, 5, 9, 4, 5, 3, 4, 9, 10, 6, 6, 5, 12, 9, 4, 7, 8, 4, 12, 8, 7, 7, 12, 6, 5, 7, 7, 7, 9, 9, 12, 2, 7, 5, 7, 8, 10, 7, 5, 4, 10, 4, 7, 6, 5, 6, 7, 8, 11, 12, 5, 8, 8, 6, 4, 7, 8, 5, 9, 5, 8, 6, 9, 6, 8, 8, 7, 8, 8, 12, 6, 6, 8, 6, 9, 6, 6, 7, 10, 3, 8, 4, 5, 5, 11, 9, 5, 8, 10, 5, 11, 10, 10, 4, 4, 7, 5, 8, 2, 5, 7, 6, 10, 10, 7, 9, 6, 4, 3, 10, 6, 6, 12, 4, 6, 6, 9, 9, 8, 10, 8, 7, 7, 4, 6, 10, 10, 8, 2, 6, 9, 12, 4, 7, 8, 7, 11, 7, 7, 5, 8, 9, 9, 6, 7, 6, 4, 7, 12, 5, 9, 6, 8, 6, 12, 9, 5, 6, 8, 5, 4, 6, 9, 7, 8, 8, 8, 10, 6, 7, 12, 5, 7, 5, 7, 5, 9, 12, 6, 4, 5, 10, 8, 7, 9, 5, 9, 5, 8, 8, 3, 4, 7, 11, 2, 4, 6, 6, 10, 7, 6, 12, 5, 5, 11, 5, 11, 10, 4, 9, 5, 6, 5, 6, 12, 8, 2, 7, 5, 10, 5, 7, 3, 7, 11, 4, 9, 7, 4, 4, 3, 11, 7, 7, 9, 12, 4, 10, 7, 8, 9, 6, 6, 4, 6, 7, 4, 6, 6, 7, 5, 5, 8, 5, 7, 4, 2, 5, 7, 4, 9, 4, 9, 6, 8, 9, 6, 9, 3, 10, 6, 5, 7, 4, 8, 6, 6, 9, 8, 8, 8, 5, 6, 7, 12, 5, 6, 6, 9, 5, 11, 7, 10, 6, 5, 2, 8, 9, 5, 6, 9, 9, 8, 3, 3, 6, 6, 5, 9, 10, 9, 7, 8, 10, 7, 8, 11, 5, 7, 10, 10, 9, 6, 8, 8, 5, 11, 9, 4, 10, 7, 9, 9, 3, 5, 12, 4, 5, 5, 2, 4, 5, 7, 10, 6, 3, 9, 8, 5, 8, 7, 12, 12, 4, 9, 4, 8, 5, 7, 9, 3, 5, 8, 7, 4, 9, 6, 11, 9, 7, 10, 12, 8, 4, 6, 7, 11, 10, 9, 5, 4, 9, 9, 8, 9, 7, 11, 9, 2, 5, 8, 4, 11, 3, 10, 12, 7, 7, 8, 4, 3, 9, 8, 7, 9, 8, 8, 12, 6, 3, 10, 9, 7, 7, 7, 4, 7, 10, 2, 7, 9, 4, 9, 9, 4, 7, 3, 5, 10, 12, 6, 7, 8, 4, 10, 7, 5, 6, 8, 10, 11, 5, 10, 5, 9, 3, 9, 10, 11, 7, 11, 10, 9, 7, 2, 6, 7, 7, 7, 5, 5, 11, 7, 11, 5, 8, 5, 9, 7, 4, 2, 4, 10, 2, 11, 9, 5, 6, 8, 11, 8, 11, 9, 11, 9, 6, 8, 9, 6, 7, 10, 6, 2, 8, 3, 7, 2, 11, 4, 4, 11, 7, 3, 7, 5, 6, 3, 7, 12, 8, 6, 8, 8, 7, 9, 7, 7, 4, 12, 12, 3, 8, 6, 7, 4, 7, 10, 4, 8, 11, 10, 6, 7, 6, 7, 9, 7, 12, 4, 5, 9, 5, 7, 9, 9, 5, 6, 12, 11, 8, 2, 9, 3, 7, 7, 2, 5, 9, 9, 7, 11, 7, 7, 6, 8, 10, 5, 5, 5, 11, 7, 7, 9, 7, 7, 6, 6, 8, 11, 6, 10, 8, 7, 9, 7, 7, 7, 4, 9, 5, 6, 12, 3, 12, 3, 3, 3, 10, 6, 11, 7, 7, 10, 4, 7, 5, 3, 8, 5, 5, 9, 7, 4, 5, 7, 6, 7, 9, 8, 9, 8, 4, 10, 12, 7, 7, 10, 6, 7, 11, 10, 4, 8, 4, 6, 7, 4, 9, 9, 9, 10, 8, 11, 8, 8, 4, 8, 12, 12, 3, 9, 6, 5, 7, 7, 8, 4, 11, 10, 5, 10, 10, 10, 5, 6, 9, 4, 6, 5, 7, 5, 6, 7, 6, 6, 5, 10, 7, 6, 10, 8, 8, 8, 2, 9, 6, 4, 3, 7, 3, 6, 4, 7, 5, 10, 6, 2, 11, 4, 10, 4, 5, 6, 7, 10, 8, 5, 7, 8, 3, 7, 3, 8, 6, 3, 9, 5, 8, 9, 7, 11, 8, 11, 2, 4, 8, 9, 6, 4, 7, 3, 7, 7, 6, 6, 4, 8, 10, 4, 4, 3, 7, 7, 8, 4, 9, 4, 7, 11, 9, 10, 7, 5, 4, 5, 8, 4, 6, 8, 9, 8, 4, 7, 10, 12, 6, 9, 8, 8, 10, 5, 3, 7, 6, 3, 10, 4, 11, 3, 11, 6, 6, 10, 7, 6, 6, 10, 9, 5, 11, 8, 7, 11, 8, 4, 8, 7, 5, 10, 6, 7, 11, 8, 4, 7, 3, 9, 11, 5, 8, 6, 10, 3, 9, 8, 8, 5, 6, 10, 10, 3, 7, 6, 3, 9, 10, 2, 3, 9, 9, 10, 6, 8, 7, 6, 2, 9, 4, 7, 4, 8, 5, 8, 11, 3, 9, 12, 9, 6, 9, 6, 7, 8, 10, 9, 9, 11, 6, 5, 9, 3, 6, 11, 2, 3, 6, 8, 7, 5, 9, 10, 6, 4, 6, 4, 6, 7, 7, 10, 9, 6, 8, 6, 9, 11, 6, 11, 2, 5, 3, 5, 11, 6, 10, 9, 9, 6, 4, 7, 7, 10, 7, 5, 11, 5, 6, 6, 10, 9, 4, 7, 8, 7, 5, 8, 11, 9, 9, 7, 9, 10, 8, 4, 8, 9, 8, 4, 7, 10, 8, 9, 6, 12, 7, 7, 9, 3, 9, 7, 7, 8, 9, 9, 9, 5, 6, 7, 2, 11, 5, 9, 8, 7, 5, 8, 9, 7, 6, 11, 9, 8, 12, 8, 7, 12, 7, 4, 8, 7, 7, 3, 2, 7, 5, 8, 9, 6, 6, 6, 9, 9, 7, 4, 2, 7, 5, 7, 7, 6, 3, 6, 5, 9, 3, 4, 5, 2, 8, 5, 10, 9, 7, 6, 12, 8, 8, 6, 6, 10, 5, 6, 6, 7, 10, 7, 9, 11, 10, 4, 6, 6, 9, 10, 10, 7, 8, 4, 8, 9, 10, 11, 8, 11, 9, 7, 7, 4, 10, 12, 8, 4, 9, 9, 6, 8, 10, 8, 7, 5, 9, 6, 8, 8, 10, 6, 4, 7, 9, 7, 7, 7, 5, 6, 9, 5, 9, 5, 7, 10, 5, 7, 12, 5, 11, 8, 7, 10, 9, 7, 5, 3, 9, 9, 5, 7, 7, 4, 8, 8, 6, 4, 5, 4, 8, 8, 3, 5, 3, 5, 2, 8, 7, 10, 9, 5, 9, 4, 9, 8, 6, 6, 8, 7, 9, 10, 7, 2, 10, 5, 7, 8, 7, 8, 8, 8, 9, 5, 5, 7, 12, 10, 9, 2, 6, 7, 7, 6, 9, 3, 6, 6, 5, 10, 6, 5, 5, 9, 8, 7, 10, 7, 5, 7, 9, 9, 9, 9, 8, 10, 6, 7, 8, 6, 8, 5, 7, 9, 12, 7, 8, 10, 9, 2, 7, 8, 6, 7, 9, 11, 11, 4, 2, 9, 10, 9, 9, 6, 11, 6, 7, 9, 8, 6, 9, 6, 7, 7, 10, 6, 6, 8, 9, 10, 8, 9, 7, 6, 8, 10, 12, 7, 8, 5, 9, 9, 7, 6, 5, 11, 7, 6, 11, 2, 6, 6, 5, 7, 8, 9, 9, 7, 8, 9, 9, 8, 5, 11, 8, 9, 6, 7, 2, 3, 10, 12, 11, 6, 6, 12, 4, 6, 5, 8, 5, 5, 2, 8, 9, 6, 8, 5, 9, 8, 3, 9, 7, 8, 9, 7, 3, 10, 11, 7, 4, 11, 6, 7, 7, 11, 4, 9, 7, 12, 10, 7, 4, 7, 6, 8, 5, 7, 6, 10, 10, 7, 6, 2, 10, 8, 4, 8, 6, 4, 6, 6, 3, 5, 9, 6, 5, 7, 7, 10, 6, 10, 8, 6, 8, 8, 5, 9, 10, 10, 9, 4, 10, 8, 8, 8, 4, 7, 7, 9, 3, 6, 10, 8, 5, 5, 6, 5, 3, 6, 10, 4, 4, 6, 6, 8, 5, 8, 4, 10, 7, 9, 10, 12, 12, 7, 5, 7, 9, 7, 8, 5, 11, 7, 7, 11, 5, 7, 6, 2, 6, 12, 10, 8, 8, 9, 5, 6, 8, 4, 5, 7, 4, 11, 8, 7, 6, 7, 7, 8, 6, 7, 2, 9, 6, 11, 9, 7, 8, 6, 4, 6, 8, 6, 4, 8, 6, 8, 5, 5, 6, 8, 2, 7, 3, 7, 4, 6, 5, 4, 5, 6, 8, 6, 6, 4, 4, 12, 4, 11, 4, 8, 6, 8, 3, 4, 5, 7, 3, 6, 5, 3, 4, 6, 6, 8, 6, 2, 7, 9, 8, 12, 8, 8, 3, 8, 8, 5, 9, 6, 11, 6, 12, 5, 8, 9, 10, 7, 8, 3, 5, 10, 4, 11, 4, 12, 11, 4, 2, 7, 2, 6, 3, 11, 10, 10, 6, 10, 9, 3, 8, 10, 5, 10, 11, 2, 12, 8, 10, 8, 5, 10, 12, 8, 6, 11, 6, 6, 11, 7, 10, 8, 8, 5, 8, 9, 7, 2, 2, 8, 7, 9, 4, 10, 2, 7, 4, 7, 6, 4, 6, 8, 9, 8, 10, 7, 3, 11, 9, 8, 4, 5, 3, 7, 5, 6, 8, 9, 7, 8, 3, 7, 4, 6, 5, 9, 8, 6, 5, 7, 7, 10, 7, 12, 4, 6, 12, 6, 10, 8, 5, 10, 10, 6, 12, 4, 6, 9, 6, 5, 8, 7, 2, 12, 2, 4, 10, 6, 3, 8, 6, 6, 6, 9, 6, 2, 7, 6, 11, 7, 2, 3, 6, 9, 8, 9, 5, 4, 9, 6, 5, 6, 5, 5, 9, 7, 6, 6, 6, 4, 5, 8, 12, 12, 7, 4, 5, 12, 8, 7, 9, 6, 7, 7, 7, 7, 5, 7, 11, 7, 3, 12, 7, 7, 10, 2, 4, 9, 3, 4, 9, 8, 6, 9, 5, 12, 7, 5, 10, 8, 5, 9, 7, 8, 11, 3, 9, 6, 8, 8, 4, 6, 8, 10, 7, 10, 6, 4, 8, 7, 9, 11, 10, 5, 10, 7, 7, 6, 7, 8, 6, 6, 5, 5, 7, 9, 7, 4, 5, 10, 7, 8, 12, 6, 6, 10, 5, 6, 9, 12, 7, 7, 4, 7, 6, 9, 6, 10, 5, 6, 3, 4, 11, 4, 2, 8, 7, 5, 9, 7, 8, 6, 10, 2, 7, 10, 11, 7, 5, 5, 8, 12, 6, 7, 9, 6, 4, 6, 8, 11, 8, 4, 4, 6, 9, 8, 9, 11, 11, 3, 8, 6, 10, 5, 5, 7, 7, 4, 7, 5, 9, 10, 6, 12, 8, 7, 8, 7, 8, 4, 4, 5, 4, 2, 8, 7, 10, 7, 7, 6, 6, 7, 6, 7, 10, 8, 7, 10, 9, 8, 4, 9, 7, 6, 6, 9, 8, 8, 7, 5, 6, 9, 7, 3, 7, 9, 5, 2, 7, 8, 7, 10, 8, 5, 9, 9, 8, 7, 8, 6, 7, 9, 11, 9, 5, 11, 8, 4, 10, 8, 7, 8, 6, 9, 5, 9, 4, 9, 6, 6, 7, 7, 7, 8, 7, 7, 5, 7, 7, 10, 2, 12, 8, 5, 7, 8, 5, 10, 6, 7, 2, 5, 9, 4, 7, 5, 5, 7, 11, 4, 8, 4, 4, 12, 4, 6, 11, 2, 5, 10, 8, 2, 5, 7, 7, 9, 9, 6, 6, 6, 4, 4, 6, 8, 2, 7, 4, 6, 8, 9, 6, 6, 3, 7, 3, 12, 7, 4, 10, 7, 8, 5, 8, 3, 2, 6, 8, 6, 7, 4, 7, 4, 3, 7, 10, 10, 7, 6, 7, 6, 9, 2, 7, 3, 8, 6, 9, 9, 2, 5, 6, 7, 2, 9, 4, 6, 5, 5, 7, 6, 6, 7, 3, 8, 7, 6, 10, 9, 6, 5, 8, 6, 10, 8, 6, 7, 6, 9, 3, 4, 6, 9, 9, 5, 7, 9, 11, 9, 5, 9, 7, 9, 5, 7, 9, 3, 6, 6, 4, 9, 5, 4, 6, 9, 7, 12, 3, 7, 6, 7, 8, 4, 8, 6, 9, 9, 7, 9, 9, 9, 6, 3, 9, 5, 6, 5, 4, 6, 9, 7, 5, 6, 7, 5, 10, 2, 5, 4, 6, 4, 4, 11, 11, 5, 9, 6, 7, 5, 7, 7, 6, 8, 7, 7, 6, 8, 6, 6, 4, 6, 3, 4, 10, 4, 4, 6, 5, 3, 7, 9, 7, 7, 8, 10, 6, 9, 9, 6, 7, 8, 6, 9, 7, 10, 9, 3, 9, 5, 11, 10, 9, 7, 7, 5, 6, 11, 7, 8, 10, 8, 11, 4, 5, 4, 10, 9, 7, 10, 9, 7, 3, 7, 7, 3, 6, 8, 11, 8, 6, 2, 9, 9, 8, 7, 6, 4, 7, 8, 5, 6, 9, 2, 7, 5, 7, 12, 9, 9, 10, 7, 7, 9, 9, 3, 6, 5, 12, 11, 11, 5, 7, 7, 9, 3, 11, 6, 11, 9, 7, 9, 6, 11, 8, 11, 9, 7, 6, 2, 5, 6, 10, 9, 12, 6, 10, 10, 6, 4, 2, 6, 8, 5, 9, 3, 7, 11, 8, 4, 7, 8, 6, 7, 8, 6, 8, 10, 7, 4, 7, 6, 7, 5, 4, 12, 7, 4, 6, 7, 4, 5, 5, 5, 11, 6, 4, 5, 6, 3, 4, 5, 6, 10, 8, 8, 7, 4, 11, 4, 6, 6, 9, 7, 10, 6, 7, 8, 10, 11, 9, 7, 11, 10, 2, 5, 7, 7, 6, 9, 5, 10, 8, 2, 7, 11, 7, 10, 11, 7, 9, 7, 9, 5, 5, 6, 6, 8, 7, 6, 6, 6, 5, 5, 5, 5, 6, 3, 7, 5, 4, 3, 10, 6, 7, 7, 6, 5, 7, 12, 2, 4, 7, 3, 7, 6, 9, 11, 10, 7, 8, 8, 5, 9, 7, 9, 9, 7, 8, 8, 8, 8, 6, 6, 4, 6, 8, 6, 4, 5, 4, 7, 7, 8, 6, 7, 12, 6, 5, 11, 11, 4, 6, 12, 12, 5, 10, 5, 4, 9, 9, 5, 4, 8, 6, 7, 7, 9, 5, 11, 8, 11, 8, 9, 5, 9, 7, 9, 6, 10, 7, 5, 8, 5, 8, 7, 4, 4, 8, 5, 7, 6, 7, 6, 10, 10, 11, 6, 10, 7, 7, 8, 10, 8, 11, 4, 9, 2, 9, 4, 7, 9, 4, 3, 6, 6, 4, 11, 7, 6, 7, 4, 7, 6, 10, 8, 6, 3, 8, 7, 4, 8, 7, 11, 11, 9, 7, 2, 5, 11, 7, 4, 8, 11, 6, 9, 7, 3, 6, 7, 5, 7, 10, 9, 8, 8, 2, 4, 8, 4, 7, 6, 9, 7, 3, 8, 5, 7, 7, 4, 7, 8, 5, 6, 10, 5, 3, 8, 8, 2, 7, 10, 12, 10, 9, 7, 6, 7, 9, 5, 9, 12, 7, 4, 7, 4, 5, 2, 5, 7, 8, 9, 8, 11, 8, 4, 3, 9, 5, 2, 5, 9, 7, 10, 10, 6, 2, 4, 5, 3, 12, 9, 11, 4, 8, 2, 9, 5, 7, 7, 9, 7, 10, 7, 8, 5, 7, 9, 10, 7, 11, 10, 12, 8, 2, 6, 8, 6, 9, 7, 9, 7, 4, 6, 4, 3, 5, 7, 6, 5, 9, 3, 8, 5, 7, 8, 7, 6, 6, 7, 7, 8, 5, 8, 8, 10, 7, 6, 5, 5, 4, 9, 7, 7, 10, 12, 7, 6, 9, 8, 3, 11, 7, 5, 6, 10, 10, 8, 4, 9, 8, 4, 7, 2, 7, 9, 7, 6, 9, 8, 4, 8, 6, 4, 10, 6, 7, 9, 6, 8, 6, 9, 9, 4, 7, 3, 8, 7, 6, 8, 7, 6, 2, 7, 10, 7, 9, 10, 7, 3, 8, 4, 6, 10, 4, 7, 7, 6, 7, 7, 3, 6, 9, 5, 9, 3, 7, 7, 11, 9, 3, 4, 11, 6, 9, 9, 7, 11, 11, 7, 4, 9, 7, 6, 2, 10, 9, 5, 4, 9, 6, 11, 9, 9, 9, 2, 7, 4, 8, 4, 8, 4, 3, 8, 5, 9, 11, 9, 11, 3, 10, 6, 7, 8, 11, 12, 8, 9, 9, 9, 7, 4, 9, 9, 10, 8, 7, 10, 9, 2, 6, 7, 7, 7, 9, 7, 8, 6, 10, 11, 6, 6, 10, 8, 7, 12, 10, 9, 4, 2, 8, 4, 7, 5, 8, 8, 8, 9, 9, 10, 6, 6, 4, 10, 8, 6, 7, 6, 8, 9, 11, 5, 5, 6, 9, 9, 6, 8, 3, 3, 6, 7, 9, 11, 6, 3, 12, 9, 7, 4, 6, 7, 11, 4, 5, 2, 4, 8, 7, 5, 5, 7, 8, 5, 8, 4, 3, 7, 4, 5, 6, 4, 4, 12, 3, 7, 9, 10, 5, 2, 7, 4, 7, 7, 2, 6, 10, 9, 7, 8, 10, 9, 10, 6, 6, 7, 10, 11, 10, 7, 4, 5, 8, 8, 10, 9, 8, 11, 6, 3, 8, 8, 7, 6, 5, 8, 7, 10, 8, 4, 10, 6, 7, 6, 6, 7, 8, 11, 4, 8, 10, 10, 9, 9, 2, 8, 5, 8, 8, 6, 5, 8, 12, 8, 10, 8, 7, 10, 5, 9, 11, 6, 7, 8, 5, 2, 9, 8, 9, 8, 7, 11, 7, 9, 9, 7, 8, 8, 5, 4, 5, 3, 5, 9, 7, 9, 6, 2, 4, 11, 8, 8, 7, 9, 11, 11, 9, 9, 6, 4, 2, 9, 2, 4, 8, 7, 5, 7, 7, 8, 6, 6, 7, 4, 9, 11, 12, 4, 9, 6, 7, 6, 4, 3, 5, 4, 8, 8, 7, 11, 9, 5, 8, 7, 6, 5, 6, 8, 11, 6, 8, 7, 10, 7, 7, 8, 11, 2, 3, 3, 6, 8, 2, 6, 5, 7, 11, 7, 8, 8, 7, 12, 9, 5, 3, 10, 9, 7, 4, 4, 10, 11, 7, 5, 3, 5, 7, 5, 10, 3, 5, 5, 8, 9, 10, 7, 12, 10, 12, 3, 7, 10, 10, 8, 8, 7, 5, 11, 7, 9, 12, 3, 10, 10, 3, 5, 9, 11, 8, 9, 10, 4, 6, 10, 9, 6, 5, 3, 7, 8, 4, 5, 3, 8, 3, 10, 4, 7, 8, 10, 3, 6, 9, 9, 6, 5, 6, 8, 7, 5, 5, 9, 6, 8, 6, 3, 7, 7, 10, 7, 7, 9, 6, 6, 4, 6, 6, 6, 9, 4, 4, 8, 10, 7, 5, 5, 10, 11, 8, 4, 9, 11, 5, 8, 8, 12, 10, 7, 8, 4, 11, 9, 9, 11, 7, 11, 7, 3, 8, 7, 4, 11, 8, 2, 7, 11, 8, 6, 5, 12, 10, 10, 7, 8, 5, 10, 6, 7, 8, 6, 8, 10, 6, 7, 6, 8, 8, 5, 7, 9, 5, 3, 10, 6, 5, 4, 3, 7, 6, 10, 7, 3, 8, 9, 9, 9, 2, 5, 7, 9, 8, 5, 8, 4, 7, 6, 5, 7, 7, 4, 9, 9, 6, 7, 5, 5, 4, 7, 7, 8, 11, 4, 4, 8, 8, 8, 8, 11, 5, 8, 6, 6, 9, 9, 9, 11, 12, 10, 5, 11, 4, 8, 8, 5, 8, 9, 5, 10, 4, 4, 5, 8, 4, 9, 6, 6, 11, 9, 9, 9, 11, 9, 11, 12, 2, 7, 2, 4, 4, 7, 8, 7, 8, 2, 6, 7, 3, 7, 8, 5, 12, 8, 5, 7, 6, 6, 8, 6, 3, 3, 11, 9, 8, 2, 12, 6, 3, 6, 3, 6, 9, 10, 7, 7, 2, 7, 11, 12, 3, 5, 6, 8, 8, 8, 8, 5, 7, 8, 3, 4, 7, 6, 8, 8, 9, 9, 10, 5, 5, 7, 9, 7, 5, 3, 8, 8, 9, 4, 4, 4, 12, 3, 6, 6, 7, 6, 3, 11, 8, 5, 4, 6, 6, 9, 6, 6, 7, 8, 3, 3, 2, 9, 7, 9, 5, 7, 6, 6, 8, 10, 5, 6, 12, 7, 3, 7, 6, 9, 10, 9, 9, 7, 8, 8, 3, 6, 8, 10, 5, 6, 7, 6, 6, 2, 7, 3, 2, 3, 5, 5, 9, 4, 9, 11, 6, 5, 7, 10, 7, 12, 7, 7, 5, 7, 6, 12, 8, 5, 7, 10, 11, 7, 8, 8, 6, 4, 7, 5, 8, 10, 6, 4, 9, 11, 5, 8, 10, 9, 2, 6, 4, 8, 9, 11, 8, 4, 8, 12, 7, 9, 9, 7, 8, 5, 3, 7, 5, 3, 7, 8, 2, 8, 7, 9, 8, 5, 7, 10, 6, 11, 7, 5, 7, 9, 9, 9, 11, 9, 9, 7, 9, 5, 10, 12, 6, 8, 8, 11, 6, 4, 6, 11, 10, 6, 10, 5, 8, 6, 12, 5, 8, 7, 8, 7, 5, 9, 6, 10, 10, 10, 8, 8, 8, 10, 9, 5, 11, 10, 5, 5, 9, 6, 6, 7, 7, 8, 6, 8, 3, 6, 8, 11, 9, 3, 7, 8, 8, 9, 8, 8, 3, 4, 6, 8, 12, 2, 5, 10, 5, 7, 6, 6, 6, 7, 7, 6, 8, 7, 9, 4, 10, 3, 10, 6, 6, 7, 2, 11, 3, 7, 3, 9, 7, 5, 7, 4, 7, 9, 9, 9, 4, 8, 7, 7, 8, 10, 11, 6, 10, 10, 7, 5, 2, 8, 11, 5, 6, 7, 9, 10, 9, 7, 7, 7, 8, 5, 4, 5, 7, 2, 7, 7, 5, 7, 12, 6, 9, 2, 7, 7, 9, 6, 6, 6, 9, 9, 7, 6, 6, 4, 2, 8, 5, 5, 10, 9, 4, 7, 4, 4, 8, 8, 3, 8, 4, 7, 8, 7, 5, 6, 11, 7, 8, 7, 7, 7, 10, 11, 7, 9, 7, 4, 5, 5, 9, 7, 9, 8, 7, 8, 9, 7, 10, 5, 7, 9, 6, 7, 7, 6, 10, 6, 2, 7, 7, 8, 12, 10, 3, 6, 11, 5, 8, 7, 9, 8, 7, 5, 9, 4, 7, 10, 11, 9, 5, 9, 5, 9, 5, 3, 6, 8, 6, 9, 7, 10, 10, 2, 11, 3, 6, 3, 11, 5, 8, 6, 8, 4, 5, 6, 5, 9, 5, 10, 7, 7, 5, 5, 9, 8, 4, 7, 3, 9, 2, 6, 11, 4, 8, 10, 5, 6, 7, 7, 10, 10, 11, 7, 2, 7, 7, 11, 3, 8, 10, 10, 4, 8, 5, 8, 6, 2, 8, 9, 8, 7, 8, 2, 9, 8, 8, 11, 9, 7, 10, 8, 11, 3, 5, 9, 6, 12, 7, 7, 2, 9, 7, 6, 7, 7, 11, 3, 4, 8, 3, 5, 7, 9, 6, 9, 7, 8, 3, 9, 6, 5, 4, 2, 6, 2, 5, 6, 8, 6, 9, 11, 9, 10, 10, 7, 7, 7, 9, 9, 11, 4, 5, 11, 7, 6, 3, 3, 7, 9, 4, 5, 10, 6, 4, 4, 5, 10, 7, 9, 4, 3, 11, 6, 10, 11, 6, 5, 11, 8, 11, 7, 5, 6, 4, 11, 11, 7, 6, 5, 6, 10, 6, 4, 8, 12, 4, 6, 9, 12, 5, 3, 6, 11, 7, 5, 7, 8, 10, 9, 6, 9, 6, 9, 8, 7, 9, 10, 2, 8, 4, 9, 7, 5, 5, 9, 12, 7, 6, 9, 4, 9, 4, 9, 8, 8, 8, 8, 8, 3, 5, 10, 8, 6, 9, 5, 7, 10, 8, 7, 4, 4, 9, 7, 6, 7, 9, 9, 9, 8, 9, 2, 6, 3, 5, 4, 11, 7, 7, 7, 4, 5, 12, 6, 7, 9, 10, 9, 4, 5, 6, 8, 11, 8, 5, 3, 7, 7, 11, 3, 8, 4, 4, 7, 8, 8, 6, 6, 4, 11, 5, 7, 4, 3, 12, 7, 9, 7, 10, 7, 5, 3, 7, 6, 9, 9, 11, 2, 8, 8, 5, 7, 11, 5, 6, 7, 7, 5, 6, 9, 6, 10, 8, 5, 6, 6, 5, 8, 7, 10, 6, 8, 5, 7, 4, 10, 7, 9, 11, 11, 8, 3, 9, 5, 7, 4, 8, 8, 7, 7, 8, 9, 7, 7, 8, 4, 12, 9, 10, 6, 7, 8, 4, 8, 9, 10, 2, 8, 3, 10, 6, 2, 3, 9, 11, 7, 5, 9, 7, 7, 9, 8, 8, 10, 3, 7, 7, 8, 5, 10, 5, 5, 5, 6], \"xaxis\": \"x\", \"yaxis\": \"y\"}],\n",
              "                        {\"barmode\": \"relative\", \"legend\": {\"tracegroupgap\": 0}, \"margin\": {\"t\": 60}, \"template\": {\"data\": {\"bar\": [{\"error_x\": {\"color\": \"#2a3f5f\"}, \"error_y\": {\"color\": \"#2a3f5f\"}, \"marker\": {\"line\": {\"color\": \"#E5ECF6\", \"width\": 0.5}}, \"type\": \"bar\"}], \"barpolar\": [{\"marker\": {\"line\": {\"color\": \"#E5ECF6\", \"width\": 0.5}}, \"type\": \"barpolar\"}], \"carpet\": [{\"aaxis\": {\"endlinecolor\": \"#2a3f5f\", \"gridcolor\": \"white\", \"linecolor\": \"white\", \"minorgridcolor\": \"white\", \"startlinecolor\": \"#2a3f5f\"}, \"baxis\": {\"endlinecolor\": \"#2a3f5f\", \"gridcolor\": \"white\", \"linecolor\": \"white\", \"minorgridcolor\": \"white\", \"startlinecolor\": \"#2a3f5f\"}, \"type\": \"carpet\"}], \"choropleth\": [{\"colorbar\": {\"outlinewidth\": 0, \"ticks\": \"\"}, \"type\": \"choropleth\"}], \"contour\": [{\"colorbar\": {\"outlinewidth\": 0, \"ticks\": \"\"}, \"colorscale\": [[0.0, \"#0d0887\"], [0.1111111111111111, \"#46039f\"], [0.2222222222222222, \"#7201a8\"], [0.3333333333333333, \"#9c179e\"], [0.4444444444444444, \"#bd3786\"], [0.5555555555555556, \"#d8576b\"], [0.6666666666666666, \"#ed7953\"], [0.7777777777777778, \"#fb9f3a\"], [0.8888888888888888, \"#fdca26\"], [1.0, \"#f0f921\"]], \"type\": \"contour\"}], \"contourcarpet\": [{\"colorbar\": {\"outlinewidth\": 0, \"ticks\": \"\"}, \"type\": \"contourcarpet\"}], \"heatmap\": [{\"colorbar\": {\"outlinewidth\": 0, \"ticks\": \"\"}, \"colorscale\": [[0.0, \"#0d0887\"], [0.1111111111111111, \"#46039f\"], [0.2222222222222222, \"#7201a8\"], [0.3333333333333333, \"#9c179e\"], [0.4444444444444444, \"#bd3786\"], [0.5555555555555556, \"#d8576b\"], [0.6666666666666666, \"#ed7953\"], [0.7777777777777778, \"#fb9f3a\"], [0.8888888888888888, \"#fdca26\"], [1.0, \"#f0f921\"]], \"type\": \"heatmap\"}], \"heatmapgl\": [{\"colorbar\": {\"outlinewidth\": 0, \"ticks\": \"\"}, \"colorscale\": [[0.0, \"#0d0887\"], [0.1111111111111111, \"#46039f\"], [0.2222222222222222, \"#7201a8\"], [0.3333333333333333, \"#9c179e\"], [0.4444444444444444, \"#bd3786\"], [0.5555555555555556, \"#d8576b\"], [0.6666666666666666, \"#ed7953\"], [0.7777777777777778, \"#fb9f3a\"], [0.8888888888888888, \"#fdca26\"], [1.0, \"#f0f921\"]], \"type\": \"heatmapgl\"}], \"histogram\": [{\"marker\": {\"colorbar\": {\"outlinewidth\": 0, \"ticks\": \"\"}}, \"type\": \"histogram\"}], \"histogram2d\": [{\"colorbar\": {\"outlinewidth\": 0, \"ticks\": \"\"}, \"colorscale\": [[0.0, \"#0d0887\"], [0.1111111111111111, \"#46039f\"], [0.2222222222222222, \"#7201a8\"], [0.3333333333333333, \"#9c179e\"], [0.4444444444444444, \"#bd3786\"], [0.5555555555555556, \"#d8576b\"], [0.6666666666666666, \"#ed7953\"], [0.7777777777777778, \"#fb9f3a\"], [0.8888888888888888, \"#fdca26\"], [1.0, \"#f0f921\"]], \"type\": \"histogram2d\"}], \"histogram2dcontour\": [{\"colorbar\": {\"outlinewidth\": 0, \"ticks\": \"\"}, \"colorscale\": [[0.0, \"#0d0887\"], [0.1111111111111111, \"#46039f\"], [0.2222222222222222, \"#7201a8\"], [0.3333333333333333, \"#9c179e\"], [0.4444444444444444, \"#bd3786\"], [0.5555555555555556, \"#d8576b\"], [0.6666666666666666, \"#ed7953\"], [0.7777777777777778, \"#fb9f3a\"], [0.8888888888888888, \"#fdca26\"], [1.0, \"#f0f921\"]], \"type\": \"histogram2dcontour\"}], \"mesh3d\": [{\"colorbar\": {\"outlinewidth\": 0, \"ticks\": \"\"}, \"type\": \"mesh3d\"}], \"parcoords\": [{\"line\": {\"colorbar\": {\"outlinewidth\": 0, \"ticks\": \"\"}}, \"type\": \"parcoords\"}], \"pie\": [{\"automargin\": true, \"type\": \"pie\"}], \"scatter\": [{\"marker\": {\"colorbar\": {\"outlinewidth\": 0, \"ticks\": \"\"}}, \"type\": \"scatter\"}], \"scatter3d\": [{\"line\": {\"colorbar\": {\"outlinewidth\": 0, \"ticks\": \"\"}}, \"marker\": {\"colorbar\": {\"outlinewidth\": 0, \"ticks\": \"\"}}, \"type\": \"scatter3d\"}], \"scattercarpet\": [{\"marker\": {\"colorbar\": {\"outlinewidth\": 0, \"ticks\": \"\"}}, \"type\": \"scattercarpet\"}], \"scattergeo\": [{\"marker\": {\"colorbar\": {\"outlinewidth\": 0, \"ticks\": \"\"}}, \"type\": \"scattergeo\"}], \"scattergl\": [{\"marker\": {\"colorbar\": {\"outlinewidth\": 0, \"ticks\": \"\"}}, \"type\": \"scattergl\"}], \"scattermapbox\": [{\"marker\": {\"colorbar\": {\"outlinewidth\": 0, \"ticks\": \"\"}}, \"type\": \"scattermapbox\"}], \"scatterpolar\": [{\"marker\": {\"colorbar\": {\"outlinewidth\": 0, \"ticks\": \"\"}}, \"type\": \"scatterpolar\"}], \"scatterpolargl\": [{\"marker\": {\"colorbar\": {\"outlinewidth\": 0, \"ticks\": \"\"}}, \"type\": \"scatterpolargl\"}], \"scatterternary\": [{\"marker\": {\"colorbar\": {\"outlinewidth\": 0, \"ticks\": \"\"}}, \"type\": \"scatterternary\"}], \"surface\": [{\"colorbar\": {\"outlinewidth\": 0, \"ticks\": \"\"}, \"colorscale\": [[0.0, \"#0d0887\"], [0.1111111111111111, \"#46039f\"], [0.2222222222222222, \"#7201a8\"], [0.3333333333333333, \"#9c179e\"], [0.4444444444444444, \"#bd3786\"], [0.5555555555555556, \"#d8576b\"], [0.6666666666666666, \"#ed7953\"], [0.7777777777777778, \"#fb9f3a\"], [0.8888888888888888, \"#fdca26\"], [1.0, \"#f0f921\"]], \"type\": \"surface\"}], \"table\": [{\"cells\": {\"fill\": {\"color\": \"#EBF0F8\"}, \"line\": {\"color\": \"white\"}}, \"header\": {\"fill\": {\"color\": \"#C8D4E3\"}, \"line\": {\"color\": \"white\"}}, \"type\": \"table\"}]}, \"layout\": {\"annotationdefaults\": {\"arrowcolor\": \"#2a3f5f\", \"arrowhead\": 0, \"arrowwidth\": 1}, \"coloraxis\": {\"colorbar\": {\"outlinewidth\": 0, \"ticks\": \"\"}}, \"colorscale\": {\"diverging\": [[0, \"#8e0152\"], [0.1, \"#c51b7d\"], [0.2, \"#de77ae\"], [0.3, \"#f1b6da\"], [0.4, \"#fde0ef\"], [0.5, \"#f7f7f7\"], [0.6, \"#e6f5d0\"], [0.7, \"#b8e186\"], [0.8, \"#7fbc41\"], [0.9, \"#4d9221\"], [1, \"#276419\"]], \"sequential\": [[0.0, \"#0d0887\"], [0.1111111111111111, \"#46039f\"], [0.2222222222222222, \"#7201a8\"], [0.3333333333333333, \"#9c179e\"], [0.4444444444444444, \"#bd3786\"], [0.5555555555555556, \"#d8576b\"], [0.6666666666666666, \"#ed7953\"], [0.7777777777777778, \"#fb9f3a\"], [0.8888888888888888, \"#fdca26\"], [1.0, \"#f0f921\"]], \"sequentialminus\": [[0.0, \"#0d0887\"], [0.1111111111111111, \"#46039f\"], [0.2222222222222222, \"#7201a8\"], [0.3333333333333333, \"#9c179e\"], [0.4444444444444444, \"#bd3786\"], [0.5555555555555556, \"#d8576b\"], [0.6666666666666666, \"#ed7953\"], [0.7777777777777778, \"#fb9f3a\"], [0.8888888888888888, \"#fdca26\"], [1.0, \"#f0f921\"]]}, \"colorway\": [\"#636efa\", \"#EF553B\", \"#00cc96\", \"#ab63fa\", \"#FFA15A\", \"#19d3f3\", \"#FF6692\", \"#B6E880\", \"#FF97FF\", \"#FECB52\"], \"font\": {\"color\": \"#2a3f5f\"}, \"geo\": {\"bgcolor\": \"white\", \"lakecolor\": \"white\", \"landcolor\": \"#E5ECF6\", \"showlakes\": true, \"showland\": true, \"subunitcolor\": \"white\"}, \"hoverlabel\": {\"align\": \"left\"}, \"hovermode\": \"closest\", \"mapbox\": {\"style\": \"light\"}, \"paper_bgcolor\": \"white\", \"plot_bgcolor\": \"#E5ECF6\", \"polar\": {\"angularaxis\": {\"gridcolor\": \"white\", \"linecolor\": \"white\", \"ticks\": \"\"}, \"bgcolor\": \"#E5ECF6\", \"radialaxis\": {\"gridcolor\": \"white\", \"linecolor\": \"white\", \"ticks\": \"\"}}, \"scene\": {\"xaxis\": {\"backgroundcolor\": \"#E5ECF6\", \"gridcolor\": \"white\", \"gridwidth\": 2, \"linecolor\": \"white\", \"showbackground\": true, \"ticks\": \"\", \"zerolinecolor\": \"white\"}, \"yaxis\": {\"backgroundcolor\": \"#E5ECF6\", \"gridcolor\": \"white\", \"gridwidth\": 2, \"linecolor\": \"white\", \"showbackground\": true, \"ticks\": \"\", \"zerolinecolor\": \"white\"}, \"zaxis\": {\"backgroundcolor\": \"#E5ECF6\", \"gridcolor\": \"white\", \"gridwidth\": 2, \"linecolor\": \"white\", \"showbackground\": true, \"ticks\": \"\", \"zerolinecolor\": \"white\"}}, \"shapedefaults\": {\"line\": {\"color\": \"#2a3f5f\"}}, \"ternary\": {\"aaxis\": {\"gridcolor\": \"white\", \"linecolor\": \"white\", \"ticks\": \"\"}, \"baxis\": {\"gridcolor\": \"white\", \"linecolor\": \"white\", \"ticks\": \"\"}, \"bgcolor\": \"#E5ECF6\", \"caxis\": {\"gridcolor\": \"white\", \"linecolor\": \"white\", \"ticks\": \"\"}}, \"title\": {\"x\": 0.05}, \"xaxis\": {\"automargin\": true, \"gridcolor\": \"white\", \"linecolor\": \"white\", \"ticks\": \"\", \"title\": {\"standoff\": 15}, \"zerolinecolor\": \"white\", \"zerolinewidth\": 2}, \"yaxis\": {\"automargin\": true, \"gridcolor\": \"white\", \"linecolor\": \"white\", \"ticks\": \"\", \"title\": {\"standoff\": 15}, \"zerolinecolor\": \"white\", \"zerolinewidth\": 2}}}, \"xaxis\": {\"anchor\": \"y\", \"domain\": [0.0, 1.0], \"title\": {\"text\": \"Sum_of_Rolls\"}}, \"yaxis\": {\"anchor\": \"x\", \"domain\": [0.0, 1.0], \"title\": {\"text\": \"count\"}}},\n",
              "                        {\"responsive\": true}\n",
              "                    ).then(function(){\n",
              "                            \n",
              "var gd = document.getElementById('46a2f37b-654e-4605-911c-87634d783f48');\n",
              "var x = new MutationObserver(function (mutations, observer) {{\n",
              "        var display = window.getComputedStyle(gd).display;\n",
              "        if (!display || display === 'none') {{\n",
              "            console.log([gd, 'removed!']);\n",
              "            Plotly.purge(gd);\n",
              "            observer.disconnect();\n",
              "        }}\n",
              "}});\n",
              "\n",
              "// Listen for the removal of the full notebook cells\n",
              "var notebookContainer = gd.closest('#notebook-container');\n",
              "if (notebookContainer) {{\n",
              "    x.observe(notebookContainer, {childList: true});\n",
              "}}\n",
              "\n",
              "// Listen for the clearing of the current output cell\n",
              "var outputEl = gd.closest('.output');\n",
              "if (outputEl) {{\n",
              "    x.observe(outputEl, {childList: true});\n",
              "}}\n",
              "\n",
              "                        })\n",
              "                };\n",
              "                \n",
              "            </script>\n",
              "        </div>\n",
              "</body>\n",
              "</html>"
            ]
          },
          "metadata": {
            "tags": []
          }
        }
      ]
    },
    {
      "cell_type": "code",
      "metadata": {
        "id": "aWAYRPXbu9nv"
      },
      "source": [
        ""
      ],
      "execution_count": null,
      "outputs": []
    }
  ]
}